{
 "cells": [
  {
   "cell_type": "code",
   "execution_count": 1,
   "metadata": {},
   "outputs": [],
   "source": [
    "import numpy as np\n",
    "from matplotlib import pyplot as plt\n",
    "from scipy.interpolate import UnivariateSpline\n",
    "from scipy.interpolate import make_interp_spline, BSpline\n",
    "from sklearn.linear_model import ElasticNet"
   ]
  },
  {
   "cell_type": "markdown",
   "metadata": {},
   "source": [
    "$$\\frac{-\\Big[\\frac{-U}{\\lambda(2-q)} + 1\\Big]^{\\frac{1-q}{2-q}}}{\\lambda(1-q)}$$"
   ]
  },
  {
   "cell_type": "code",
   "execution_count": 2,
   "metadata": {},
   "outputs": [],
   "source": [
    "def inverse_cdf(λ, q, U):\n",
    "    k = -((-U/(λ*(2-q))) + 1)**((1-q)/(2-q))\n",
    "    return k/(λ*(1-q))"
   ]
  },
  {
   "cell_type": "markdown",
   "metadata": {},
   "source": [
    "$$(2-q)\\lambda e_{q}(-\\lambda x)$$\n",
    "\n",
    "$$e_{q} = [1 + (1 - q)x]^{1/(1-q)}$$"
   ]
  },
  {
   "cell_type": "code",
   "execution_count": 3,
   "metadata": {},
   "outputs": [],
   "source": [
    "def eq(x):\n",
    "    return (1 + (1 - q) * x)**(1/(1-q))\n",
    "\n",
    "def pdf(λ, q, x):\n",
    "    return (2 - q) * λ * eq((-λ) * x)"
   ]
  },
  {
   "cell_type": "code",
   "execution_count": 4,
   "metadata": {},
   "outputs": [],
   "source": [
    "# Scott's bin size\n",
    "def bin_width(σ, n):\n",
    "    return 3.5 * (σ/(n**(1/3)))\n",
    "\n",
    "def num_of_bins(data):\n",
    "    σ = np.std(data)\n",
    "    n = len(data)\n",
    "    width = bin_width(σ, n)\n",
    "    return np.ceil((np.max(data) - np.min(data))/ width), width"
   ]
  },
  {
   "cell_type": "code",
   "execution_count": 5,
   "metadata": {},
   "outputs": [],
   "source": [
    "def histogram(data, bins):\n",
    "    sorted_data = np.sort(data)\n",
    "    X = np.unique(sorted_data)\n",
    "    j = 0\n",
    "    count = 0\n",
    "    Px = []\n",
    "    for i in range(0, X.shape[0], bins):\n",
    "        X_min = X[i]\n",
    "        if (i + bins >= X.shape[0]):\n",
    "            X_max = X.max() + 1\n",
    "        else:\n",
    "            X_max = X[i + bins]\n",
    "        while((j < sorted_data.shape[0]) and (X_min <= sorted_data[j] < X_max)):\n",
    "            count += 1\n",
    "            j += 1\n",
    "        Px.append(count)\n",
    "        count = 0\n",
    "    return X[::bins], np.array(Px)/ len(data)"
   ]
  },
  {
   "cell_type": "code",
   "execution_count": 7,
   "metadata": {},
   "outputs": [],
   "source": [
    "def histogram_power(data, power):\n",
    "    X, X_counts = np.unique(data, return_counts=True)\n",
    "    width = [power**i for i in range(int(np.ceil(np.log(X.astype('int').max())/np.log(power))))]\n",
    "    x = 0\n",
    "    X_values = [x]\n",
    "    for w in width:\n",
    "        x += w\n",
    "        X_values.append(x)\n",
    "    j = 0\n",
    "    count = 0\n",
    "    CPx = []\n",
    "    for i in range(1, len(X_values)):\n",
    "        while((j < X.shape[0]) and (X_values[i-1] <= X[j] < X_values[i])):\n",
    "            count += X_counts[j]\n",
    "            j += 1\n",
    "        CPx.append(count)\n",
    "        count = 0\n",
    "    return X, np.array(CPx), np.array(X_values), width"
   ]
  },
  {
   "cell_type": "code",
   "execution_count": 9,
   "metadata": {},
   "outputs": [],
   "source": [
    "def histogram_one(data):\n",
    "    X, X_counts = np.unique(data, return_counts=True)\n",
    "    width = [i for i in range(X.astype('int').max())]\n",
    "    x = 0\n",
    "    X_values = []\n",
    "    for w in width:\n",
    "        x += w\n",
    "        X_values.append(x)\n",
    "    j = 0\n",
    "    count = 0\n",
    "    CPx = []\n",
    "    for i in range(1, len(X_values)):\n",
    "        while((j < X.shape[0]) and (X_values[i-1] <= X[j] < X_values[i])):\n",
    "            count += X_counts[j]\n",
    "            j += 1\n",
    "        CPx.append(count)\n",
    "        count = 0\n",
    "    return X, np.array(CPx), np.array(X_values), width"
   ]
  },
  {
   "cell_type": "code",
   "execution_count": 34,
   "metadata": {},
   "outputs": [],
   "source": [
    "data = np.loadtxt(\"/home/marcio/qExp13_2.txt\", delimiter=',')"
   ]
  },
  {
   "cell_type": "code",
   "execution_count": 35,
   "metadata": {},
   "outputs": [
    {
     "data": {
      "text/plain": [
       "array([  0.,   1.,   2.,   3.,   4.,   5.,   6.,   7.,   8.,   9.,  10.,\n",
       "        11.,  12.,  13.,  14.,  15.,  16.,  17.,  18.,  19.,  20.,  21.,\n",
       "        22.,  23.,  24.,  25.,  26.,  27.,  28.,  29.,  30.,  31.,  32.,\n",
       "        33.,  34.,  35.,  36.,  37.,  38.,  39.,  40.,  41.,  42.,  43.,\n",
       "        44.,  45.,  46.,  47.,  48.,  49.,  50.,  51.,  52.,  53.,  54.,\n",
       "        55.,  56.,  57.,  58.,  59.,  60.,  61.,  62.,  63.,  64.,  65.,\n",
       "        66.,  67.,  68.,  69.,  70.,  71.,  72.,  73.,  74.,  75.,  76.,\n",
       "        77.,  78.,  79.,  80.,  81.,  82.,  83.,  84.,  85.,  86.,  87.,\n",
       "        88.,  89.,  90.,  91.,  92.,  93.,  94.,  95.,  96.,  97.,  98.,\n",
       "        99., 100., 101., 102., 103., 104., 105., 106., 107., 108., 109.,\n",
       "       110., 111., 112., 113., 114., 115., 116., 117., 118., 119., 120.,\n",
       "       121., 122., 123., 124., 125., 126., 127., 128., 129., 130., 131.,\n",
       "       132., 133., 134., 135., 136., 137., 138., 139., 140., 141., 142.,\n",
       "       143., 144., 145., 146., 147., 148., 149., 150., 151., 153., 154.,\n",
       "       155., 156., 157., 158., 159., 161., 164., 165., 166., 169., 170.,\n",
       "       171., 173., 174., 175., 176., 178., 180., 181., 182., 183., 184.,\n",
       "       185., 186., 187., 188., 190., 191., 193., 194., 196., 197., 199.,\n",
       "       200., 201., 202., 204., 205., 207., 209., 214., 217., 218., 219.,\n",
       "       221., 222., 223., 224., 225., 226., 230., 232., 233., 234., 239.,\n",
       "       241., 242., 247., 248., 254., 263., 275., 280., 285., 288., 292.,\n",
       "       307., 311., 335., 340., 341., 358., 360., 367., 382., 409., 410.,\n",
       "       420., 423., 431., 442., 487., 504., 513., 580., 587., 666.])"
      ]
     },
     "execution_count": 35,
     "metadata": {},
     "output_type": "execute_result"
    }
   ],
   "source": [
    "np.unique(data)"
   ]
  },
  {
   "cell_type": "code",
   "execution_count": 174,
   "metadata": {},
   "outputs": [],
   "source": [
    "power = np.sqrt(1.5)\n",
    "X, CPx, X_values, width = histogram_power(data, power)"
   ]
  },
  {
   "cell_type": "code",
   "execution_count": 175,
   "metadata": {},
   "outputs": [],
   "source": [
    "Px = np.array([CPx[i]/width[i] for i in range(len(CPx))]) / len(data)"
   ]
  },
  {
   "cell_type": "code",
   "execution_count": 176,
   "metadata": {},
   "outputs": [],
   "source": [
    "def int_eq(λ, q, x):\n",
    "    return -(1 - (1 - q) * λ * x) ** ((2 - q) / (1 - q))"
   ]
  },
  {
   "cell_type": "code",
   "execution_count": 201,
   "metadata": {},
   "outputs": [],
   "source": [
    "λ = 2\n",
    "q = 1.3\n",
    "xmin = 2\n",
    "α = 1 / (1 - (int_eq(λ, q, 10E3) - int_eq(λ, q, 0)))\n",
    "fx = pdf(λ, q, np.array(range(1000)))\n",
    "factor = fx.sum()\n",
    "# Px = factor * Px\n",
    "fx = α * pdf(λ, q, X_values7[:-1])\n",
    "# fx = pdf(λ, q, X_values)"
   ]
  },
  {
   "cell_type": "code",
   "execution_count": 40,
   "metadata": {},
   "outputs": [
    {
     "data": {
      "text/plain": [
       "1.9090928510843688"
      ]
     },
     "execution_count": 40,
     "metadata": {},
     "output_type": "execute_result"
    }
   ],
   "source": [
    "factor"
   ]
  },
  {
   "cell_type": "code",
   "execution_count": 41,
   "metadata": {},
   "outputs": [],
   "source": [
    "from scipy import integrate"
   ]
  },
  {
   "cell_type": "code",
   "execution_count": 42,
   "metadata": {},
   "outputs": [
    {
     "data": {
      "text/plain": [
       "1.0147529047204242"
      ]
     },
     "execution_count": 42,
     "metadata": {},
     "output_type": "execute_result"
    }
   ],
   "source": [
    "integrate.simps(fx, X_values[:-1])"
   ]
  },
  {
   "cell_type": "code",
   "execution_count": 43,
   "metadata": {},
   "outputs": [],
   "source": [
    "k = integrate.simps(fx, X_values[:-1])/ integrate.simps(Px, X_values[:-1])"
   ]
  },
  {
   "cell_type": "code",
   "execution_count": 44,
   "metadata": {},
   "outputs": [
    {
     "data": {
      "text/plain": [
       "1.9710142569190994"
      ]
     },
     "execution_count": 44,
     "metadata": {},
     "output_type": "execute_result"
    }
   ],
   "source": [
    "k"
   ]
  },
  {
   "cell_type": "code",
   "execution_count": 45,
   "metadata": {},
   "outputs": [
    {
     "data": {
      "text/plain": [
       "0.3820140335240164"
      ]
     },
     "execution_count": 45,
     "metadata": {},
     "output_type": "execute_result"
    }
   ],
   "source": [
    "Px[3] / fx[3]"
   ]
  },
  {
   "cell_type": "code",
   "execution_count": 306,
   "metadata": {},
   "outputs": [
    {
     "name": "stderr",
     "output_type": "stream",
     "text": [
      "/usr/local/lib/python3.6/dist-packages/ipykernel_launcher.py:11: UserWarning: Attempted to set non-positive left xlim on a log-scaled axis.\n",
      "Invalid limit will be ignored.\n",
      "  # This is added back by InteractiveShellApp.init_path()\n"
     ]
    },
    {
     "data": {
      "image/png": "[encoded data removed]",
      "text/plain": [
       "<Figure size 576x576 with 1 Axes>"
      ]
     },
     "metadata": {
      "needs_background": "light"
     },
     "output_type": "display_data"
    }
   ],
   "source": [
    "# plot it!\n",
    "fig = plt.figure(figsize=(8, 8))\n",
    "ax = fig.add_subplot(111)\n",
    "ax.plot(X_values[:-1], Px, color='#001072', marker='o', label='Discrete')\n",
    "# ax.plot(range(1000), factor, color='#001072')\n",
    "ax.plot(X_values7, α * (fx / factor), 'go--', color = '#000000',linewidth=2, markersize=1, label='Continuous')\n",
    "plt.title(\"Parameters: $\\lambda$: \" + str(λ) + \", q: \" + str(q) + \", $x_{min}$: 0\")\n",
    "ax.legend()\n",
    "plt.xscale('log')\n",
    "plt.yscale('log')\n",
    "plt.xlim(0, 10000)\n",
    "plt.savefig(\"Comparison_cont.jpg\", format='jpg', dpi=1200, bbox_inches = 'tight')\n",
    "plt.show()"
   ]
  },
  {
   "cell_type": "code",
   "execution_count": 290,
   "metadata": {},
   "outputs": [],
   "source": [
    "data3 = np.loadtxt(\"/home/marcio/qExp13_2_3.txt\", delimiter=',')\n",
    "data4 = np.loadtxt(\"/home/marcio/qExp13_2_4.txt\", delimiter=',')\n",
    "data5 = np.loadtxt(\"/home/marcio/qExp13_2_5.txt\", delimiter=',')\n",
    "data6 = np.loadtxt(\"/home/marcio/qExp13_2_6.txt\", delimiter=',')\n",
    "data7 = np.loadtxt(\"/home/marcio/qExp13_2_7.txt\", delimiter=',')"
   ]
  },
  {
   "cell_type": "code",
   "execution_count": 291,
   "metadata": {},
   "outputs": [],
   "source": [
    "power = np.sqrt(3.1)\n",
    "X3, CPx3, X_values3, width3 = histogram_power(data3, power)\n",
    "X4, CPx4, X_values4, width4 = histogram_power(data4, power)\n",
    "X5, CPx5, X_values5, width5 = histogram_power(data5, power)\n",
    "X6, CPx6, X_values6, width6 = histogram_power(data6, power)\n",
    "X7, CPx7, X_values7, width7 = histogram_power(data7, power)"
   ]
  },
  {
   "cell_type": "code",
   "execution_count": 292,
   "metadata": {},
   "outputs": [],
   "source": [
    "# width3 = [power**i for i in range(int(np.floor(np.log(X3.astype('int').max())/np.log(power))))]\n",
    "# width4 = [power**i for i in range(int(np.floor(np.log(X4.astype('int').max())/np.log(power))))]\n",
    "# width5 = [power**i for i in range(int(np.floor(np.log(X5.astype('int').max())/np.log(power))))]\n",
    "# width6 = [power**i for i in range(int(np.floor(np.log(X6.astype('int').max())/np.log(power))))]\n",
    "# width7 = [power**i for i in range(int(np.floor(np.log(X7.astype('int').max())/np.log(power))))]"
   ]
  },
  {
   "cell_type": "code",
   "execution_count": 293,
   "metadata": {},
   "outputs": [
    {
     "data": {
      "text/plain": [
       "(5, 5)"
      ]
     },
     "execution_count": 293,
     "metadata": {},
     "output_type": "execute_result"
    }
   ],
   "source": [
    "len(CPx3) , len(width3)"
   ]
  },
  {
   "cell_type": "code",
   "execution_count": 294,
   "metadata": {},
   "outputs": [],
   "source": [
    "Px3 = np.array([CPx3[i]/width3[i] for i in range(len(CPx3))]) / len(data3)\n",
    "Px4 = np.array([CPx4[i]/width4[i] for i in range(len(CPx4))]) / len(data4)\n",
    "Px5 = np.array([CPx5[i]/width5[i] for i in range(len(CPx5))]) / len(data5)\n",
    "Px6 = np.array([CPx6[i]/width6[i] for i in range(len(CPx6))]) / len(data6)\n",
    "Px7 = np.array([CPx7[i]/width7[i] for i in range(len(CPx7))]) / len(data7)"
   ]
  },
  {
   "cell_type": "code",
   "execution_count": 295,
   "metadata": {},
   "outputs": [
    {
     "data": {
      "text/plain": [
       "1.1888623133447516"
      ]
     },
     "execution_count": 295,
     "metadata": {},
     "output_type": "execute_result"
    }
   ],
   "source": [
    "1/ (1 - (int_eq(λ, q, 10E7)- int_eq(λ, q, 2)))"
   ]
  },
  {
   "cell_type": "code",
   "execution_count": 296,
   "metadata": {},
   "outputs": [
    {
     "data": {
      "text/plain": [
       "1.1904761904761905"
      ]
     },
     "execution_count": 296,
     "metadata": {},
     "output_type": "execute_result"
    }
   ],
   "source": [
    "1/0.84"
   ]
  },
  {
   "cell_type": "code",
   "execution_count": 297,
   "metadata": {},
   "outputs": [],
   "source": [
    "λ = 2\n",
    "q = 1.3\n",
    "xmin = 2\n",
    "α = 1/ (1 - (int_eq(λ, q, 10E7)- int_eq(λ, q, 2)))\n",
    "fx2 =  pdf(λ, q, X_values7)"
   ]
  },
  {
   "cell_type": "code",
   "execution_count": 298,
   "metadata": {},
   "outputs": [
    {
     "data": {
      "text/plain": [
       "1.1888623133447516"
      ]
     },
     "execution_count": 298,
     "metadata": {},
     "output_type": "execute_result"
    }
   ],
   "source": [
    "α"
   ]
  },
  {
   "cell_type": "code",
   "execution_count": 299,
   "metadata": {},
   "outputs": [
    {
     "data": {
      "text/plain": [
       "array([7.33529500e-01, 1.68025933e-01, 1.58148000e-02, 1.06830413e-02,\n",
       "       3.35737778e-03, 1.71453395e-03, 5.98755556e-04, 3.56766669e-04,\n",
       "       1.23555556e-04, 6.01909183e-05, 2.70485597e-05, 1.56444777e-05,\n",
       "       6.90919067e-06, 3.64858609e-06, 1.84362140e-06, 8.69734995e-07,\n",
       "       4.56515775e-07, 2.67610768e-07, 1.14454097e-07, 5.73451645e-08,\n",
       "       1.56073769e-08, 1.13274399e-08, 8.09271396e-09, 2.83185998e-09,\n",
       "       2.31220399e-09, 0.00000000e+00, 0.00000000e+00, 0.00000000e+00,\n",
       "       0.00000000e+00, 0.00000000e+00, 0.00000000e+00, 0.00000000e+00,\n",
       "       0.00000000e+00])"
      ]
     },
     "execution_count": 299,
     "metadata": {},
     "output_type": "execute_result"
    }
   ],
   "source": [
    "Px"
   ]
  },
  {
   "cell_type": "code",
   "execution_count": 302,
   "metadata": {},
   "outputs": [
    {
     "name": "stderr",
     "output_type": "stream",
     "text": [
      "/usr/local/lib/python3.6/dist-packages/ipykernel_launcher.py:18: UserWarning: Attempted to set non-positive left xlim on a log-scaled axis.\n",
      "Invalid limit will be ignored.\n"
     ]
    },
    {
     "data": {
      "image/png": "[encoded data removed]",
      "text/plain": [
       "<Figure size 576x576 with 1 Axes>"
      ]
     },
     "metadata": {
      "needs_background": "light"
     },
     "output_type": "display_data"
    }
   ],
   "source": [
    "# plot it!\n",
    "fig = plt.figure(figsize=(8, 8))\n",
    "ax = fig.add_subplot(111)\n",
    "ax.plot(X_values3[:-1], Px3,  label='N = 10E3')\n",
    "ax.plot(X_values4[:-1], Px4,  label='N = 10E4')\n",
    "ax.plot(X_values5, np.append(Px5, 0),  label='N = 10E5')\n",
    "ax.plot(X_values6[:-1], Px6,  label='N = 10E6')\n",
    "ax.plot(X_values7[:-1], Px7,  label='N = 10E7')\n",
    "ax.plot(X_values7, fx / factor, 'go--', color = '#000000',linewidth=2, markersize=1, label='Continuous')\n",
    "\n",
    "# ax.scatter(X_values[:-1], Px/(len(data)), color='#001072', marker='x', label='Discrete / 10E5')\n",
    "# ax.plot(X_values[:-1], Px, color='#001072', alpha=0.25, label='Discrete')\n",
    "plt.title(\"Parameters: $\\lambda$: \" + str(λ) + \", q: \" + str(q) + \", $x_{min}$: 0\")\n",
    "# ax.plot(X_values7, fx, 'go--', color = '#000000',linewidth=2, markersize=1, label='Continuous')\n",
    "ax.legend()\n",
    "plt.xscale('log')\n",
    "plt.yscale('log')\n",
    "plt.xlim(0, 10000)\n",
    "plt.savefig(\"Comparison_cont.jpg\", format='jpg', dpi=1200, bbox_inches = 'tight')\n",
    "plt.show()"
   ]
  }
 ],
 "metadata": {
  "kernelspec": {
   "display_name": "Python 3",
   "language": "python",
   "name": "python3"
  },
  "language_info": {
   "codemirror_mode": {
    "name": "ipython",
    "version": 3
   },
   "file_extension": ".py",
   "mimetype": "text/x-python",
   "name": "python",
   "nbconvert_exporter": "python",
   "pygments_lexer": "ipython3",
   "version": "3.6.7"
  }
 },
 "nbformat": 4,
 "nbformat_minor": 2
}
