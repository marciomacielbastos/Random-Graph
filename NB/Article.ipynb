{
 "cells": [
  {
   "cell_type": "markdown",
   "metadata": {},
   "source": [
    "The present study describes random networks whose nodes' degrees follow a q-Exponential distribution. This distribution is characterized by the probability density function (PDF) defined by the equations (\\ref{eq1}) and (\\ref{eq2}), notice that the q-Exponential distribution is a generalization of the Exponential distribution.\n",
    "\n",
    "\\begin{align}\n",
    "    f(x) &= \\begin{cases}\n",
    "             (2-q)\\lambda e_{q}(-\\lambda x)       & \\quad \\text{if } q \\neq 1\\\\\n",
    "             \\lambda e^{-\\lambda x} & \\quad \\text{if } q = 1 \\label{eq1}\\tag{1}\n",
    "            \\end{cases}\\\\\n",
    "    e_{q}(x) &= [1 + (1 - q)x]^\\frac{1}{1-q} \\label{eq2}\\tag{2}\\\\\n",
    "\\end{align}"
   ]
  },
  {
   "cell_type": "markdown",
   "metadata": {},
   "source": [
    "![img1](percolac_log_0_1.jpg)"
   ]
  }
 ],
 "metadata": {
  "kernelspec": {
   "display_name": "Python 3",
   "language": "python",
   "name": "python3"
  },
  "language_info": {
   "codemirror_mode": {
    "name": "ipython",
    "version": 3
   },
   "file_extension": ".py",
   "mimetype": "text/x-python",
   "name": "python",
   "nbconvert_exporter": "python",
   "pygments_lexer": "ipython3",
   "version": "3.6.8"
  }
 },
 "nbformat": 4,
 "nbformat_minor": 2
}
