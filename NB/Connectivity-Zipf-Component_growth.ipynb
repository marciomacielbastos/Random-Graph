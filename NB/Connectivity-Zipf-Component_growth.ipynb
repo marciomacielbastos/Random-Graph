{
 "cells": [
  {
   "cell_type": "code",
   "execution_count": 1,
   "metadata": {},
   "outputs": [
    {
     "ename": "ModuleNotFoundError",
     "evalue": "No module named 'pandas'",
     "output_type": "error",
     "traceback": [
      "\u001b[0;31m---------------------------------------------------------------------------\u001b[0m",
      "\u001b[0;31mModuleNotFoundError\u001b[0m                       Traceback (most recent call last)",
      "\u001b[0;32m<ipython-input-1-cea067140304>\u001b[0m in \u001b[0;36m<module>\u001b[0;34m\u001b[0m\n\u001b[1;32m      7\u001b[0m \u001b[0;32mfrom\u001b[0m \u001b[0mdecimal\u001b[0m \u001b[0;32mimport\u001b[0m \u001b[0mDecimal\u001b[0m\u001b[0;34m\u001b[0m\u001b[0;34m\u001b[0m\u001b[0m\n\u001b[1;32m      8\u001b[0m \u001b[0;32mfrom\u001b[0m \u001b[0mmatplotlib\u001b[0m\u001b[0;34m.\u001b[0m\u001b[0mticker\u001b[0m \u001b[0;32mimport\u001b[0m \u001b[0mMaxNLocator\u001b[0m\u001b[0;34m\u001b[0m\u001b[0;34m\u001b[0m\u001b[0m\n\u001b[0;32m----> 9\u001b[0;31m \u001b[0;32mimport\u001b[0m \u001b[0mpandas\u001b[0m \u001b[0;32mas\u001b[0m \u001b[0mpd\u001b[0m\u001b[0;34m\u001b[0m\u001b[0;34m\u001b[0m\u001b[0m\n\u001b[0m",
      "\u001b[0;31mModuleNotFoundError\u001b[0m: No module named 'pandas'"
     ]
    }
   ],
   "source": [
    "from matplotlib import pyplot as plt\n",
    "from sklearn import linear_model\n",
    "from sklearn.metrics import mean_squared_error, r2_score\n",
    "from scipy.optimize import curve_fit\n",
    "from scipy import stats\n",
    "import numpy as np\n",
    "from decimal import Decimal\n",
    "from matplotlib.ticker import MaxNLocator\n",
    "import pandas as pd"
   ]
  },
  {
   "cell_type": "markdown",
   "metadata": {},
   "source": [
    "# Load results"
   ]
  },
  {
   "cell_type": "code",
   "execution_count": null,
   "metadata": {},
   "outputs": [],
   "source": [
    "comp_110E1 = np.loadtxt(\"/home/marcio/Projects/Random-Graph/Random-Graph/Results/Sz1/stats_zipf_1105.txt\", delimiter=\",\")\n",
    "comp_110E2 = np.loadtxt(\"/home/marcio/Projects/Random-Graph/Random-Graph/Results/Sz1/stats_zipf_11005.txt\", delimiter=\",\")\n",
    "comp_110E3 = np.loadtxt(\"/home/marcio/Projects/Random-Graph/Random-Graph/Results/Sz1/stats_zipf_110005.txt\", delimiter=\",\")\n",
    "comp_110E4 = np.loadtxt(\"/home/marcio/Projects/Random-Graph/Random-Graph/Results/Sz1/stats_zipf_1100005.txt\", delimiter=\",\")\n",
    "comp_110E5 = np.loadtxt(\"/home/marcio/Projects/Random-Graph/Random-Graph/Results/Sz1/stats_zipf_11000005.txt\", delimiter=\",\")\n",
    "comp_110E6 = np.loadtxt(\"/home/marcio/Projects/Random-Graph/Random-Graph/Results/Sz1/stats_zipf_110000005.txt\", delimiter=\",\")\n",
    "comp_110E7 = np.loadtxt(\"/home/marcio/Projects/Random-Graph/Random-Graph/Results/Sz1/stats_zipf_1100000005.txt\", delimiter=\",\")"
   ]
  },
  {
   "cell_type": "code",
   "execution_count": null,
   "metadata": {},
   "outputs": [],
   "source": [
    "comp_210E1 = np.loadtxt(\"/home/marcio/Projects/Random-Graph/Random-Graph/Results/Sz2/stats_zipf_2105.txt\", delimiter=\",\")\n",
    "comp_210E2 = np.loadtxt(\"/home/marcio/Projects/Random-Graph/Random-Graph/Results/Sz2/stats_zipf_21005.txt\", delimiter=\",\")\n",
    "comp_210E3 = np.loadtxt(\"/home/marcio/Projects/Random-Graph/Random-Graph/Results/Sz2/stats_zipf_210005.txt\", delimiter=\",\")\n",
    "comp_210E4 = np.loadtxt(\"/home/marcio/Projects/Random-Graph/Random-Graph/Results/Sz2/stats_zipf_2100005.txt\", delimiter=\",\")\n",
    "comp_210E5 = np.loadtxt(\"/home/marcio/Projects/Random-Graph/Random-Graph/Results/Sz2/stats_zipf_21000005.txt\", delimiter=\",\")\n",
    "comp_210E6 = np.loadtxt(\"/home/marcio/Projects/Random-Graph/Random-Graph/Results/Sz2/stats_zipf_210000005.txt\", delimiter=\",\")\n",
    "comp_210E7 = np.loadtxt(\"/home/marcio/Projects/Random-Graph/Random-Graph/Results/Sz2/stats_zipf_2100000005.txt\", delimiter=\",\")"
   ]
  },
  {
   "cell_type": "markdown",
   "metadata": {},
   "source": [
    "# Set data"
   ]
  },
  {
   "cell_type": "code",
   "execution_count": null,
   "metadata": {},
   "outputs": [],
   "source": [
    "# Biggest component size (effective total number of nodes)\n",
    "g_comp1 = np.array([comp_110E1[0][1], comp_110E2[0][1], comp_110E3[0][1], comp_110E4[0][1], comp_110E5[0][1], comp_110E6[0][1], comp_110E7[0][1]])\n",
    "g_comp2 = np.array([comp_210E1[0][1], comp_210E2[0][1], comp_210E3[0][1], comp_210E4[0][1], comp_210E5[0][1], comp_210E6[0][1], comp_210E7[0][1]])"
   ]
  },
  {
   "cell_type": "code",
   "execution_count": null,
   "metadata": {},
   "outputs": [],
   "source": [
    "# Number of cluster / cluster size graphs for Kmin = 1 and Kmin = 2\n",
    "g1 = [comp_110E1[2:].T, comp_110E2[2:].T, comp_110E3[2:].T, comp_110E4[2:].T, comp_110E5[2:].T, comp_110E6[2:].T, comp_110E7[2:].T]\n",
    "g2_ = [comp_210E1[2:].T, comp_210E2[2:].T, comp_210E3[2:].T, comp_210E4[2:].T, comp_210E5[2:].T, comp_210E6[2:].T, comp_210E7[2:].T]\n",
    "g2 = [g2_[i].T[np.all(g2_[i].T != 0, axis=1)].T for i in range(7)]"
   ]
  },
  {
   "cell_type": "code",
   "execution_count": null,
   "metadata": {},
   "outputs": [],
   "source": [
    "# Total number of nodes\n",
    "N = np.array([1e1, 1e2, 1e3, 1e4, 1e5, 1e6, 1e7])"
   ]
  },
  {
   "cell_type": "code",
   "execution_count": null,
   "metadata": {},
   "outputs": [],
   "source": [
    "font = {'family': 'serif',\n",
    "        'color':  'black',\n",
    "        'weight': 'normal',\n",
    "        'size': 16,\n",
    "        }\n",
    "font1 ={'family': 'serif',\n",
    "        'color':  'blue',\n",
    "        'weight': 'normal',\n",
    "        'size': 16,\n",
    "        }\n",
    "\n",
    "fig, ax = plt.subplots()\n",
    "\n",
    "ax.scatter(N, g_comp1/N, color='black', facecolors='C0')\n",
    "ax.plot(N, g_comp1/N, color='C0', alpha=0.3)\n",
    "ax.axhline(y=0, color = 'darkred', alpha=0.3, label='y = 0')\n",
    "ax.legend(loc='upper right', shadow=True, fontsize='x-large')\n",
    "plt.ylabel('$N_{eff}/N$', fontdict=font, rotation=0, labelpad=20)\n",
    "plt.xlabel('$\\log(N)$', font)\n",
    "plt.xscale('log')\n",
    "plt.ylim(-0.1, 0.25)\n",
    "plt.title(\"Zipf Network $K_{min} = 1$\")\n",
    "plt.savefig(\"t1.jpg\", format='jpg', dpi=1200, bbox_inches = 'tight')"
   ]
  },
  {
   "cell_type": "code",
   "execution_count": null,
   "metadata": {},
   "outputs": [],
   "source": [
    "font = {'family': 'serif',\n",
    "        'color':  'black',\n",
    "        'weight': 'normal',\n",
    "        'size': 16,\n",
    "        }\n",
    "font1 ={'family': 'serif',\n",
    "        'color':  'blue',\n",
    "        'weight': 'normal',\n",
    "        'size': 16,\n",
    "        }\n",
    "\n",
    "fig, ax = plt.subplots()\n",
    "\n",
    "ax.scatter(N, g_comp2/N, color='black', facecolors='C0')\n",
    "ax.plot(N, g_comp2/N, color='C0', alpha=0.3)\n",
    "ax.axhline(y=1, color = 'darkred', alpha=0.3, label='y = 1')\n",
    "ax.legend(loc='center right', shadow=True, fontsize='x-large')\n",
    "plt.ylabel('$N_{eff}/N$', fontdict=font, rotation=0, labelpad=25)\n",
    "plt.xlabel('$\\log(N)$', font)\n",
    "plt.xscale('log')\n",
    "plt.title(\"Zipf Network $K_{min} = 2$\")\n",
    "plt.savefig(\"t2.jpg\", format='jpg', dpi=1200, bbox_inches = 'tight')"
   ]
  },
  {
   "cell_type": "code",
   "execution_count": null,
   "metadata": {},
   "outputs": [],
   "source": [
    "ax = []\n",
    "fig = plt.figure(figsize=(16, 16))\n",
    "title = plt.title(\"$K_{min} = 1$\", bbox=dict(edgecolor='black', facecolor='white'), fontdict={'fontsize': 25}, pad=20)\n",
    "plt.axis('off')\n",
    "for i in range(7):\n",
    "    ax.append(fig.add_subplot(420+(i+1)))\n",
    "for i in range(7):\n",
    "    ax[i].scatter(g1[i][0], g1[i][1], alpha=0.6, color='black');\n",
    "#     ax[i].axvline(x=votes.T[i].mean(), alpha=0.4, c='#FF007F', label='Empirical mean')\n",
    "    t = ax[i].text(0.82, 0.92, \"N = %.2E\" % Decimal(N[i]), horizontalalignment='center',\n",
    "                   verticalalignment='center', transform = ax[i].transAxes)\n",
    "    t.set_bbox(dict(facecolor='blue', alpha=0.1, edgecolor='red'))\n",
    "    ax[i].set_ylabel('log(#$C$)', rotation=0, labelpad=10)\n",
    "    ax[i].set_xlabel('$Size$')\n",
    "    ax[i].set_yscale('log',  basey=10)\n",
    "    ax[i].xaxis.set_major_locator(MaxNLocator(integer=True))\n",
    "plt.savefig(\"f1.jpg\", format='jpg', dpi=1200, bbox_inches = 'tight')"
   ]
  },
  {
   "cell_type": "code",
   "execution_count": null,
   "metadata": {},
   "outputs": [],
   "source": [
    "ax = []\n",
    "fig = plt.figure(figsize=(16, 16))\n",
    "title = plt.title(\"$K_{min} = 1$\", bbox=dict(edgecolor='black', facecolor='white'), fontdict={'fontsize': 25}, pad=20)\n",
    "plt.axis('off')\n",
    "for i in range(7):\n",
    "    ax.append(fig.add_subplot(420+(i+1)))\n",
    "for i in range(7):\n",
    "    ax[i].scatter(g2[i][0], g2[i][1], alpha=0.6, color='black');\n",
    "#     ax.axhline(y=0, color = 'darkred', alpha=0.3, label='y = 0')\n",
    "#     ax[i].axvline(x=votes.T[i].mean(), alpha=0.4, c='#FF007F', label='Empirical mean')\n",
    "    t = ax[i].text(0.82, 0.92, \"N = %.2E\" % Decimal(N[i]), horizontalalignment='center',\n",
    "                   verticalalignment='center', transform = ax[i].transAxes)\n",
    "    t.set_bbox(dict(facecolor='blue', alpha=0.1, edgecolor='red'))\n",
    "    ax[i].set_ylabel('#$C$', rotation=0, labelpad=10)\n",
    "    ax[i].set_xlabel('$Size$')\n",
    "    ax[i].xaxis.set_major_locator(MaxNLocator(integer=True))\n",
    "plt.savefig(\"f2.jpg\", format='jpg', dpi=1200, bbox_inches = 'tight')"
   ]
  },
  {
   "cell_type": "code",
   "execution_count": null,
   "metadata": {},
   "outputs": [],
   "source": []
  },
  {
   "cell_type": "code",
   "execution_count": null,
   "metadata": {},
   "outputs": [],
   "source": []
  }
 ],
 "metadata": {
  "kernelspec": {
   "display_name": "Python 3",
   "language": "python",
   "name": "python3"
  },
  "language_info": {
   "codemirror_mode": {
    "name": "ipython",
    "version": 3
   },
   "file_extension": ".py",
   "mimetype": "text/x-python",
   "name": "python",
   "nbconvert_exporter": "python",
   "pygments_lexer": "ipython3",
   "version": "3.6.7"
  }
 },
 "nbformat": 4,
 "nbformat_minor": 2
}
