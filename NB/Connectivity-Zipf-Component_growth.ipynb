{
 "cells": [
  {
   "cell_type": "code",
   "execution_count": 1,
   "metadata": {},
   "outputs": [],
   "source": [
    "from matplotlib import pyplot as plt\n",
    "from sklearn import linear_model\n",
    "from sklearn.metrics import mean_squared_error, r2_score\n",
    "from scipy.optimize import curve_fit\n",
    "from scipy import stats\n",
    "import numpy as np\n",
    "from decimal import Decimal\n",
    "from matplotlib.ticker import MaxNLocator\n",
    "import pandas as pd"
   ]
  },
  {
   "cell_type": "markdown",
   "metadata": {},
   "source": [
    "# Load results"
   ]
  },
  {
   "cell_type": "code",
   "execution_count": 2,
   "metadata": {},
   "outputs": [],
   "source": [
    "mlz_251E1 = np.loadtxt(\"/home/marcio/Projects/Random-Graph/Random-Graph/Results/Mean/mean_l_Z102_52.txt\", delimiter=\",\")\n",
    "mlz_251E2 = np.loadtxt(\"/home/marcio/Projects/Random-Graph/Random-Graph/Results/Mean/mean_l_Z1002_52.txt\", delimiter=\",\")\n",
    "mlz_251E3 = np.loadtxt(\"/home/marcio/Projects/Random-Graph/Random-Graph/Results/Mean/mean_l_Z10002_52.txt\", delimiter=\",\")\n",
    "mlz_251E4 = np.loadtxt(\"/home/marcio/Projects/Random-Graph/Random-Graph/Results/Mean/mean_l_Z100002_52.txt\", delimiter=\",\")\n",
    "mlz_251E5 = np.loadtxt(\"/home/marcio/Projects/Random-Graph/Random-Graph/Results/Mean/mean_l_Z1000002_52.txt\", delimiter=\",\")\n",
    "mlz_251E6 = np.loadtxt(\"/home/marcio/Projects/Random-Graph/Random-Graph/Results/Mean/mean_l_Z10000002_52.txt\", delimiter=\",\")\n",
    "mlz_251E7 = np.loadtxt(\"/home/marcio/Projects/Random-Graph/Random-Graph/Results/Mean/mean_l_Z100000002_52.txt\", delimiter=\",\")"
   ]
  },
  {
   "cell_type": "code",
   "execution_count": 3,
   "metadata": {},
   "outputs": [],
   "source": [
    "mlz_351E1 = np.loadtxt(\"/home/marcio/Projects/Random-Graph/Random-Graph/Results/Mean/mean_l_Z103_52.txt\", delimiter=\",\")\n",
    "mlz_351E2 = np.loadtxt(\"/home/marcio/Projects/Random-Graph/Random-Graph/Results/Mean/mean_l_Z1003_52.txt\", delimiter=\",\")\n",
    "mlz_351E3 = np.loadtxt(\"/home/marcio/Projects/Random-Graph/Random-Graph/Results/Mean/mean_l_Z10003_52.txt\", delimiter=\",\")\n",
    "mlz_351E4 = np.loadtxt(\"/home/marcio/Projects/Random-Graph/Random-Graph/Results/Mean/mean_l_Z100003_52.txt\", delimiter=\",\")\n",
    "mlz_351E5 = np.loadtxt(\"/home/marcio/Projects/Random-Graph/Random-Graph/Results/Mean/mean_l_Z1000003_52.txt\", delimiter=\",\")\n",
    "mlz_351E6 = np.loadtxt(\"/home/marcio/Projects/Random-Graph/Random-Graph/Results/Mean/mean_l_Z10000003_52.txt\", delimiter=\",\")\n",
    "mlz_351E7 = np.loadtxt(\"/home/marcio/Projects/Random-Graph/Random-Graph/Results/Mean/mean_l_Z100000003_52.txt\", delimiter=\",\")"
   ]
  },
  {
   "cell_type": "code",
   "execution_count": 4,
   "metadata": {},
   "outputs": [],
   "source": [
    "mlz_451E1 = np.loadtxt(\"/home/marcio/Projects/Random-Graph/Random-Graph/Results/Mean/mean_l_Z102_52.txt\", delimiter=\",\")\n",
    "mlz_451E2 = np.loadtxt(\"/home/marcio/Projects/Random-Graph/Random-Graph/Results/Mean/mean_l_Z1002_52.txt\", delimiter=\",\")\n",
    "mlz_451E3 = np.loadtxt(\"/home/marcio/Projects/Random-Graph/Random-Graph/Results/Mean/mean_l_Z10002_52.txt\", delimiter=\",\")\n",
    "mlz_451E4 = np.loadtxt(\"/home/marcio/Projects/Random-Graph/Random-Graph/Results/Mean/mean_l_Z100002_52.txt\", delimiter=\",\")\n",
    "mlz_451E5 = np.loadtxt(\"/home/marcio/Projects/Random-Graph/Random-Graph/Results/Mean/mean_l_Z1000004_52.txt\", delimiter=\",\")\n",
    "mlz_451E6 = np.loadtxt(\"/home/marcio/Projects/Random-Graph/Random-Graph/Results/Mean/mean_l_Z10000004_52.txt\", delimiter=\",\")\n",
    "mlz_451E7 = np.loadtxt(\"/home/marcio/Projects/Random-Graph/Random-Graph/Results/Mean/mean_l_Z100000004_52.txt\", delimiter=\",\")"
   ]
  },
  {
   "cell_type": "markdown",
   "metadata": {},
   "source": [
    "# Set data"
   ]
  },
  {
   "cell_type": "code",
   "execution_count": null,
   "metadata": {},
   "outputs": [],
   "source": [
    "# Biggest component size (effective total number of nodes)\n",
    "mlz25 = np.array([mlz_251E1, mlz_251E2, mlz_251E3, mlz_251E4, mlz_251E5, mlz_251E6, mlz_251E7])\n",
    "mlz35 = np.array([mlz_351E1, mlz_351E2, mlz_351E3, mlz_351E4, mlz_351E5, mlz_351E6, mlz_351E7])\n",
    "mlz45 = np.array([ml])"
   ]
  },
  {
   "cell_type": "code",
   "execution_count": null,
   "metadata": {},
   "outputs": [],
   "source": [
    "# Number of cluster / cluster size graphs for Kmin = 1 and Kmin = 2\n",
    "g1 = [comp_110E1[2:].T, comp_110E2[2:].T, comp_110E3[2:].T, comp_110E4[2:].T, comp_110E5[2:].T, comp_110E6[2:].T, comp_110E7[2:].T]\n",
    "g2_ = [comp_210E1[2:].T, comp_210E2[2:].T, comp_210E3[2:].T, comp_210E4[2:].T, comp_210E5[2:].T, comp_210E6[2:].T, comp_210E7[2:].T]\n",
    "g2 = [g2_[i].T[np.all(g2_[i].T != 0, axis=1)].T for i in range(7)]"
   ]
  },
  {
   "cell_type": "code",
   "execution_count": null,
   "metadata": {},
   "outputs": [],
   "source": [
    "# Total number of nodes\n",
    "N = np.array([1e1, 1e2, 1e3, 1e4, 1e5, 1e6, 1e7])"
   ]
  },
  {
   "cell_type": "code",
   "execution_count": null,
   "metadata": {},
   "outputs": [],
   "source": [
    "font = {'family': 'serif',\n",
    "        'color':  'black',\n",
    "        'weight': 'normal',\n",
    "        'size': 16,\n",
    "        }\n",
    "font1 ={'family': 'serif',\n",
    "        'color':  'blue',\n",
    "        'weight': 'normal',\n",
    "        'size': 16,\n",
    "        }\n",
    "\n",
    "fig, ax = plt.subplots()\n",
    "\n",
    "ax.scatter(N, g_comp1/N, color='black', facecolors='C0')\n",
    "ax.plot(N, g_comp1/N, color='C0', alpha=0.3)\n",
    "ax.axhline(y=0, color = 'darkred', alpha=0.3, label='y = 0')\n",
    "ax.legend(loc='upper right', shadow=True, fontsize='x-large')\n",
    "plt.ylabel('$N_{eff}/N$', fontdict=font, rotation=0, labelpad=20)\n",
    "plt.xlabel('$\\log(N)$', font)\n",
    "plt.xscale('log')\n",
    "plt.ylim(-0.1, 0.25)\n",
    "plt.title(\"Zipf Network $K_{min} = 1$\")\n",
    "plt.savefig(\"t1.jpg\", format='jpg', dpi=1200, bbox_inches = 'tight')"
   ]
  },
  {
   "cell_type": "code",
   "execution_count": null,
   "metadata": {},
   "outputs": [],
   "source": [
    "font = {'family': 'serif',\n",
    "        'color':  'black',\n",
    "        'weight': 'normal',\n",
    "        'size': 16,\n",
    "        }\n",
    "font1 ={'family': 'serif',\n",
    "        'color':  'blue',\n",
    "        'weight': 'normal',\n",
    "        'size': 16,\n",
    "        }\n",
    "\n",
    "fig, ax = plt.subplots()\n",
    "\n",
    "ax.scatter(N, g_comp2/N, color='black', facecolors='C0')\n",
    "ax.plot(N, g_comp2/N, color='C0', alpha=0.3)\n",
    "ax.axhline(y=1, color = 'darkred', alpha=0.3, label='y = 1')\n",
    "ax.legend(loc='center right', shadow=True, fontsize='x-large')\n",
    "plt.ylabel('$N_{eff}/N$', fontdict=font, rotation=0, labelpad=25)\n",
    "plt.xlabel('$\\log(N)$', font)\n",
    "plt.xscale('log')\n",
    "plt.title(\"Zipf Network $K_{min} = 2$\")\n",
    "plt.savefig(\"t2.jpg\", format='jpg', dpi=1200, bbox_inches = 'tight')"
   ]
  },
  {
   "cell_type": "code",
   "execution_count": null,
   "metadata": {},
   "outputs": [],
   "source": [
    "ax = []\n",
    "fig = plt.figure(figsize=(16, 16))\n",
    "title = plt.title(\"$K_{min} = 1$\", bbox=dict(edgecolor='black', facecolor='white'), fontdict={'fontsize': 25}, pad=20)\n",
    "plt.axis('off')\n",
    "for i in range(7):\n",
    "    ax.append(fig.add_subplot(420+(i+1)))\n",
    "for i in range(7):\n",
    "    ax[i].scatter(g1[i][0], g1[i][1], alpha=0.6, color='black');\n",
    "#     ax[i].axvline(x=votes.T[i].mean(), alpha=0.4, c='#FF007F', label='Empirical mean')\n",
    "    t = ax[i].text(0.82, 0.92, \"N = %.2E\" % Decimal(N[i]), horizontalalignment='center',\n",
    "                   verticalalignment='center', transform = ax[i].transAxes)\n",
    "    t.set_bbox(dict(facecolor='blue', alpha=0.1, edgecolor='red'))\n",
    "    ax[i].set_ylabel('log(#$C$)', rotation=0, labelpad=10)\n",
    "    ax[i].set_xlabel('$Size$')\n",
    "    ax[i].set_yscale('log',  basey=10)\n",
    "    ax[i].xaxis.set_major_locator(MaxNLocator(integer=True))\n",
    "plt.savefig(\"f1.jpg\", format='jpg', dpi=1200, bbox_inches = 'tight')"
   ]
  },
  {
   "cell_type": "code",
   "execution_count": null,
   "metadata": {},
   "outputs": [],
   "source": [
    "ax = []\n",
    "fig = plt.figure(figsize=(16, 16))\n",
    "title = plt.title(\"$K_{min} = 1$\", bbox=dict(edgecolor='black', facecolor='white'), fontdict={'fontsize': 25}, pad=20)\n",
    "plt.axis('off')\n",
    "for i in range(7):\n",
    "    ax.append(fig.add_subplot(420+(i+1)))\n",
    "for i in range(7):\n",
    "    ax[i].scatter(g2[i][0], g2[i][1], alpha=0.6, color='black');\n",
    "#     ax.axhline(y=0, color = 'darkred', alpha=0.3, label='y = 0')\n",
    "#     ax[i].axvline(x=votes.T[i].mean(), alpha=0.4, c='#FF007F', label='Empirical mean')\n",
    "    t = ax[i].text(0.82, 0.92, \"N = %.2E\" % Decimal(N[i]), horizontalalignment='center',\n",
    "                   verticalalignment='center', transform = ax[i].transAxes)\n",
    "    t.set_bbox(dict(facecolor='blue', alpha=0.1, edgecolor='red'))\n",
    "    ax[i].set_ylabel('#$C$', rotation=0, labelpad=10)\n",
    "    ax[i].set_xlabel('$Size$')\n",
    "    ax[i].xaxis.set_major_locator(MaxNLocator(integer=True))\n",
    "plt.savefig(\"f2.jpg\", format='jpg', dpi=1200, bbox_inches = 'tight')"
   ]
  },
  {
   "cell_type": "code",
   "execution_count": null,
   "metadata": {},
   "outputs": [],
   "source": []
  },
  {
   "cell_type": "code",
   "execution_count": null,
   "metadata": {},
   "outputs": [],
   "source": []
  }
 ],
 "metadata": {
  "kernelspec": {
   "display_name": "Python 3",
   "language": "python",
   "name": "python3"
  },
  "language_info": {
   "codemirror_mode": {
    "name": "ipython",
    "version": 3
   },
   "file_extension": ".py",
   "mimetype": "text/x-python",
   "name": "python",
   "nbconvert_exporter": "python",
   "pygments_lexer": "ipython3",
   "version": "3.6.8"
  }
 },
 "nbformat": 4,
 "nbformat_minor": 2
}
