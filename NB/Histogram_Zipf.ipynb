{
 "cells": [
  {
   "cell_type": "code",
   "execution_count": 19,
   "metadata": {},
   "outputs": [],
   "source": [
    "import numpy as np\n",
    "from matplotlib import pyplot as plt\n",
    "from scipy.interpolate import UnivariateSpline\n",
    "from scipy.interpolate import make_interp_spline, BSpline\n",
    "from sklearn.linear_model import ElasticNet"
   ]
  },
  {
   "cell_type": "code",
   "execution_count": 20,
   "metadata": {},
   "outputs": [],
   "source": [
    "def inverse_cdf(λ, q, U):\n",
    "    k = -((-U/(λ*(2-q))) + 1)**((1-q)/(2-q))\n",
    "    return k/(λ*(1-q))"
   ]
  },
  {
   "cell_type": "markdown",
   "metadata": {},
   "source": [
    "$$f(k; s, N) = \\frac{1/k^{s}}{\\displaystyle\\sum^{N}_{n=1} (1/ n^{s})}$$"
   ]
  },
  {
   "cell_type": "code",
   "execution_count": 34,
   "metadata": {},
   "outputs": [],
   "source": [
    "def f(x, s):\n",
    "    return (x)**(-s) \n",
    "\n",
    "def pmf(k, s):\n",
    "    return f(k, s)"
   ]
  },
  {
   "cell_type": "code",
   "execution_count": 22,
   "metadata": {},
   "outputs": [],
   "source": [
    "# Scott's bin size\n",
    "def bin_width(σ, n):\n",
    "    return 3.5 * (σ/(n**(1/3)))\n",
    "\n",
    "def num_of_bins(data):\n",
    "    σ = np.std(data)\n",
    "    n = len(data)\n",
    "    width = bin_width(σ, n)\n",
    "    return np.ceil((np.max(data) - np.min(data))/ width), width"
   ]
  },
  {
   "cell_type": "code",
   "execution_count": 23,
   "metadata": {},
   "outputs": [],
   "source": [
    "def histogram(data, bins):\n",
    "    sorted_data = np.sort(data)\n",
    "    X = np.unique(sorted_data)\n",
    "    j = 0\n",
    "    count = 0\n",
    "    Px = []\n",
    "    for i in range(0, X.shape[0], bins):\n",
    "        X_min = X[i]\n",
    "        if (i + bins >= X.shape[0]):\n",
    "            X_max = X.max() + 1\n",
    "        else:\n",
    "            X_max = X[i + bins]\n",
    "        while((j < sorted_data.shape[0]) and (X_min <= sorted_data[j] < X_max)):\n",
    "            count += 1\n",
    "            j += 1\n",
    "        Px.append(count)\n",
    "        count = 0\n",
    "    return X[::bins], np.array(Px)/ len(data)"
   ]
  },
  {
   "cell_type": "code",
   "execution_count": 24,
   "metadata": {},
   "outputs": [],
   "source": [
    "def histogram_power(data, power):\n",
    "    X, X_counts = np.unique(data, return_counts=True)\n",
    "    width = [power**i for i in range(int(np.ceil(np.log(X.astype('int').max())/np.log(power))))]\n",
    "    x = 0\n",
    "    X_values = [x]\n",
    "    for w in width:\n",
    "        x += w\n",
    "        X_values.append(x)\n",
    "    j = 0\n",
    "    count = 0\n",
    "    CPx = []\n",
    "    for i in range(1, len(X_values)):\n",
    "        while((j < X.shape[0]) and (X_values[i-1] <= X[j] < X_values[i])):\n",
    "            count += X_counts[j]\n",
    "            j += 1\n",
    "        CPx.append(count)\n",
    "        count = 0\n",
    "    return X, np.array(CPx), np.array(X_values), width"
   ]
  },
  {
   "cell_type": "code",
   "execution_count": 25,
   "metadata": {},
   "outputs": [],
   "source": [
    "def histogram_one(data):\n",
    "    X, X_counts = np.unique(data, return_counts=True)\n",
    "    width = [i for i in range(X.astype('int').max())]\n",
    "    x = 0\n",
    "    X_values = []\n",
    "    for w in width:\n",
    "        x += w\n",
    "        X_values.append(x)\n",
    "    j = 0\n",
    "    count = 0\n",
    "    CPx = []\n",
    "    for i in range(1, len(X_values)):\n",
    "        while((j < X.shape[0]) and (X_values[i-1] <= X[j] < X_values[i])):\n",
    "            count += X_counts[j]\n",
    "            j += 1\n",
    "        CPx.append(count)\n",
    "        count = 0\n",
    "    return X, np.array(CPx), np.array(X_values), width"
   ]
  },
  {
   "cell_type": "code",
   "execution_count": 39,
   "metadata": {},
   "outputs": [],
   "source": [
    "data = np.loadtxt(\"/home/marcio/Projects/Random-Graph/Random-Graph/Results/Zipf_3.txt\", delimiter=',')"
   ]
  },
  {
   "cell_type": "code",
   "execution_count": 40,
   "metadata": {},
   "outputs": [
    {
     "data": {
      "text/plain": [
       "array([1.000e+00, 2.000e+00, 3.000e+00, 4.000e+00, 5.000e+00, 6.000e+00,\n",
       "       7.000e+00, 8.000e+00, 9.000e+00, 1.000e+01, 1.100e+01, 1.200e+01,\n",
       "       1.300e+01, 1.400e+01, 1.500e+01, 1.600e+01, 1.700e+01, 1.800e+01,\n",
       "       1.900e+01, 2.000e+01, 2.100e+01, 2.200e+01, 2.300e+01, 2.400e+01,\n",
       "       2.500e+01, 2.600e+01, 2.700e+01, 2.800e+01, 2.900e+01, 3.000e+01,\n",
       "       3.100e+01, 3.200e+01, 3.300e+01, 3.400e+01, 3.500e+01, 3.600e+01,\n",
       "       3.700e+01, 3.800e+01, 3.900e+01, 4.000e+01, 4.100e+01, 4.200e+01,\n",
       "       4.300e+01, 4.400e+01, 4.500e+01, 4.600e+01, 4.700e+01, 4.800e+01,\n",
       "       4.900e+01, 5.000e+01, 5.100e+01, 5.200e+01, 5.300e+01, 5.400e+01,\n",
       "       5.500e+01, 5.600e+01, 5.700e+01, 5.800e+01, 5.900e+01, 6.000e+01,\n",
       "       6.100e+01, 6.200e+01, 6.300e+01, 6.400e+01, 6.500e+01, 6.600e+01,\n",
       "       6.700e+01, 6.800e+01, 6.900e+01, 7.000e+01, 7.100e+01, 7.200e+01,\n",
       "       7.300e+01, 7.400e+01, 7.500e+01, 7.600e+01, 7.700e+01, 7.800e+01,\n",
       "       7.900e+01, 8.000e+01, 8.100e+01, 8.200e+01, 8.300e+01, 8.400e+01,\n",
       "       8.500e+01, 8.600e+01, 8.700e+01, 8.800e+01, 8.900e+01, 9.000e+01,\n",
       "       9.100e+01, 9.200e+01, 9.300e+01, 9.400e+01, 9.500e+01, 9.600e+01,\n",
       "       9.700e+01, 9.800e+01, 9.900e+01, 1.000e+02, 1.010e+02, 1.020e+02,\n",
       "       1.030e+02, 1.040e+02, 1.050e+02, 1.060e+02, 1.070e+02, 1.080e+02,\n",
       "       1.090e+02, 1.100e+02, 1.110e+02, 1.120e+02, 1.130e+02, 1.140e+02,\n",
       "       1.150e+02, 1.160e+02, 1.170e+02, 1.180e+02, 1.190e+02, 1.200e+02,\n",
       "       1.220e+02, 1.230e+02, 1.240e+02, 1.250e+02, 1.260e+02, 1.270e+02,\n",
       "       1.280e+02, 1.290e+02, 1.300e+02, 1.310e+02, 1.320e+02, 1.330e+02,\n",
       "       1.340e+02, 1.350e+02, 1.360e+02, 1.370e+02, 1.380e+02, 1.390e+02,\n",
       "       1.400e+02, 1.410e+02, 1.420e+02, 1.430e+02, 1.440e+02, 1.450e+02,\n",
       "       1.470e+02, 1.480e+02, 1.490e+02, 1.500e+02, 1.510e+02, 1.520e+02,\n",
       "       1.530e+02, 1.540e+02, 1.550e+02, 1.560e+02, 1.570e+02, 1.580e+02,\n",
       "       1.590e+02, 1.600e+02, 1.610e+02, 1.620e+02, 1.630e+02, 1.640e+02,\n",
       "       1.660e+02, 1.670e+02, 1.680e+02, 1.690e+02, 1.720e+02, 1.730e+02,\n",
       "       1.740e+02, 1.750e+02, 1.760e+02, 1.770e+02, 1.780e+02, 1.790e+02,\n",
       "       1.810e+02, 1.820e+02, 1.840e+02, 1.850e+02, 1.890e+02, 1.920e+02,\n",
       "       1.930e+02, 1.940e+02, 1.960e+02, 1.980e+02, 2.030e+02, 2.040e+02,\n",
       "       2.070e+02, 2.080e+02, 2.110e+02, 2.140e+02, 2.160e+02, 2.190e+02,\n",
       "       2.200e+02, 2.210e+02, 2.230e+02, 2.250e+02, 2.270e+02, 2.310e+02,\n",
       "       2.320e+02, 2.350e+02, 2.360e+02, 2.370e+02, 2.380e+02, 2.390e+02,\n",
       "       2.400e+02, 2.410e+02, 2.420e+02, 2.430e+02, 2.480e+02, 2.490e+02,\n",
       "       2.500e+02, 2.570e+02, 2.590e+02, 2.620e+02, 2.630e+02, 2.640e+02,\n",
       "       2.670e+02, 2.690e+02, 2.700e+02, 2.750e+02, 2.770e+02, 2.860e+02,\n",
       "       2.880e+02, 2.890e+02, 2.900e+02, 2.910e+02, 2.990e+02, 3.080e+02,\n",
       "       3.110e+02, 3.130e+02, 3.150e+02, 3.200e+02, 3.290e+02, 3.320e+02,\n",
       "       3.340e+02, 3.430e+02, 3.490e+02, 3.510e+02, 3.570e+02, 3.600e+02,\n",
       "       3.660e+02, 3.710e+02, 3.750e+02, 3.780e+02, 3.800e+02, 3.960e+02,\n",
       "       4.010e+02, 4.150e+02, 4.180e+02, 4.230e+02, 4.370e+02, 4.990e+02,\n",
       "       5.060e+02, 5.100e+02, 5.340e+02, 5.450e+02, 5.650e+02, 5.670e+02,\n",
       "       5.680e+02, 5.770e+02, 5.780e+02, 6.270e+02, 6.880e+02, 7.250e+02,\n",
       "       8.230e+02, 9.730e+02, 9.850e+02, 1.231e+03, 1.341e+03, 1.407e+03,\n",
       "       1.966e+03, 2.473e+03])"
      ]
     },
     "execution_count": 40,
     "metadata": {},
     "output_type": "execute_result"
    }
   ],
   "source": [
    "np.unique(data)"
   ]
  },
  {
   "cell_type": "code",
   "execution_count": 41,
   "metadata": {},
   "outputs": [],
   "source": [
    "power = np.sqrt(1.7)\n",
    "X, CPx, X_values, width = histogram_power(data, power)"
   ]
  },
  {
   "cell_type": "code",
   "execution_count": 42,
   "metadata": {},
   "outputs": [],
   "source": [
    "Px = np.array([CPx[i]/width[i] for i in range(len(CPx))]) / len(data)"
   ]
  },
  {
   "cell_type": "code",
   "execution_count": 47,
   "metadata": {},
   "outputs": [],
   "source": [
    "X_values += 1"
   ]
  },
  {
   "cell_type": "code",
   "execution_count": 51,
   "metadata": {},
   "outputs": [],
   "source": [
    "s = 3\n",
    "N = 10E7\n",
    "fx = pmf(X_values[:-1], s)\n",
    "factor = fx.sum()\n",
    "# fx = fx / factor"
   ]
  },
  {
   "cell_type": "code",
   "execution_count": 52,
   "metadata": {},
   "outputs": [
    {
     "data": {
      "text/plain": [
       "array([1.00000000e+00, 1.25000000e-01, 2.77295479e-02, 7.98159397e-03,\n",
       "       2.65657308e-03, 9.67606868e-04, 3.74089387e-04, 1.50701597e-04,\n",
       "       6.25088141e-05, 2.64818420e-05, 1.13947023e-05, 4.95985451e-06,\n",
       "       2.17763827e-06, 9.62335773e-07, 4.27369238e-07, 1.90502408e-07,\n",
       "       8.51589876e-08, 3.81504920e-08, 1.71193404e-08, 7.69169390e-09,\n",
       "       3.45920376e-09, 1.55686554e-09, 7.01086682e-10, 3.15849718e-10,\n",
       "       1.42342125e-10, 6.41648076e-11, 2.89297743e-11, 1.30454219e-11,\n",
       "       5.88330003e-12, 2.65351800e-12])"
      ]
     },
     "execution_count": 52,
     "metadata": {},
     "output_type": "execute_result"
    }
   ],
   "source": [
    "fx"
   ]
  },
  {
   "cell_type": "code",
   "execution_count": 53,
   "metadata": {},
   "outputs": [
    {
     "data": {
      "text/plain": [
       "1.1649693703099493"
      ]
     },
     "execution_count": 53,
     "metadata": {},
     "output_type": "execute_result"
    }
   ],
   "source": [
    "factor"
   ]
  },
  {
   "cell_type": "code",
   "execution_count": 54,
   "metadata": {},
   "outputs": [],
   "source": [
    "from scipy import integrate"
   ]
  },
  {
   "cell_type": "code",
   "execution_count": 55,
   "metadata": {},
   "outputs": [
    {
     "data": {
      "text/plain": [
       "0.604292840444685"
      ]
     },
     "execution_count": 55,
     "metadata": {},
     "output_type": "execute_result"
    }
   ],
   "source": [
    "integrate.simps(fx, X_values[:-1])"
   ]
  },
  {
   "cell_type": "code",
   "execution_count": 56,
   "metadata": {},
   "outputs": [],
   "source": [
    "k = integrate.simps(fx, X_values[:-1])/ integrate.simps(Px, X_values[:-1])"
   ]
  },
  {
   "cell_type": "code",
   "execution_count": 57,
   "metadata": {},
   "outputs": [
    {
     "data": {
      "text/plain": [
       "0.6558097160108605"
      ]
     },
     "execution_count": 57,
     "metadata": {},
     "output_type": "execute_result"
    }
   ],
   "source": [
    "k"
   ]
  },
  {
   "cell_type": "code",
   "execution_count": 58,
   "metadata": {},
   "outputs": [
    {
     "data": {
      "text/plain": [
       "0.5956668387414736"
      ]
     },
     "execution_count": 58,
     "metadata": {},
     "output_type": "execute_result"
    }
   ],
   "source": [
    "Px[3] / fx[3]"
   ]
  },
  {
   "cell_type": "code",
   "execution_count": 60,
   "metadata": {},
   "outputs": [
    {
     "name": "stderr",
     "output_type": "stream",
     "text": [
      "/home/marcio/Projects/Random-Graph/RandomGraph_env/lib/python3.6/site-packages/ipykernel_launcher.py:11: UserWarning: Attempted to set non-positive left xlim on a log-scaled axis.\n",
      "Invalid limit will be ignored.\n",
      "  # This is added back by InteractiveShellApp.init_path()\n"
     ]
    },
    {
     "data": {
      "image/png": "[encoded data removed]",
      "text/plain": [
       "<Figure size 576x576 with 1 Axes>"
      ]
     },
     "metadata": {
      "needs_background": "light"
     },
     "output_type": "display_data"
    }
   ],
   "source": [
    "# plot it!\n",
    "fig = plt.figure(figsize=(8, 8))\n",
    "ax = fig.add_subplot(111)\n",
    "ax.plot(X_values[:-1], Px, color='#001072', marker='o', label='Discrete')\n",
    "# ax.plot(range(1000), factor, color='#001072')\n",
    "ax.plot(X_values[:-1], fx/factor , 'go--', color = '#000000',linewidth=2, markersize=1, label='Continuous')\n",
    "plt.title(\"Parameters: $\\lambda$: \" +  \", $x_{min}$: 0\")\n",
    "ax.legend()\n",
    "plt.xscale('log')\n",
    "plt.yscale('log')\n",
    "plt.xlim(0, 10000)\n",
    "plt.savefig(\"Comparison_cont.jpg\", format='jpg', dpi=1200, bbox_inches = 'tight')\n",
    "plt.show()"
   ]
  },
  {
   "cell_type": "code",
   "execution_count": 290,
   "metadata": {},
   "outputs": [],
   "source": [
    "data3 = np.loadtxt(\"/home/marcio/qExp13_2_3.txt\", delimiter=',')\n",
    "data4 = np.loadtxt(\"/home/marcio/qExp13_2_4.txt\", delimiter=',')\n",
    "data5 = np.loadtxt(\"/home/marcio/qExp13_2_5.txt\", delimiter=',')\n",
    "data6 = np.loadtxt(\"/home/marcio/qExp13_2_6.txt\", delimiter=',')\n",
    "data7 = np.loadtxt(\"/home/marcio/qExp13_2_7.txt\", delimiter=',')"
   ]
  },
  {
   "cell_type": "code",
   "execution_count": 291,
   "metadata": {},
   "outputs": [],
   "source": [
    "power = np.sqrt(3.1)\n",
    "X3, CPx3, X_values3, width3 = histogram_power(data3, power)\n",
    "X4, CPx4, X_values4, width4 = histogram_power(data4, power)\n",
    "X5, CPx5, X_values5, width5 = histogram_power(data5, power)\n",
    "X6, CPx6, X_values6, width6 = histogram_power(data6, power)\n",
    "X7, CPx7, X_values7, width7 = histogram_power(data7, power)"
   ]
  },
  {
   "cell_type": "code",
   "execution_count": 292,
   "metadata": {},
   "outputs": [],
   "source": [
    "# width3 = [power**i for i in range(int(np.floor(np.log(X3.astype('int').max())/np.log(power))))]\n",
    "# width4 = [power**i for i in range(int(np.floor(np.log(X4.astype('int').max())/np.log(power))))]\n",
    "# width5 = [power**i for i in range(int(np.floor(np.log(X5.astype('int').max())/np.log(power))))]\n",
    "# width6 = [power**i for i in range(int(np.floor(np.log(X6.astype('int').max())/np.log(power))))]\n",
    "# width7 = [power**i for i in range(int(np.floor(np.log(X7.astype('int').max())/np.log(power))))]"
   ]
  },
  {
   "cell_type": "code",
   "execution_count": 293,
   "metadata": {},
   "outputs": [
    {
     "data": {
      "text/plain": [
       "(5, 5)"
      ]
     },
     "execution_count": 293,
     "metadata": {},
     "output_type": "execute_result"
    }
   ],
   "source": [
    "len(CPx3) , len(width3)"
   ]
  },
  {
   "cell_type": "code",
   "execution_count": 294,
   "metadata": {},
   "outputs": [],
   "source": [
    "Px3 = np.array([CPx3[i]/width3[i] for i in range(len(CPx3))]) / len(data3)\n",
    "Px4 = np.array([CPx4[i]/width4[i] for i in range(len(CPx4))]) / len(data4)\n",
    "Px5 = np.array([CPx5[i]/width5[i] for i in range(len(CPx5))]) / len(data5)\n",
    "Px6 = np.array([CPx6[i]/width6[i] for i in range(len(CPx6))]) / len(data6)\n",
    "Px7 = np.array([CPx7[i]/width7[i] for i in range(len(CPx7))]) / len(data7)"
   ]
  },
  {
   "cell_type": "code",
   "execution_count": 295,
   "metadata": {},
   "outputs": [
    {
     "data": {
      "text/plain": [
       "1.1888623133447516"
      ]
     },
     "execution_count": 295,
     "metadata": {},
     "output_type": "execute_result"
    }
   ],
   "source": [
    "1/ (1 - (int_eq(λ, q, 10E7)- int_eq(λ, q, 2)))"
   ]
  },
  {
   "cell_type": "code",
   "execution_count": 296,
   "metadata": {},
   "outputs": [
    {
     "data": {
      "text/plain": [
       "1.1904761904761905"
      ]
     },
     "execution_count": 296,
     "metadata": {},
     "output_type": "execute_result"
    }
   ],
   "source": [
    "1/0.84"
   ]
  },
  {
   "cell_type": "code",
   "execution_count": 297,
   "metadata": {},
   "outputs": [],
   "source": [
    "λ = 2\n",
    "q = 1.3\n",
    "xmin = 2\n",
    "α = 1/ (1 - (int_eq(λ, q, 10E7)- int_eq(λ, q, 2)))\n",
    "fx2 =  pdf(λ, q, X_values7)"
   ]
  },
  {
   "cell_type": "code",
   "execution_count": 298,
   "metadata": {},
   "outputs": [
    {
     "data": {
      "text/plain": [
       "1.1888623133447516"
      ]
     },
     "execution_count": 298,
     "metadata": {},
     "output_type": "execute_result"
    }
   ],
   "source": [
    "α"
   ]
  },
  {
   "cell_type": "code",
   "execution_count": 299,
   "metadata": {},
   "outputs": [
    {
     "data": {
      "text/plain": [
       "array([7.33529500e-01, 1.68025933e-01, 1.58148000e-02, 1.06830413e-02,\n",
       "       3.35737778e-03, 1.71453395e-03, 5.98755556e-04, 3.56766669e-04,\n",
       "       1.23555556e-04, 6.01909183e-05, 2.70485597e-05, 1.56444777e-05,\n",
       "       6.90919067e-06, 3.64858609e-06, 1.84362140e-06, 8.69734995e-07,\n",
       "       4.56515775e-07, 2.67610768e-07, 1.14454097e-07, 5.73451645e-08,\n",
       "       1.56073769e-08, 1.13274399e-08, 8.09271396e-09, 2.83185998e-09,\n",
       "       2.31220399e-09, 0.00000000e+00, 0.00000000e+00, 0.00000000e+00,\n",
       "       0.00000000e+00, 0.00000000e+00, 0.00000000e+00, 0.00000000e+00,\n",
       "       0.00000000e+00])"
      ]
     },
     "execution_count": 299,
     "metadata": {},
     "output_type": "execute_result"
    }
   ],
   "source": [
    "Px"
   ]
  },
  {
   "cell_type": "code",
   "execution_count": 302,
   "metadata": {},
   "outputs": [
    {
     "name": "stderr",
     "output_type": "stream",
     "text": [
      "/usr/local/lib/python3.6/dist-packages/ipykernel_launcher.py:18: UserWarning: Attempted to set non-positive left xlim on a log-scaled axis.\n",
      "Invalid limit will be ignored.\n"
     ]
    },
    {
     "data": {
      "image/png": "[encoded data removed]",
      "text/plain": [
       "<Figure size 576x576 with 1 Axes>"
      ]
     },
     "metadata": {
      "needs_background": "light"
     },
     "output_type": "display_data"
    }
   ],
   "source": [
    "# plot it!\n",
    "fig = plt.figure(figsize=(8, 8))\n",
    "ax = fig.add_subplot(111)\n",
    "ax.plot(X_values3[:-1], Px3,  label='N = 10E3')\n",
    "ax.plot(X_values4[:-1], Px4,  label='N = 10E4')\n",
    "ax.plot(X_values5, np.append(Px5, 0),  label='N = 10E5')\n",
    "ax.plot(X_values6[:-1], Px6,  label='N = 10E6')\n",
    "ax.plot(X_values7[:-1], Px7,  label='N = 10E7')\n",
    "ax.plot(X_values7, fx / factor, 'go--', color = '#000000',linewidth=2, markersize=1, label='Continuous')\n",
    "\n",
    "# ax.scatter(X_values[:-1], Px/(len(data)), color='#001072', marker='x', label='Discrete / 10E5')\n",
    "# ax.plot(X_values[:-1], Px, color='#001072', alpha=0.25, label='Discrete')\n",
    "plt.title(\"Parameters: $\\lambda$: \" + str(λ) + \", q: \" + str(q) + \", $x_{min}$: 0\")\n",
    "# ax.plot(X_values7, fx, 'go--', color = '#000000',linewidth=2, markersize=1, label='Continuous')\n",
    "ax.legend()\n",
    "plt.xscale('log')\n",
    "plt.yscale('log')\n",
    "plt.xlim(0, 10000)\n",
    "plt.savefig(\"Comparison_cont.jpg\", format='jpg', dpi=1200, bbox_inches = 'tight')\n",
    "plt.show()"
   ]
  }
 ],
 "metadata": {
  "kernelspec": {
   "display_name": "Python 3",
   "language": "python",
   "name": "python3"
  },
  "language_info": {
   "codemirror_mode": {
    "name": "ipython",
    "version": 3
   },
   "file_extension": ".py",
   "mimetype": "text/x-python",
   "name": "python",
   "nbconvert_exporter": "python",
   "pygments_lexer": "ipython3",
   "version": "3.6.7"
  }
 },
 "nbformat": 4,
 "nbformat_minor": 2
}
