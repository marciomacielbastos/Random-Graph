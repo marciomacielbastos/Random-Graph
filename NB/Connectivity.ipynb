{
 "cells": [
  {
   "cell_type": "code",
   "execution_count": 2,
   "metadata": {},
   "outputs": [],
   "source": [
    "from matplotlib import pyplot as plt\n",
    "from scipy import stats\n",
    "import numpy as np"
   ]
  },
  {
   "cell_type": "code",
   "execution_count": 22,
   "metadata": {},
   "outputs": [],
   "source": [
    "mean_l1_10E1 = np.loadtxt(\"/home/marcio/Projects/Random-Graph/Random-Graph/Results/mean_l1_10E1.txt\")\n",
    "mean_l1_10E2 = np.loadtxt(\"/home/marcio/Projects/Random-Graph/Random-Graph/Results/mean_l1_10E2.txt\")\n",
    "mean_l1_10E3 = np.loadtxt(\"/home/marcio/Projects/Random-Graph/Random-Graph/Results/mean_l1_10E3.txt\")\n",
    "mean_l1_10E4 = np.loadtxt(\"/home/marcio/Projects/Random-Graph/Random-Graph/Results/mean_l1_10E4.txt\")\n",
    "mean_l1_10E5 = np.loadtxt(\"/home/marcio/Projects/Random-Graph/Random-Graph/Results/mean_l1_10E5.txt\")\n",
    "mean_l1_10E6 = np.loadtxt(\"/home/marcio/Projects/Random-Graph/Random-Graph/Results/mean_l1_10E6.txt\")\n",
    "mean_l1_10E7 = np.loadtxt(\"/home/marcio/Projects/Random-Graph/Random-Graph/Results/mean_l1_10E7.txt\")"
   ]
  },
  {
   "cell_type": "code",
   "execution_count": 69,
   "metadata": {},
   "outputs": [],
   "source": [
    "mean_l2_10E1 = np.loadtxt(\"/home/marcio/Projects/Random-Graph/Random-Graph/Results/mean_l2_10E1.txt\")\n",
    "mean_l2_10E2 = np.loadtxt(\"/home/marcio/Projects/Random-Graph/Random-Graph/Results/mean_l2_10E2.txt\")\n",
    "mean_l2_10E3 = np.loadtxt(\"/home/marcio/Projects/Random-Graph/Random-Graph/Results/mean_l2_10E3.txt\")\n",
    "mean_l2_10E4 = np.loadtxt(\"/home/marcio/Projects/Random-Graph/Random-Graph/Results/mean_l2_10E4.txt\")\n",
    "mean_l2_10E5 = np.loadtxt(\"/home/marcio/Projects/Random-Graph/Random-Graph/Results/mean_l2_10E5.txt\")\n",
    "mean_l2_10E6 = np.loadtxt(\"/home/marcio/Projects/Random-Graph/Random-Graph/Results/mean_l2_10E6.txt\")\n",
    "mean_l2_10E7 = np.loadtxt(\"/home/marcio/Projects/Random-Graph/Random-Graph/Results/mean_l2_10E7.txt\")"
   ]
  },
  {
   "cell_type": "code",
   "execution_count": 69,
   "metadata": {},
   "outputs": [],
   "source": [
    "mean_l3_10E1 = np.loadtxt(\"/home/marcio/Projects/Random-Graph/Random-Graph/Results/mean_l3_10E1.txt\")\n",
    "mean_l3_10E2 = np.loadtxt(\"/home/marcio/Projects/Random-Graph/Random-Graph/Results/mean_l3_10E2.txt\")\n",
    "mean_l3_10E3 = np.loadtxt(\"/home/marcio/Projects/Random-Graph/Random-Graph/Results/mean_l3_10E3.txt\")\n",
    "mean_l3_10E4 = np.loadtxt(\"/home/marcio/Projects/Random-Graph/Random-Graph/Results/mean_l3_10E4.txt\")\n",
    "mean_l3_10E5 = np.loadtxt(\"/home/marcio/Projects/Random-Graph/Random-Graph/Results/mean_l3_10E5.txt\")\n",
    "mean_l3_10E6 = np.loadtxt(\"/home/marcio/Projects/Random-Graph/Random-Graph/Results/mean_l3_10E6.txt\")\n",
    "mean_l3_10E7 = np.loadtxt(\"/home/marcio/Projects/Random-Graph/Random-Graph/Results/mean_l3_10E7.txt\")"
   ]
  },
  {
   "cell_type": "code",
   "execution_count": 26,
   "metadata": {},
   "outputs": [],
   "source": [
    "mean_l_10E1 = np.loadtxt(\"/home/marcio/Projects/Random-Graph/Random-Graph/Results/mean_l_10E1.txt\", delimiter='\\n')\n",
    "mean_l_10E2 = np.loadtxt(\"/home/marcio/Projects/Random-Graph/Random-Graph/Results/mean_l_10E2.txt\", delimiter='\\n')\n",
    "mean_l_10E3 = np.loadtxt(\"/home/marcio/Projects/Random-Graph/Random-Graph/Results/mean_l_10E3.txt\", delimiter='\\n')\n",
    "mean_l_10E4 = np.loadtxt(\"/home/marcio/Projects/Random-Graph/Random-Graph/Results/mean_l_10E4.txt\", delimiter='\\n')\n",
    "mean_l_10E5 = np.loadtxt(\"/home/marcio/Projects/Random-Graph/Random-Graph/Results/mean_l_10E5.txt\", delimiter='\\n')\n",
    "mean_l_10E6 = np.loadtxt(\"/home/marcio/Projects/Random-Graph/Random-Graph/Results/mean_l_10E6.txt\", delimiter='\\n')\n",
    "mean_l_10E7 = np.loadtxt(\"/home/marcio/Projects/Random-Graph/Random-Graph/Results/mean_l_10E7.txt\", delimiter='\\n')"
   ]
  },
  {
   "cell_type": "code",
   "execution_count": 74,
   "metadata": {},
   "outputs": [],
   "source": [
    "mean_l = np.log(np.array([mean_l_10E1, mean_l_10E2, mean_l_10E3, mean_l_10E4, mean_l_10E5, mean_l_10E6, mean_l_10E7]))\n",
    "mean_l1 = np.log(np.array([mean_l1_10E1, mean_l1_10E2, mean_l1_10E3, mean_l1_10E4, mean_l1_10E5, mean_l1_10E6, mean_l1_10E7]))\n",
    "mean_l2 = np.log(np.array([mean_l2_10E1, mean_l2_10E2, mean_l2_10E3, mean_l2_10E4, mean_l2_10E5, mean_l2_10E6, mean_l2_10E7]))\n",
    "mean_l3 = np.log(np.array([mean_l3_10E1, mean_l3_10E2, mean_l3_10E3, mean_l3_10E4, mean_l3_10E5, mean_l3_10E6, mean_l3_10E7]))"
   ]
  },
  {
   "cell_type": "code",
   "execution_count": 75,
   "metadata": {},
   "outputs": [
    {
     "data": {
      "text/plain": [
       "array([1.26154147, 1.77156186, 2.41700247, 2.78099083, 3.01462272,\n",
       "       3.20887397, 3.35274566])"
      ]
     },
     "execution_count": 75,
     "metadata": {},
     "output_type": "execute_result"
    }
   ],
   "source": [
    "mean_l2"
   ]
  },
  {
   "cell_type": "code",
   "execution_count": 28,
   "metadata": {},
   "outputs": [],
   "source": [
    "mode_10E1 = stats.mode(mean_l_10E1)\n",
    "mode_10E2 = stats.mode(mean_l_10E2)\n",
    "mode_10E3 = stats.mode(mean_l_10E3)\n",
    "mode_10E4 = stats.mode(mean_l_10E4)\n",
    "mode_10E5 = stats.mode(mean_l_10E5)\n",
    "mode_10E6 = stats.mode(mean_l_10E6)\n",
    "mode_10E7 = stats.mode(mean_l_10E7)"
   ]
  },
  {
   "cell_type": "code",
   "execution_count": 43,
   "metadata": {},
   "outputs": [],
   "source": [
    "median_10E1 = np.median(mean_l_10E1)\n",
    "median_10E2 = np.median(mean_l_10E2)\n",
    "median_10E3 = np.median(mean_l_10E3)\n",
    "median_10E4 = np.median(mean_l_10E4)\n",
    "median_10E5 = np.median(mean_l_10E5)\n",
    "median_10E6 = np.median(mean_l_10E6)\n",
    "median_10E7 = np.median(mean_l_10E7)"
   ]
  },
  {
   "cell_type": "code",
   "execution_count": 44,
   "metadata": {},
   "outputs": [],
   "source": [
    "mean_10E1 = np.mean(mean_l_10E1)\n",
    "mean_10E2 = np.mean(mean_l_10E2)\n",
    "mean_10E3 = np.mean(mean_l_10E3)\n",
    "mean_10E4 = np.mean(mean_l_10E4)\n",
    "mean_10E5 = np.mean(mean_l_10E5)\n",
    "mean_10E6 = np.mean(mean_l_10E6)\n",
    "mean_10E7 = np.mean(mean_l_10E7)"
   ]
  },
  {
   "cell_type": "code",
   "execution_count": 29,
   "metadata": {},
   "outputs": [],
   "source": [
    "ln_l_mode = np.log(np.array([mode_10E1.mode[0], mode_10E2.mode[0], mode_10E3.mode[0], mode_10E4.mode[0], mode_10E5.mode[0], mode_10E6.mode[0], mode_10E7.mode[0]]))"
   ]
  },
  {
   "cell_type": "code",
   "execution_count": 46,
   "metadata": {},
   "outputs": [],
   "source": [
    "ln_l_median = np.log(np.array([median_10E1, median_10E2, median_10E3, median_10E4, median_10E5, median_10E6, median_10E7]))"
   ]
  },
  {
   "cell_type": "code",
   "execution_count": 47,
   "metadata": {},
   "outputs": [],
   "source": [
    "ln_l_mean = np.log(np.array([mean_10E1, mean_10E2, mean_10E3, mean_10E4, mean_10E5, mean_10E6, mean_10E7]))"
   ]
  },
  {
   "cell_type": "code",
   "execution_count": 5,
   "metadata": {},
   "outputs": [],
   "source": [
    "ln_ln_N = np.log(np.log(np.array([10e1, 10e2, 10e3, 10e4, 10e5, 10e6, 10e7])))"
   ]
  },
  {
   "cell_type": "code",
   "execution_count": 30,
   "metadata": {},
   "outputs": [
    {
     "data": {
      "text/plain": [
       "array([1.02165205, 1.58414267, 2.01636062, 2.33850228, 2.42162955,\n",
       "       2.59122421, 2.70787018])"
      ]
     },
     "execution_count": 30,
     "metadata": {},
     "output_type": "execute_result"
    }
   ],
   "source": [
    "ln_l_mode"
   ]
  },
  {
   "cell_type": "code",
   "execution_count": 50,
   "metadata": {},
   "outputs": [
    {
     "data": {
      "text/plain": [
       "array([14.9973, 15.234 , 15.5348, 15.3573, 15.1445, 15.2188, 15.433 ,\n",
       "       15.2424, 15.2167, 15.2583])"
      ]
     },
     "execution_count": 50,
     "metadata": {},
     "output_type": "execute_result"
    }
   ],
   "source": [
    "mean_l_10E7"
   ]
  },
  {
   "cell_type": "code",
   "execution_count": 51,
   "metadata": {},
   "outputs": [
    {
     "data": {
      "text/plain": [
       "array([1.02209619, 1.59805396, 2.02395222, 2.34474763, 2.4292107 ,\n",
       "       2.61057408, 2.72547812])"
      ]
     },
     "execution_count": 51,
     "metadata": {},
     "output_type": "execute_result"
    }
   ],
   "source": [
    "ln_l_mean"
   ]
  },
  {
   "cell_type": "code",
   "execution_count": 9,
   "metadata": {},
   "outputs": [],
   "source": [
    "from scipy.optimize import curve_fit"
   ]
  },
  {
   "cell_type": "code",
   "execution_count": 32,
   "metadata": {},
   "outputs": [],
   "source": [
    "def func(x, a, b):\n",
    "    return a * x + b"
   ]
  },
  {
   "cell_type": "code",
   "execution_count": 48,
   "metadata": {},
   "outputs": [],
   "source": [
    "def func1(x, a, b):\n",
    "    return a * np.exp(b * x)"
   ]
  },
  {
   "cell_type": "code",
   "execution_count": 36,
   "metadata": {},
   "outputs": [],
   "source": [
    "popt, pcov = curve_fit(func, ln_ln_N, ln_l_mode)"
   ]
  },
  {
   "cell_type": "code",
   "execution_count": 49,
   "metadata": {},
   "outputs": [],
   "source": [
    "popt1, pcov1 = curve_fit(func1, ln_ln_N, mean_l1)"
   ]
  },
  {
   "cell_type": "code",
   "execution_count": 77,
   "metadata": {},
   "outputs": [
    {
     "data": {
      "image/png": "[encoded data removed]",
      "text/plain": [
       "<Figure size 432x288 with 1 Axes>"
      ]
     },
     "metadata": {
      "needs_background": "light"
     },
     "output_type": "display_data"
    }
   ],
   "source": [
    "font = {'family': 'serif',\n",
    "        'color':  'darkred',\n",
    "        'weight': 'normal',\n",
    "        'size': 16,\n",
    "        }\n",
    "fig, ax = plt.subplots()\n",
    "ax.scatter(ln_ln_N, mean_l1, color='black', facecolors='C0', label='γ = 5')\n",
    "# ax.scatter(ln_ln_N, mean_l3, color='black', facecolors='none', label='γ = 0.1')\n",
    "# ax.scatter(ln_ln_N, ln_l_mode, color='black', facecolors='darkred', label='γ = -3.33')\n",
    "\n",
    "ax.plot(ln_ln_N, func(ln_ln_N, *popt), color='black', ls='--', alpha=0.3)\n",
    "ax.plot(ln_ln_N, func1(ln_ln_N, *popt1), color='black', ls='--', alpha=0.3)\n",
    "ax.legend(loc='upper left', shadow=True, fontsize='x-large')\n",
    "plt.ylabel('$\\log(l)$', fontdict=font)\n",
    "plt.xlabel('$\\log(\\log(N))$', font)\n",
    "# plt.text(2.2, 1.50, r'd = '+str(1.22), font)\n",
    "plt.title('λ = 2', fontdict=font)\n",
    "plt.savefig(\"usw.jpg\", format='jpg', dpi=1200, bbox_inches = 'tight')"
   ]
  },
  {
   "cell_type": "code",
   "execution_count": null,
   "metadata": {},
   "outputs": [],
   "source": [
    "hist, bins_edges = np.histogram(data, bins=100)"
   ]
  },
  {
   "cell_type": "code",
   "execution_count": 156,
   "metadata": {},
   "outputs": [
    {
     "data": {
      "text/plain": [
       "(1.0, 2354.0)"
      ]
     },
     "execution_count": 156,
     "metadata": {},
     "output_type": "execute_result"
    }
   ],
   "source": [
    "bins_edges.min(), bins_edges.max()"
   ]
  },
  {
   "cell_type": "code",
   "execution_count": 119,
   "metadata": {},
   "outputs": [],
   "source": [
    "def e(q, x):\n",
    "    return (1 + ((1 - q) * x))**(1/(1-q))"
   ]
  },
  {
   "cell_type": "code",
   "execution_count": 179,
   "metadata": {},
   "outputs": [],
   "source": [
    "def q_exponential(λ, q, x):\n",
    "    return (2 - q) * λ * (e(q, (-λ * x)))"
   ]
  },
  {
   "cell_type": "code",
   "execution_count": 180,
   "metadata": {},
   "outputs": [],
   "source": [
    "y = q_exponential(2, 1.3, bins_edges[:-1])"
   ]
  },
  {
   "cell_type": "code",
   "execution_count": 170,
   "metadata": {},
   "outputs": [
    {
     "data": {
      "text/plain": [
       "array([  0.        ,   1.01010101,   2.02020202,   3.03030303,\n",
       "         4.04040404,   5.05050505,   6.06060606,   7.07070707,\n",
       "         8.08080808,   9.09090909,  10.1010101 ,  11.11111111,\n",
       "        12.12121212,  13.13131313,  14.14141414,  15.15151515,\n",
       "        16.16161616,  17.17171717,  18.18181818,  19.19191919,\n",
       "        20.2020202 ,  21.21212121,  22.22222222,  23.23232323,\n",
       "        24.24242424,  25.25252525,  26.26262626,  27.27272727,\n",
       "        28.28282828,  29.29292929,  30.3030303 ,  31.31313131,\n",
       "        32.32323232,  33.33333333,  34.34343434,  35.35353535,\n",
       "        36.36363636,  37.37373737,  38.38383838,  39.39393939,\n",
       "        40.4040404 ,  41.41414141,  42.42424242,  43.43434343,\n",
       "        44.44444444,  45.45454545,  46.46464646,  47.47474747,\n",
       "        48.48484848,  49.49494949,  50.50505051,  51.51515152,\n",
       "        52.52525253,  53.53535354,  54.54545455,  55.55555556,\n",
       "        56.56565657,  57.57575758,  58.58585859,  59.5959596 ,\n",
       "        60.60606061,  61.61616162,  62.62626263,  63.63636364,\n",
       "        64.64646465,  65.65656566,  66.66666667,  67.67676768,\n",
       "        68.68686869,  69.6969697 ,  70.70707071,  71.71717172,\n",
       "        72.72727273,  73.73737374,  74.74747475,  75.75757576,\n",
       "        76.76767677,  77.77777778,  78.78787879,  79.7979798 ,\n",
       "        80.80808081,  81.81818182,  82.82828283,  83.83838384,\n",
       "        84.84848485,  85.85858586,  86.86868687,  87.87878788,\n",
       "        88.88888889,  89.8989899 ,  90.90909091,  91.91919192,\n",
       "        92.92929293,  93.93939394,  94.94949495,  95.95959596,\n",
       "        96.96969697,  97.97979798,  98.98989899, 100.        ])"
      ]
     },
     "execution_count": 170,
     "metadata": {},
     "output_type": "execute_result"
    }
   ],
   "source": []
  },
  {
   "cell_type": "code",
   "execution_count": 182,
   "metadata": {},
   "outputs": [
    {
     "data": {
      "text/plain": [
       "array([1.00000000e-05, 2.38169795e+00, 7.40721793e+00, 2.06552027e+01,\n",
       "       5.68317160e+01, 1.56094877e+02, 4.28632804e+02, 1.17697910e+03,\n",
       "       3.23184346e+03, 8.87424977e+03, 2.43676107e+04, 6.69104951e+04,\n",
       "       1.83728081e+05, 5.04494961e+05, 1.38528180e+06, 3.80381532e+06,\n",
       "       1.04448142e+07, 2.86801892e+07, 7.87523110e+07, 2.16244267e+08,\n",
       "       5.93780453e+08, 1.63044890e+09, 4.47701435e+09, 1.22933368e+10,\n",
       "       3.37560076e+10, 9.26898910e+10, 2.54515166e+11, 6.98867687e+11,\n",
       "       1.91900566e+12, 5.26935612e+12, 1.44690110e+13, 3.97301441e+13,\n",
       "       1.09094143e+14, 2.99559247e+14, 8.22553254e+14, 2.25863118e+15,\n",
       "       6.20192649e+15, 1.70297358e+16, 4.67615830e+16, 1.28401619e+17,\n",
       "       3.52575227e+17, 9.68128687e+17, 2.65836361e+18, 7.29954312e+18,\n",
       "       2.00436575e+19, 5.50374455e+19, 1.51126131e+20, 4.14973972e+20,\n",
       "       1.13946805e+21, 3.12884067e+21, 8.59141589e+21, 2.35909830e+22,\n",
       "       6.47779697e+22, 1.77872425e+23, 4.88416044e+23, 1.34113105e+24,\n",
       "       3.68258273e+24, 1.01119242e+25, 2.77661139e+25, 7.62423715e+25,\n",
       "       2.09352278e+26, 5.74855891e+26, 1.57848435e+27, 4.33432603e+27,\n",
       "       1.19015321e+28, 3.26801593e+28, 8.97357424e+28, 2.46403433e+29,\n",
       "       6.76593856e+29, 1.85784443e+30, 5.10141482e+30, 1.40078646e+31,\n",
       "       3.84638922e+31, 1.05617169e+32, 2.90011900e+32, 7.96337402e+32,\n",
       "       2.18664564e+33, 6.00426295e+33, 1.64869757e+34, 4.52712299e+34,\n",
       "       1.24309291e+35, 3.41338191e+35, 9.37273154e+35, 2.57363807e+36,\n",
       "       7.06689710e+36, 1.94048398e+37, 5.32833298e+37, 1.46309542e+38,\n",
       "       4.01748207e+38, 1.10315171e+39, 3.02912041e+39, 8.31759618e+39,\n",
       "       2.28391074e+40, 6.27134108e+40, 1.72203398e+41, 4.72849584e+41,\n",
       "       1.29838744e+42, 3.56521398e+42, 9.78964392e+42, 2.68811714e+43])"
      ]
     },
     "execution_count": 182,
     "metadata": {},
     "output_type": "execute_result"
    }
   ],
   "source": [
    "x = np.linspace(0,100,100)\n",
    "np.exp(x) - q_exponential(1, 1.00001, x)"
   ]
  },
  {
   "cell_type": "code",
   "execution_count": 166,
   "metadata": {},
   "outputs": [
    {
     "data": {
      "image/png": "[encoded data removed]",
      "text/plain": [
       "<Figure size 432x288 with 1 Axes>"
      ]
     },
     "metadata": {
      "needs_background": "light"
     },
     "output_type": "display_data"
    }
   ],
   "source": [
    "num_bins = 100\n",
    "\n",
    "fig, ax = plt.subplots()\n",
    "sigma = 2\n",
    "mu = 0\n",
    "# the histogram of the data\n",
    "# n, bins, patches = ax.hist(data, num_bins, log=True)\n",
    "\n",
    "# add a 'best fit' line\n",
    "x = np.linspace(bins_edges.min(), bins_edges.max(), 100)\n",
    "# y = q_exponential(1, 1.3, x)\n",
    "ax.plot(bins_edges[:-1], hist, '-')\n",
    "# ax.plot(bins_edges[:-1], y, '--')\n",
    "ax.set_xlim(1, 5)\n",
    "# ax.set_xlabel('Smarts')\n",
    "# ax.set_ylabel('Probability density')\n",
    "# ax.set_title(r'Histogram of IQ: $\\mu=100$, $\\sigma=15$')\n",
    "\n",
    "# Tweak spacing to prevent clipping of ylabel\n",
    "fig.tight_layout()"
   ]
  },
  {
   "cell_type": "code",
   "execution_count": 85,
   "metadata": {},
   "outputs": [
    {
     "data": {
      "text/plain": [
       "array([2.91935471e-01, 5.90541318e-04, 7.67369562e-05, 2.18425609e-05,\n",
       "       8.78872298e-06, 4.30221591e-06, 2.38974315e-06, 1.44999676e-06,\n",
       "       9.39088880e-07, 6.39473136e-07, 4.53109424e-07, 3.31595984e-07,\n",
       "       2.49250025e-07, 1.91622127e-07, 1.50178750e-07, 1.19669828e-07,\n",
       "       9.67505342e-08, 7.92245111e-08, 6.56109696e-08, 5.48880732e-08,\n",
       "       4.63359799e-08, 3.94381438e-08, 3.38176950e-08, 2.91955114e-08,\n",
       "       2.53620265e-08, 2.21579247e-08, 1.94607019e-08, 1.71751655e-08,\n",
       "       1.52266258e-08, 1.35559515e-08, 1.21159374e-08, 1.08686058e-08,\n",
       "       9.78318078e-09, 8.83455302e-09, 8.00210608e-09, 7.26881126e-09,\n",
       "       6.62052405e-09, 6.04543333e-09, 5.53362704e-09, 5.07674738e-09,\n",
       "       4.66771551e-09, 4.30051024e-09, 3.96998937e-09, 3.67174442e-09,\n",
       "       3.40198209e-09, 3.15742704e-09, 2.93524172e-09, 2.73296001e-09,\n",
       "       2.54843208e-09, 2.37977836e-09, 2.22535094e-09, 2.08370120e-09,\n",
       "       1.95355235e-09, 1.83377633e-09, 1.72337410e-09, 1.62145883e-09,\n",
       "       1.52724158e-09, 1.44001902e-09, 1.35916282e-09, 1.28411058e-09,\n",
       "       1.21435791e-09, 1.14945166e-09, 1.08898395e-09, 1.03258703e-09,\n",
       "       9.79928784e-10, 9.30708778e-10, 8.84654826e-10, 8.41519952e-10,\n",
       "       8.01079728e-10, 7.63129923e-10, 7.27484431e-10, 6.93973430e-10,\n",
       "       6.62441760e-10, 6.32747471e-10, 6.04760543e-10, 5.78361738e-10,\n",
       "       5.53441578e-10, 5.29899433e-10, 5.07642702e-10, 4.86586082e-10,\n",
       "       4.66650910e-10, 4.47764569e-10, 4.29859961e-10, 4.12875025e-10,\n",
       "       3.96752302e-10, 3.81438549e-10, 3.66884380e-10, 3.53043951e-10,\n",
       "       3.39874664e-10, 3.27336911e-10, 3.15393825e-10, 3.04011068e-10,\n",
       "       2.93156633e-10, 2.82800661e-10, 2.72915272e-10, 2.63474424e-10,\n",
       "       2.54453765e-10, 2.45830512e-10, 2.37583335e-10, 2.29692248e-10,\n",
       "       2.22138516e-10])"
      ]
     },
     "execution_count": 85,
     "metadata": {},
     "output_type": "execute_result"
    }
   ],
   "source": [
    "q_exponential(1, 1.3, bins)"
   ]
  },
  {
   "cell_type": "code",
   "execution_count": 37,
   "metadata": {},
   "outputs": [
    {
     "data": {
      "image/png": "[encoded data removed]",
      "text/plain": [
       "<Figure size 432x288 with 1 Axes>"
      ]
     },
     "metadata": {
      "needs_background": "light"
     },
     "output_type": "display_data"
    }
   ],
   "source": [
    "plt.hist(np.log2(data), log=True, bins=100)\n",
    "\n",
    "plt.show()"
   ]
  },
  {
   "cell_type": "code",
   "execution_count": 87,
   "metadata": {},
   "outputs": [
    {
     "data": {
      "text/plain": [
       "array([4.23752699e-02, 9.55546111e-05, 1.63493413e-05, 5.46961326e-06,\n",
       "       2.47343816e-06, 1.38121547e-06, 6.67233319e-07, 4.92987675e-07,\n",
       "       2.93242669e-07, 1.99745006e-07, 1.78495538e-07, 1.10497238e-07,\n",
       "       8.07479813e-08, 4.24989375e-08, 3.82490438e-08, 4.24989375e-08,\n",
       "       4.67488313e-08, 2.97492563e-08, 3.39991500e-08, 3.82490438e-08,\n",
       "       3.39991500e-08, 1.69995750e-08, 2.12494688e-08, 4.24989375e-09,\n",
       "       4.24989375e-09, 1.69995750e-08, 8.49978751e-09, 8.49978751e-09,\n",
       "       0.00000000e+00, 0.00000000e+00, 0.00000000e+00, 4.24989375e-09,\n",
       "       0.00000000e+00, 1.27496813e-08, 0.00000000e+00, 0.00000000e+00,\n",
       "       0.00000000e+00, 0.00000000e+00, 0.00000000e+00, 0.00000000e+00,\n",
       "       0.00000000e+00, 0.00000000e+00, 0.00000000e+00, 0.00000000e+00,\n",
       "       4.24989375e-09, 0.00000000e+00, 0.00000000e+00, 0.00000000e+00,\n",
       "       0.00000000e+00, 0.00000000e+00, 4.24989375e-09, 0.00000000e+00,\n",
       "       0.00000000e+00, 0.00000000e+00, 0.00000000e+00, 0.00000000e+00,\n",
       "       0.00000000e+00, 0.00000000e+00, 0.00000000e+00, 0.00000000e+00,\n",
       "       0.00000000e+00, 0.00000000e+00, 0.00000000e+00, 0.00000000e+00,\n",
       "       0.00000000e+00, 0.00000000e+00, 0.00000000e+00, 0.00000000e+00,\n",
       "       0.00000000e+00, 0.00000000e+00, 0.00000000e+00, 0.00000000e+00,\n",
       "       0.00000000e+00, 0.00000000e+00, 0.00000000e+00, 0.00000000e+00,\n",
       "       0.00000000e+00, 0.00000000e+00, 0.00000000e+00, 0.00000000e+00,\n",
       "       0.00000000e+00, 0.00000000e+00, 0.00000000e+00, 0.00000000e+00,\n",
       "       0.00000000e+00, 0.00000000e+00, 0.00000000e+00, 0.00000000e+00,\n",
       "       0.00000000e+00, 0.00000000e+00, 0.00000000e+00, 0.00000000e+00,\n",
       "       0.00000000e+00, 0.00000000e+00, 0.00000000e+00, 0.00000000e+00,\n",
       "       0.00000000e+00, 0.00000000e+00, 0.00000000e+00, 4.24989375e-09])"
      ]
     },
     "execution_count": 87,
     "metadata": {},
     "output_type": "execute_result"
    }
   ],
   "source": [
    "n"
   ]
  },
  {
   "cell_type": "code",
   "execution_count": null,
   "metadata": {},
   "outputs": [],
   "source": []
  }
 ],
 "metadata": {
  "kernelspec": {
   "display_name": "Python 3",
   "language": "python",
   "name": "python3"
  },
  "language_info": {
   "codemirror_mode": {
    "name": "ipython",
    "version": 3
   },
   "file_extension": ".py",
   "mimetype": "text/x-python",
   "name": "python",
   "nbconvert_exporter": "python",
   "pygments_lexer": "ipython3",
   "version": "3.6.8"
  }
 },
 "nbformat": 4,
 "nbformat_minor": 2
}
