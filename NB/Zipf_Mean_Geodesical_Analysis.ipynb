{
 "cells": [
  {
   "cell_type": "code",
   "execution_count": 1,
   "metadata": {},
   "outputs": [],
   "source": [
    "from matplotlib import pyplot as plt\n",
    "from sklearn import linear_model\n",
    "from sklearn.metrics import mean_squared_error, r2_score\n",
    "from scipy.optimize import curve_fit\n",
    "from scipy import stats\n",
    "import numpy as np\n",
    "import glob\n",
    "from decimal import Decimal\n",
    "from matplotlib.ticker import MaxNLocator\n",
    "import pandas as pd"
   ]
  },
  {
   "cell_type": "markdown",
   "metadata": {},
   "source": [
    "# Load results"
   ]
  },
  {
   "cell_type": "code",
   "execution_count": 2,
   "metadata": {},
   "outputs": [],
   "source": [
    "mlz_251E1 = np.loadtxt(\"/home/marcio/Projects/Random-Graph/Random-Graph/Results/Mean/mean_l_Z102_52.txt\", delimiter=\",\")\n",
    "mlz_251E2 = np.loadtxt(\"/home/marcio/Projects/Random-Graph/Random-Graph/Results/Mean/mean_l_Z1002_52.txt\", delimiter=\",\")\n",
    "mlz_251E3 = np.loadtxt(\"/home/marcio/Projects/Random-Graph/Random-Graph/Results/Mean/mean_l_Z10002_52.txt\", delimiter=\",\")\n",
    "mlz_251E4 = np.loadtxt(\"/home/marcio/Projects/Random-Graph/Random-Graph/Results/Mean/mean_l_Z100002_52.txt\", delimiter=\",\")\n",
    "mlz_251E5 = np.loadtxt(\"/home/marcio/Projects/Random-Graph/Random-Graph/Results/Mean/mean_l_Z1000002_52.txt\", delimiter=\",\")\n",
    "mlz_251E6 = np.loadtxt(\"/home/marcio/Projects/Random-Graph/Random-Graph/Results/Mean/mean_l_Z10000002_52.txt\", delimiter=\",\")\n",
    "mlz_251E7 = np.loadtxt(\"/home/marcio/Projects/Random-Graph/Random-Graph/Results/Mean/mean_l_Z100000002_52.txt\", delimiter=\",\")"
   ]
  },
  {
   "cell_type": "code",
   "execution_count": 3,
   "metadata": {},
   "outputs": [],
   "source": [
    "mlz_351E1 = np.loadtxt(\"/home/marcio/Projects/Random-Graph/Random-Graph/Results/Mean/mean_l_Z103_52.txt\", delimiter=\",\")\n",
    "mlz_351E2 = np.loadtxt(\"/home/marcio/Projects/Random-Graph/Random-Graph/Results/Mean/mean_l_Z1003_52.txt\", delimiter=\",\")\n",
    "mlz_351E3 = np.loadtxt(\"/home/marcio/Projects/Random-Graph/Random-Graph/Results/Mean/mean_l_Z10003_52.txt\", delimiter=\",\")\n",
    "mlz_351E4 = np.loadtxt(\"/home/marcio/Projects/Random-Graph/Random-Graph/Results/Mean/mean_l_Z100003_52.txt\", delimiter=\",\")\n",
    "mlz_351E5 = np.loadtxt(\"/home/marcio/Projects/Random-Graph/Random-Graph/Results/Mean/mean_l_Z1000003_52.txt\", delimiter=\",\")\n",
    "mlz_351E6 = np.loadtxt(\"/home/marcio/Projects/Random-Graph/Random-Graph/Results/Mean/mean_l_Z10000003_52.txt\", delimiter=\",\")\n",
    "mlz_351E7 = np.loadtxt(\"/home/marcio/Projects/Random-Graph/Random-Graph/Results/Mean/mean_l_Z100000003_52.txt\", delimiter=\",\")"
   ]
  },
  {
   "cell_type": "code",
   "execution_count": 4,
   "metadata": {},
   "outputs": [],
   "source": [
    "mlz_451E1 = np.loadtxt(\"/home/marcio/Projects/Random-Graph/Random-Graph/Results/Mean/mean_l_Z104_52.txt\", delimiter=\",\")\n",
    "mlz_451E2 = np.loadtxt(\"/home/marcio/Projects/Random-Graph/Random-Graph/Results/Mean/mean_l_Z1004_52.txt\", delimiter=\",\")\n",
    "mlz_451E3 = np.loadtxt(\"/home/marcio/Projects/Random-Graph/Random-Graph/Results/Mean/mean_l_Z10004_52.txt\", delimiter=\",\")\n",
    "mlz_451E4 = np.loadtxt(\"/home/marcio/Projects/Random-Graph/Random-Graph/Results/Mean/mean_l_Z100004_52.txt\", delimiter=\",\")\n",
    "mlz_451E5 = np.loadtxt(\"/home/marcio/Projects/Random-Graph/Random-Graph/Results/Mean/mean_l_Z1000004_52.txt\", delimiter=\",\")\n",
    "mlz_451E6 = np.loadtxt(\"/home/marcio/Projects/Random-Graph/Random-Graph/Results/Mean/mean_l_Z10000004_52.txt\", delimiter=\",\")\n",
    "mlz_451E7 = np.loadtxt(\"/home/marcio/Projects/Random-Graph/Random-Graph/Results/Mean/mean_l_Z100000004_52.txt\", delimiter=\",\")"
   ]
  },
  {
   "cell_type": "code",
   "execution_count": 5,
   "metadata": {},
   "outputs": [],
   "source": [
    "mlz_551E1 = np.loadtxt(\"/home/marcio/Projects/Random-Graph/Random-Graph/Results/Mean/mean_l_Z105_52.txt\", delimiter=\",\")\n",
    "mlz_551E2 = np.loadtxt(\"/home/marcio/Projects/Random-Graph/Random-Graph/Results/Mean/mean_l_Z1005_52.txt\", delimiter=\",\")\n",
    "mlz_551E3 = np.loadtxt(\"/home/marcio/Projects/Random-Graph/Random-Graph/Results/Mean/mean_l_Z10005_52.txt\", delimiter=\",\")\n",
    "mlz_551E4 = np.loadtxt(\"/home/marcio/Projects/Random-Graph/Random-Graph/Results/Mean/mean_l_Z100005_52.txt\", delimiter=\",\")\n",
    "mlz_551E5 = np.loadtxt(\"/home/marcio/Projects/Random-Graph/Random-Graph/Results/Mean/mean_l_Z1000005_52.txt\", delimiter=\",\")\n",
    "mlz_551E6 = np.loadtxt(\"/home/marcio/Projects/Random-Graph/Random-Graph/Results/Mean/mean_l_Z10000005_52.txt\", delimiter=\",\")\n",
    "mlz_551E7 = np.loadtxt(\"/home/marcio/Projects/Random-Graph/Random-Graph/Results/Mean/mean_l_Z100000005_52.txt\", delimiter=\",\")"
   ]
  },
  {
   "cell_type": "markdown",
   "metadata": {},
   "source": [
    "# Set data"
   ]
  },
  {
   "cell_type": "code",
   "execution_count": 6,
   "metadata": {},
   "outputs": [],
   "source": [
    "# Biggest component size (effective total number of nodes)\n",
    "mlz25 = np.array([mlz_251E1, mlz_251E2, mlz_251E3, mlz_251E4, mlz_251E5, mlz_251E6, mlz_251E7])\n",
    "mlz35 = np.array([mlz_351E1, mlz_351E2, mlz_351E3, mlz_351E4, mlz_351E5, mlz_351E6, mlz_351E7])\n",
    "mlz45 = np.array([mlz_451E1, mlz_451E2, mlz_451E3, mlz_451E4, mlz_451E5, mlz_451E6, mlz_451E7])\n",
    "mlz55 = np.array([mlz_551E1, mlz_551E2, mlz_551E3, mlz_551E4, mlz_551E5, mlz_551E6, mlz_551E7])"
   ]
  },
  {
   "cell_type": "code",
   "execution_count": 7,
   "metadata": {},
   "outputs": [],
   "source": [
    "ln_N = np.log(np.array([1e1, 1e2, 1e3, 1e4, 1e5, 1e6, 1e7]))\n",
    "N = np.array([1e1, 1e2, 1e3, 1e4, 1e5, 1e6, 1e7]) "
   ]
  },
  {
   "cell_type": "code",
   "execution_count": 8,
   "metadata": {},
   "outputs": [],
   "source": [
    "ml25 = np.mean(mlz25, axis=1)"
   ]
  },
  {
   "cell_type": "code",
   "execution_count": 9,
   "metadata": {},
   "outputs": [
    {
     "data": {
      "text/plain": [
       "array([2.39679 , 4.930384, 5.998138, 6.503247, 6.979636, 7.399472,\n",
       "       7.608753])"
      ]
     },
     "execution_count": 9,
     "metadata": {},
     "output_type": "execute_result"
    }
   ],
   "source": [
    "ml25"
   ]
  },
  {
   "cell_type": "code",
   "execution_count": 10,
   "metadata": {},
   "outputs": [],
   "source": [
    "def func(x, a, b):\n",
    "    return a * x + b"
   ]
  },
  {
   "cell_type": "code",
   "execution_count": 11,
   "metadata": {},
   "outputs": [],
   "source": [
    "def func1(x, a, b, c):\n",
    "    return a * np.exp(b * x + c)"
   ]
  },
  {
   "cell_type": "code",
   "execution_count": 12,
   "metadata": {},
   "outputs": [],
   "source": [
    "popt, pcov = curve_fit(func, ln_N, ml25)"
   ]
  },
  {
   "cell_type": "code",
   "execution_count": 13,
   "metadata": {},
   "outputs": [
    {
     "name": "stderr",
     "output_type": "stream",
     "text": [
      "/home/marcio/Projects/Random-Graph/RandomGraph_env/lib/python3.6/site-packages/ipykernel_launcher.py:2: RuntimeWarning: overflow encountered in exp\n",
      "  \n"
     ]
    }
   ],
   "source": [
    "popt1, pcov1 = curve_fit(func1, ln_N, ml25)"
   ]
  },
  {
   "cell_type": "code",
   "execution_count": 14,
   "metadata": {},
   "outputs": [
    {
     "data": {
      "text/plain": [
       "LinearRegression(copy_X=True, fit_intercept=True, n_jobs=None, normalize=False)"
      ]
     },
     "execution_count": 14,
     "metadata": {},
     "output_type": "execute_result"
    }
   ],
   "source": [
    "regr1 = linear_model.LinearRegression()\n",
    "regr2 = linear_model.LinearRegression()\n",
    "regr1.fit(ln_N[1:].reshape(-1,1), np.log(ml25[1:]))\n",
    "regr2.fit(ln_N.reshape(-1,1), ml25)"
   ]
  },
  {
   "cell_type": "code",
   "execution_count": 15,
   "metadata": {},
   "outputs": [],
   "source": [
    "x_p = np.linspace(ln_N[1:].min(), ln_N.max(), 100).reshape(-1,1)\n",
    "y_p1 = np.exp(regr1.predict(x_p))\n",
    "y_p2 = regr2.predict(x_p)\n",
    "y_test1 = np.exp(regr1.predict(ln_N.reshape(-1,1)))\n",
    "y_test2 = regr2.predict(ln_N.reshape(-1,1))\n",
    "mse1 = mean_squared_error(y_test1, ml25)\n",
    "mse2 = mean_squared_error(y_test2, ml25)"
   ]
  },
  {
   "cell_type": "code",
   "execution_count": 16,
   "metadata": {},
   "outputs": [
    {
     "data": {
      "image/png": "[encoded data removed]",
      "text/plain": [
       "<Figure size 432x288 with 1 Axes>"
      ]
     },
     "metadata": {
      "needs_background": "light"
     },
     "output_type": "display_data"
    }
   ],
   "source": [
    "font = {'family': 'serif',\n",
    "        'color':  'black',\n",
    "        'weight': 'normal',\n",
    "        'size': 16,\n",
    "        }\n",
    "font1 ={'family': 'serif',\n",
    "        'color':  'blue',\n",
    "        'weight': 'normal',\n",
    "        'size': 16,\n",
    "        }\n",
    "\n",
    "fig, ax = plt.subplots()\n",
    "# if(mse51 < mse52):\n",
    "#     ax.plot(x_p, func(x_p, *popt), color='blue', ls='--', alpha=0.3)\n",
    "# else:\n",
    "#     ax.plot(x_p, func(x_p, *popt), color='blue', ls='--', alpha=0.3)\n",
    "ax.scatter(N, ml25, color='black', facecolors='C0', label='γ = 2.5')\n",
    "\n",
    "# if(mse41 < mse42):\n",
    "#     ax.plot(x_p, y_p41, color='black', ls='--', alpha=0.3)\n",
    "# else:\n",
    "#     ax.plot(x_p, y_p42, color='black', ls='--', alpha=0.3)\n",
    "# ax.scatter(ln_ln_N, mean_l2, color='black', facecolors='none', label='γ = 4')\n",
    "\n",
    "\n",
    "ax.legend(loc='upper left', shadow=True, fontsize='x-large')\n",
    "plt.ylabel('$\\mathbb{E}[\\mathscr{l}]$', rotation=0, labelpad=20, fontdict=font)\n",
    "plt.xlabel('$N$', font)\n",
    "# plt.yscale('log')\n",
    "plt.xscale('log')\n",
    "# plt.text(2.4, 2.70, r'mse exp = %.2f'% mse51, font1, alpha=0.6)\n",
    "# plt.text(2.4, 2.30, r'mse line= %.2f'%mse52, font1, alpha=0.6)\n",
    "\n",
    "# plt.text(2.4, 1.70, r'mse exp = %.2f'% mse41, font, alpha=0.6)\n",
    "# plt.text(2.4, 1.30, r'mse line= %.2f'%mse42, font, alpha=0.6)\n",
    "# plt.title('γ = 3', fontdict=font)\n",
    "plt.savefig(\"usw25.jpg\", format='jpg', dpi=1200, bbox_inches = 'tight')"
   ]
  },
  {
   "cell_type": "code",
   "execution_count": 17,
   "metadata": {},
   "outputs": [],
   "source": [
    "ml35 = np.mean(mlz35, axis=1)"
   ]
  },
  {
   "cell_type": "code",
   "execution_count": 18,
   "metadata": {},
   "outputs": [
    {
     "data": {
      "text/plain": [
       "array([ 2.594814, 11.241503, 17.66765 , 23.49457 , 28.69323 , 33.75235 ,\n",
       "       38.32329 ])"
      ]
     },
     "execution_count": 18,
     "metadata": {},
     "output_type": "execute_result"
    }
   ],
   "source": [
    "ml35"
   ]
  },
  {
   "cell_type": "code",
   "execution_count": 19,
   "metadata": {},
   "outputs": [],
   "source": [
    "popt, pcov = curve_fit(func, ln_N, ml35)"
   ]
  },
  {
   "cell_type": "code",
   "execution_count": 20,
   "metadata": {},
   "outputs": [
    {
     "name": "stderr",
     "output_type": "stream",
     "text": [
      "/home/marcio/Projects/Random-Graph/RandomGraph_env/lib/python3.6/site-packages/ipykernel_launcher.py:2: RuntimeWarning: overflow encountered in exp\n",
      "  \n"
     ]
    }
   ],
   "source": [
    "popt1, pcov1 = curve_fit(func1, ln_N, ml35)"
   ]
  },
  {
   "cell_type": "code",
   "execution_count": 21,
   "metadata": {},
   "outputs": [
    {
     "data": {
      "text/plain": [
       "LinearRegression(copy_X=True, fit_intercept=True, n_jobs=None, normalize=False)"
      ]
     },
     "execution_count": 21,
     "metadata": {},
     "output_type": "execute_result"
    }
   ],
   "source": [
    "regr1 = linear_model.LinearRegression()\n",
    "regr2 = linear_model.LinearRegression()\n",
    "regr1.fit(ln_N[1:].reshape(-1,1), np.log(ml35[1:]))\n",
    "regr2.fit(ln_N[1:].reshape(-1,1), ml35[1:])"
   ]
  },
  {
   "cell_type": "code",
   "execution_count": 22,
   "metadata": {},
   "outputs": [],
   "source": [
    "x_p = np.linspace(ln_N[1:].min(), ln_N.max(), 100).reshape(-1,1)\n",
    "y_p1 = np.exp(regr1.predict(x_p))\n",
    "y_p2 = regr2.predict(x_p)\n",
    "y_test1 = np.exp(regr1.predict(ln_N.reshape(-1,1)))\n",
    "y_test2 = regr2.predict(ln_N.reshape(-1,1))\n",
    "mse1 = mean_squared_error(y_test1, ml35)\n",
    "mse2 = mean_squared_error(y_test2, ml35)"
   ]
  },
  {
   "cell_type": "code",
   "execution_count": 23,
   "metadata": {},
   "outputs": [
    {
     "data": {
      "image/png": "[encoded data removed]",
      "text/plain": [
       "<Figure size 432x288 with 1 Axes>"
      ]
     },
     "metadata": {
      "needs_background": "light"
     },
     "output_type": "display_data"
    }
   ],
   "source": [
    "font = {'family': 'serif',\n",
    "        'color':  'black',\n",
    "        'weight': 'normal',\n",
    "        'size': 16,\n",
    "        }\n",
    "font1 ={'family': 'serif',\n",
    "        'color':  'blue',\n",
    "        'weight': 'normal',\n",
    "        'size': 16,\n",
    "        }\n",
    "\n",
    "fig, ax = plt.subplots()\n",
    "# if(mse51 < mse52):\n",
    "#     ax.plot(x_p, func(x_p, *popt), color='blue', ls='--', alpha=0.3)\n",
    "# else:\n",
    "#     ax.plot(x_p, func(x_p, *popt), color='blue', ls='--', alpha=0.3)\n",
    "ax.scatter(N, ml35, color='black', facecolors='Darkred', label='γ = 3.5')\n",
    "\n",
    "# if(mse41 < mse42):\n",
    "#     ax.plot(x_p, y_p41, color='black', ls='--', alpha=0.3)\n",
    "# else:\n",
    "#     ax.plot(x_p, y_p42, color='black', ls='--', alpha=0.3)\n",
    "# ax.scatter(ln_ln_N, mean_l2, color='black', facecolors='none', label='γ = 4')\n",
    "\n",
    "\n",
    "ax.legend(loc='upper left', shadow=True, fontsize='x-large')\n",
    "plt.ylabel('$\\mathbb{E}[\\mathscr{l}]$', rotation=0, labelpad=20, fontdict=font)\n",
    "plt.xlabel('$N$', font)\n",
    "# plt.yscale('log')\n",
    "plt.xscale('log')\n",
    "# plt.text(2.4, 2.70, r'mse exp = %.2f'% mse51, font1, alpha=0.6)\n",
    "# plt.text(2.4, 2.30, r'mse line= %.2f'%mse52, font1, alpha=0.6)\n",
    "\n",
    "# plt.text(2.4, 1.70, r'mse exp = %.2f'% mse41, font, alpha=0.6)\n",
    "# plt.text(2.4, 1.30, r'mse line= %.2f'%mse42, font, alpha=0.6)\n",
    "# plt.title('γ = 3', fontdict=font)\n",
    "plt.savefig(\"usw35.jpg\", format='jpg', dpi=1200, bbox_inches = 'tight')"
   ]
  },
  {
   "cell_type": "code",
   "execution_count": 24,
   "metadata": {},
   "outputs": [],
   "source": [
    "ml45 = np.mean(mlz45, axis=1)"
   ]
  },
  {
   "cell_type": "code",
   "execution_count": 25,
   "metadata": {},
   "outputs": [
    {
     "data": {
      "text/plain": [
       "array([  2.330001,  16.42548 ,  39.69326 ,  57.83205 ,  76.41666 ,\n",
       "        95.15877 , 113.4271  ])"
      ]
     },
     "execution_count": 25,
     "metadata": {},
     "output_type": "execute_result"
    }
   ],
   "source": [
    "ml45"
   ]
  },
  {
   "cell_type": "code",
   "execution_count": 26,
   "metadata": {},
   "outputs": [],
   "source": [
    "popt, pcov = curve_fit(func, ln_N, ml45)"
   ]
  },
  {
   "cell_type": "code",
   "execution_count": 27,
   "metadata": {},
   "outputs": [
    {
     "name": "stderr",
     "output_type": "stream",
     "text": [
      "/home/marcio/Projects/Random-Graph/RandomGraph_env/lib/python3.6/site-packages/ipykernel_launcher.py:2: RuntimeWarning: overflow encountered in exp\n",
      "  \n"
     ]
    }
   ],
   "source": [
    "popt1, pcov1 = curve_fit(func1, ln_N, ml45)"
   ]
  },
  {
   "cell_type": "code",
   "execution_count": 28,
   "metadata": {},
   "outputs": [
    {
     "data": {
      "text/plain": [
       "LinearRegression(copy_X=True, fit_intercept=True, n_jobs=None, normalize=False)"
      ]
     },
     "execution_count": 28,
     "metadata": {},
     "output_type": "execute_result"
    }
   ],
   "source": [
    "regr1 = linear_model.LinearRegression()\n",
    "regr2 = linear_model.LinearRegression()\n",
    "regr1.fit(ln_N[1:].reshape(-1,1), np.log(ml45[1:]))\n",
    "regr2.fit(ln_N[1:].reshape(-1,1), ml45[1:])"
   ]
  },
  {
   "cell_type": "code",
   "execution_count": 29,
   "metadata": {},
   "outputs": [],
   "source": [
    "x_p = np.linspace(ln_N[1:].min(), ln_N.max(), 100).reshape(-1,1)\n",
    "y_p1 = np.exp(regr1.predict(x_p))\n",
    "y_p2 = regr2.predict(x_p)\n",
    "y_test1 = np.exp(regr1.predict(ln_N.reshape(-1,1)))\n",
    "y_test2 = regr2.predict(ln_N.reshape(-1,1))\n",
    "mse1 = mean_squared_error(y_test1, ml45)\n",
    "mse2 = mean_squared_error(y_test2, ml45)"
   ]
  },
  {
   "cell_type": "code",
   "execution_count": 30,
   "metadata": {},
   "outputs": [
    {
     "data": {
      "image/png": "[encoded data removed]",
      "text/plain": [
       "<Figure size 432x288 with 1 Axes>"
      ]
     },
     "metadata": {
      "needs_background": "light"
     },
     "output_type": "display_data"
    }
   ],
   "source": [
    "font = {'family': 'serif',\n",
    "        'color':  'black',\n",
    "        'weight': 'normal',\n",
    "        'size': 16,\n",
    "        }\n",
    "font1 ={'family': 'serif',\n",
    "        'color':  'blue',\n",
    "        'weight': 'normal',\n",
    "        'size': 16,\n",
    "        }\n",
    "\n",
    "fig, ax = plt.subplots()\n",
    "# if(mse51 < mse52):\n",
    "#     ax.plot(x_p, func(x_p, *popt), color='blue', ls='--', alpha=0.3)\n",
    "# else:\n",
    "#     ax.plot(x_p, func(x_p, *popt), color='blue', ls='--', alpha=0.3)\n",
    "ax.scatter(N, ml45, color='black', facecolors='tab:gray', label='γ = 4.5')\n",
    "\n",
    "# if(mse41 < mse42):\n",
    "#     ax.plot(x_p, y_p41, color='black', ls='--', alpha=0.3)\n",
    "# else:\n",
    "#     ax.plot(x_p, y_p42, color='black', ls='--', alpha=0.3)\n",
    "# ax.scatter(ln_ln_N, mean_l2, color='black', facecolors='none', label='γ = 4')\n",
    "\n",
    "\n",
    "ax.legend(loc='upper left', shadow=True, fontsize='x-large')\n",
    "plt.ylabel('$\\mathbb{E}[\\mathscr{l}]$', rotation=0, labelpad=20, fontdict=font)\n",
    "plt.xlabel('$N$', font)\n",
    "# plt.yscale('log')\n",
    "plt.xscale('log')\n",
    "# plt.text(2.4, 2.70, r'mse exp = %.2f'% mse51, font1, alpha=0.6)\n",
    "# plt.text(2.4, 2.30, r'mse line= %.2f'%mse52, font1, alpha=0.6)\n",
    "\n",
    "# plt.text(2.4, 1.70, r'mse exp = %.2f'% mse41, font, alpha=0.6)\n",
    "# plt.text(2.4, 1.30, r'mse line= %.2f'%mse42, font, alpha=0.6)\n",
    "# plt.title('γ = 3', fontdict=font)\n",
    "plt.savefig(\"usw45.jpg\", format='jpg', dpi=1200, bbox_inches = 'tight')"
   ]
  },
  {
   "cell_type": "code",
   "execution_count": 31,
   "metadata": {},
   "outputs": [],
   "source": [
    "ml55 = np.mean(mlz55, axis=1)"
   ]
  },
  {
   "cell_type": "code",
   "execution_count": 32,
   "metadata": {},
   "outputs": [
    {
     "data": {
      "text/plain": [
       "array([  2.356668,  18.88854 ,  80.50312 , 120.3797  , 168.0702  ,\n",
       "       216.7129  , 265.7896  ])"
      ]
     },
     "execution_count": 32,
     "metadata": {},
     "output_type": "execute_result"
    }
   ],
   "source": [
    "ml55"
   ]
  },
  {
   "cell_type": "code",
   "execution_count": 33,
   "metadata": {},
   "outputs": [],
   "source": [
    "popt, pcov = curve_fit(func, ln_N, ml55)"
   ]
  },
  {
   "cell_type": "code",
   "execution_count": 34,
   "metadata": {},
   "outputs": [
    {
     "name": "stderr",
     "output_type": "stream",
     "text": [
      "/home/marcio/Projects/Random-Graph/RandomGraph_env/lib/python3.6/site-packages/ipykernel_launcher.py:2: RuntimeWarning: overflow encountered in exp\n",
      "  \n"
     ]
    }
   ],
   "source": [
    "popt1, pcov1 = curve_fit(func1, ln_N, ml55)"
   ]
  },
  {
   "cell_type": "code",
   "execution_count": 35,
   "metadata": {},
   "outputs": [
    {
     "data": {
      "text/plain": [
       "LinearRegression(copy_X=True, fit_intercept=True, n_jobs=None, normalize=False)"
      ]
     },
     "execution_count": 35,
     "metadata": {},
     "output_type": "execute_result"
    }
   ],
   "source": [
    "regr1 = linear_model.LinearRegression()\n",
    "regr2 = linear_model.LinearRegression()\n",
    "regr1.fit(ln_N[1:].reshape(-1,1), np.log(ml55[1:]))\n",
    "regr2.fit(ln_N.reshape(-1,1), ml55)"
   ]
  },
  {
   "cell_type": "code",
   "execution_count": 36,
   "metadata": {},
   "outputs": [],
   "source": [
    "x_p = np.linspace(ln_N[1:].min(), ln_N.max(), 100).reshape(-1,1)\n",
    "y_p1 = np.exp(regr1.predict(x_p))\n",
    "y_p2 = regr2.predict(x_p)\n",
    "y_test1 = np.exp(regr1.predict(ln_N.reshape(-1,1)))\n",
    "y_test2 = regr2.predict(ln_N.reshape(-1,1))\n",
    "mse1 = mean_squared_error(y_test1, ml55)\n",
    "mse2 = mean_squared_error(y_test2, ml55)"
   ]
  },
  {
   "cell_type": "code",
   "execution_count": 37,
   "metadata": {},
   "outputs": [
    {
     "data": {
      "image/png": "[encoded data removed]",
      "text/plain": [
       "<Figure size 432x288 with 1 Axes>"
      ]
     },
     "metadata": {
      "needs_background": "light"
     },
     "output_type": "display_data"
    }
   ],
   "source": [
    "font = {'family': 'serif',\n",
    "        'color':  'black',\n",
    "        'weight': 'normal',\n",
    "        'size': 16,\n",
    "        }\n",
    "font1 ={'family': 'serif',\n",
    "        'color':  'blue',\n",
    "        'weight': 'normal',\n",
    "        'size': 16,\n",
    "        }\n",
    "\n",
    "fig, ax = plt.subplots()\n",
    "# if(mse51 < mse52):\n",
    "#     ax.plot(x_p, func(x_p, *popt), color='blue', ls='--', alpha=0.3)\n",
    "# else:\n",
    "#     ax.plot(x_p, func(x_p, *popt), color='blue', ls='--', alpha=0.3)\n",
    "ax.scatter(N, ml55, color='black', facecolors='C0', label='γ = 5.5')\n",
    "\n",
    "# if(mse41 < mse42):\n",
    "#     ax.plot(x_p, y_p41, color='black', ls='--', alpha=0.3)\n",
    "# else:\n",
    "#     ax.plot(x_p, y_p42, color='black', ls='--', alpha=0.3)\n",
    "# ax.scatter(ln_ln_N, mean_l2, color='black', facecolors='none', label='γ = 4')\n",
    "\n",
    "\n",
    "ax.legend(loc='upper left', shadow=True, fontsize='x-large')\n",
    "plt.ylabel('$\\mathbb{E}[\\mathscr{l}]$', rotation=0, labelpad=20, fontdict=font)\n",
    "plt.xlabel('$N$', font)\n",
    "# plt.yscale('log')\n",
    "plt.xscale('log')\n",
    "# plt.text(2.4, 2.70, r'mse exp = %.2f'% mse51, font1, alpha=0.6)\n",
    "# plt.text(2.4, 2.30, r'mse line= %.2f'%mse52, font1, alpha=0.6)\n",
    "\n",
    "# plt.text(2.4, 1.70, r'mse exp = %.2f'% mse41, font, alpha=0.6)\n",
    "# plt.text(2.4, 1.30, r'mse line= %.2f'%mse42, font, alpha=0.6)\n",
    "# plt.title('γ = 3', fontdict=font)\n",
    "plt.savefig(\"usw55.jpg\", format='jpg', dpi=1200, bbox_inches = 'tight')"
   ]
  },
  {
   "cell_type": "code",
   "execution_count": 39,
   "metadata": {},
   "outputs": [
    {
     "name": "stdout",
     "output_type": "stream",
     "text": [
      "1.4655508708873115\n",
      "1.798067833907767\n",
      "1.900221151241068\n",
      "1.9324634826829346\n",
      "1.9426578767708087\n",
      "1.9458815835706962\n",
      "1.9469010080230515\n"
     ]
    }
   ],
   "source": [
    "for i in range(1, 8):\n",
    "    mean = 0\n",
    "    α = 0\n",
    "    γ = 2.5\n",
    "    for j in range (1, (10**i) - 1):\n",
    "        α += (1 / j)**(γ)\n",
    "    for j in range (1, (10**i) - 1):\n",
    "        mean += (1 / j)**(γ - 1)\n",
    "    mean /= α\n",
    "    print(mean)"
   ]
  },
  {
   "cell_type": "code",
   "execution_count": null,
   "metadata": {},
   "outputs": [],
   "source": []
  }
 ],
 "metadata": {
  "kernelspec": {
   "display_name": "Python 3",
   "language": "python",
   "name": "python3"
  },
  "language_info": {
   "codemirror_mode": {
    "name": "ipython",
    "version": 3
   },
   "file_extension": ".py",
   "mimetype": "text/x-python",
   "name": "python",
   "nbconvert_exporter": "python",
   "pygments_lexer": "ipython3",
   "version": "3.6.7"
  }
 },
 "nbformat": 4,
 "nbformat_minor": 2
}
