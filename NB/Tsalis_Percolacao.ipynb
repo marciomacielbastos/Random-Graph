{
 "cells": [
  {
   "cell_type": "code",
   "execution_count": 1,
   "metadata": {},
   "outputs": [],
   "source": [
    "from matplotlib import pyplot as plt\n",
    "from sklearn import linear_model\n",
    "from sklearn.metrics import mean_squared_error, r2_score\n",
    "from scipy.optimize import curve_fit\n",
    "from scipy import stats\n",
    "import numpy as np\n",
    "from decimal import Decimal\n",
    "from matplotlib.ticker import MaxNLocator\n",
    "import pandas as pd"
   ]
  },
  {
   "cell_type": "code",
   "execution_count": 3,
   "metadata": {},
   "outputs": [],
   "source": [
    "percolacao_1E7_0_1 = np.loadtxt(\"/home/marcio/Projects/Random-Graph/Random-Graph/Results/Mean/Biggest_component_1E7_0_1.txt\", delimiter=\",\")"
   ]
  },
  {
   "cell_type": "code",
   "execution_count": 16,
   "metadata": {},
   "outputs": [
    {
     "data": {
      "text/plain": [
       "array([1.00000000e+00, 2.47341083e-04, 3.23331609e-05, 1.44973760e-05,\n",
       "       8.40067877e-06, 5.58207039e-06, 4.08992937e-06, 3.16480734e-06,\n",
       "       2.54636290e-06, 2.11478190e-06, 1.79342280e-06, 1.55339806e-06,\n",
       "       1.36561837e-06, 1.21390455e-06, 1.09060531e-06, 9.89411320e-07,\n",
       "       9.04920050e-07, 8.33469467e-07, 7.71444816e-07, 7.17891581e-07,\n",
       "       6.71022497e-07, 6.29866506e-07, 5.93612375e-07, 5.61307082e-07,\n",
       "       5.32107924e-07, 5.06151000e-07, 4.82359393e-07, 4.60963746e-07,\n",
       "       4.41317173e-07, 4.23329162e-07, 4.06878691e-07, 3.91590209e-07,\n",
       "       3.77529447e-07, 3.64519960e-07, 3.52377952e-07, 3.41055745e-07,\n",
       "       3.30567694e-07, 3.20727050e-07, 3.11458851e-07, 3.02774688e-07,\n",
       "       2.94619887e-07, 2.86923545e-07, 2.79617506e-07, 2.72761095e-07,\n",
       "       2.66267337e-07, 2.60126734e-07, 2.54261486e-07, 2.48686933e-07,\n",
       "       2.43368690e-07, 2.38323916e-07, 2.33494452e-07, 2.28901989e-07,\n",
       "       2.24488055e-07, 2.20281105e-07, 2.16265408e-07, 2.12403967e-07,\n",
       "       2.08712189e-07, 2.05148446e-07, 2.01723485e-07, 1.98439590e-07,\n",
       "       1.95255868e-07, 1.92190050e-07, 1.89247738e-07, 1.86387766e-07,\n",
       "       1.83635303e-07, 1.81010447e-07, 1.78446293e-07, 1.75984519e-07,\n",
       "       1.73587122e-07, 1.71262496e-07, 1.69019760e-07, 1.66829075e-07,\n",
       "       1.64727712e-07, 1.62685508e-07, 1.60709410e-07, 1.58788028e-07,\n",
       "       1.56928766e-07, 1.55115307e-07, 1.53345234e-07, 1.51618620e-07,\n",
       "       1.49949205e-07, 1.48332586e-07, 1.46753253e-07, 1.45209706e-07,\n",
       "       1.43717601e-07, 1.42251578e-07, 1.40834161e-07, 1.39447784e-07,\n",
       "       1.38099497e-07, 1.36774170e-07, 1.35480996e-07, 1.34219000e-07,\n",
       "       1.32983781e-07, 1.31773886e-07, 1.30594812e-07, 1.29451011e-07,\n",
       "       1.28334960e-07, 1.27240709e-07, 1.26161363e-07, 1.25104869e-07,\n",
       "       1.24072065e-07])"
      ]
     },
     "execution_count": 16,
     "metadata": {},
     "output_type": "execute_result"
    }
   ],
   "source": []
  },
  {
   "cell_type": "code",
   "execution_count": 8,
   "metadata": {},
   "outputs": [
    {
     "data": {
      "text/html": [
       "<div>\n",
       "<style scoped>\n",
       "    .dataframe tbody tr th:only-of-type {\n",
       "        vertical-align: middle;\n",
       "    }\n",
       "\n",
       "    .dataframe tbody tr th {\n",
       "        vertical-align: top;\n",
       "    }\n",
       "\n",
       "    .dataframe thead th {\n",
       "        text-align: right;\n",
       "    }\n",
       "</style>\n",
       "<table border=\"1\" class=\"dataframe\">\n",
       "  <thead>\n",
       "    <tr style=\"text-align: right;\">\n",
       "      <th></th>\n",
       "      <th>0</th>\n",
       "      <th>1</th>\n",
       "    </tr>\n",
       "  </thead>\n",
       "  <tbody>\n",
       "    <tr>\n",
       "      <th>count</th>\n",
       "      <td>101.000000</td>\n",
       "      <td>1.010000e+02</td>\n",
       "    </tr>\n",
       "    <tr>\n",
       "      <th>mean</th>\n",
       "      <td>0.500000</td>\n",
       "      <td>4.123945e+06</td>\n",
       "    </tr>\n",
       "    <tr>\n",
       "      <th>std</th>\n",
       "      <td>0.293002</td>\n",
       "      <td>2.483937e+06</td>\n",
       "    </tr>\n",
       "    <tr>\n",
       "      <th>min</th>\n",
       "      <td>0.000000</td>\n",
       "      <td>1.000000e+00</td>\n",
       "    </tr>\n",
       "    <tr>\n",
       "      <th>25%</th>\n",
       "      <td>0.250000</td>\n",
       "      <td>1.975695e+06</td>\n",
       "    </tr>\n",
       "    <tr>\n",
       "      <th>50%</th>\n",
       "      <td>0.500000</td>\n",
       "      <td>4.282757e+06</td>\n",
       "    </tr>\n",
       "    <tr>\n",
       "      <th>75%</th>\n",
       "      <td>0.750000</td>\n",
       "      <td>6.297704e+06</td>\n",
       "    </tr>\n",
       "    <tr>\n",
       "      <th>max</th>\n",
       "      <td>1.000000</td>\n",
       "      <td>8.059832e+06</td>\n",
       "    </tr>\n",
       "  </tbody>\n",
       "</table>\n",
       "</div>"
      ],
      "text/plain": [
       "                0             1\n",
       "count  101.000000  1.010000e+02\n",
       "mean     0.500000  4.123945e+06\n",
       "std      0.293002  2.483937e+06\n",
       "min      0.000000  1.000000e+00\n",
       "25%      0.250000  1.975695e+06\n",
       "50%      0.500000  4.282757e+06\n",
       "75%      0.750000  6.297704e+06\n",
       "max      1.000000  8.059832e+06"
      ]
     },
     "execution_count": 8,
     "metadata": {},
     "output_type": "execute_result"
    }
   ],
   "source": [
    "pd.DataFrame(percolacao_1E7_0_1).describe()"
   ]
  },
  {
   "cell_type": "code",
   "execution_count": 28,
   "metadata": {},
   "outputs": [
    {
     "data": {
      "image/png": "[encoded data removed]",
      "text/plain": [
       "<Figure size 720x360 with 1 Axes>"
      ]
     },
     "metadata": {
      "needs_background": "light"
     },
     "output_type": "display_data"
    }
   ],
   "source": [
    "font = {'family': 'serif',\n",
    "        'color':  'black',\n",
    "        'weight': 'normal',\n",
    "        'size': 16,\n",
    "        }\n",
    "font1 ={'family': 'serif',\n",
    "        'color':  'blue',\n",
    "        'weight': 'normal',\n",
    "        'size': 16,\n",
    "        }\n",
    "\n",
    "fig, ax = plt.subplots(figsize=(10, 5))\n",
    "ax.scatter(percolacao_1E7_0_1.T[1]**(1), percolacao_1E7_0_1.T[0], color='black', facecolors='C0', label=r'q = 1.4, $\\lambda$ = 17.51')\n",
    "\n",
    "\n",
    "ax.legend(loc='upper left', shadow=True, fontsize='x-large')\n",
    "plt.ylabel('$p_{c}$', rotation=0, labelpad=20, fontdict=font)\n",
    "plt.xlabel('$T_m$', font)\n",
    "# plt.yscale('log')\n",
    "# plt.xscale('log')\n",
    "\n",
    "# plt.title('$\\lambda$ = $f(\\mathbb{E}[X$ ~ Zipf$(\\gamma = 2.5)])$', fontdict=font)\n",
    "plt.savefig(\"../Results/JPG/percolacao_1E7_0_1.jpg\", format='jpg', dpi=1200, bbox_inches = 'tight')"
   ]
  },
  {
   "cell_type": "code",
   "execution_count": null,
   "metadata": {},
   "outputs": [],
   "source": []
  }
 ],
 "metadata": {
  "kernelspec": {
   "display_name": "Python 3",
   "language": "python",
   "name": "python3"
  },
  "language_info": {
   "codemirror_mode": {
    "name": "ipython",
    "version": 3
   },
   "file_extension": ".py",
   "mimetype": "text/x-python",
   "name": "python",
   "nbconvert_exporter": "python",
   "pygments_lexer": "ipython3",
   "version": "3.6.8"
  }
 },
 "nbformat": 4,
 "nbformat_minor": 2
}
