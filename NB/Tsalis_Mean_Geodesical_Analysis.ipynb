{
 "cells": [
  {
   "cell_type": "code",
   "execution_count": 1,
   "metadata": {},
   "outputs": [],
   "source": [
    "from matplotlib import pyplot as plt\n",
    "from sklearn import linear_model\n",
    "from sklearn.metrics import mean_squared_error, r2_score\n",
    "from scipy.optimize import curve_fit\n",
    "from scipy import stats\n",
    "import numpy as np\n",
    "from decimal import Decimal\n",
    "from matplotlib.ticker import MaxNLocator\n",
    "import pandas as pd"
   ]
  },
  {
   "cell_type": "markdown",
   "metadata": {},
   "source": [
    "# Load results"
   ]
  },
  {
   "cell_type": "code",
   "execution_count": null,
   "metadata": {},
   "outputs": [],
   "source": [
    "mlt_1421E1 = np.loadtxt(\"/home/marcio/Projects/Random-Graph/Random-Graph/Results/Mean/mean_l_q_1E1_1-4_2_2.txt\", delimiter=\",\")\n",
    "mlt_1421E2 = np.loadtxt(\"/home/marcio/Projects/Random-Graph/Random-Graph/Results/Mean/mean_l_q_1E2_1-4_2_2.txt\", delimiter=\",\")\n",
    "mlt_1421E3 = np.loadtxt(\"/home/marcio/Projects/Random-Graph/Random-Graph/Results/Mean/mean_l_q_1E3_1-4_2_2.txt\", delimiter=\",\")\n",
    "mlt_1421E4 = np.loadtxt(\"/home/marcio/Projects/Random-Graph/Random-Graph/Results/Mean/mean_l_q_1E4_1-4_2_2.txt\", delimiter=\",\")\n",
    "mlt_1421E5 = np.loadtxt(\"/home/marcio/Projects/Random-Graph/Random-Graph/Results/Mean/mean_l_q_1E5_1-4_2_2.txt\", delimiter=\",\")\n",
    "mlt_1421E6 = np.loadtxt(\"/home/marcio/Projects/Random-Graph/Random-Graph/Results/Mean/mean_l_q_1E6_1-4_2_2.txt\", delimiter=\",\")\n",
    "mlt_1421E7 = np.loadtxt(\"/home/marcio/Projects/Random-Graph/Random-Graph/Results/Mean/mean_l_q_1E7_1-4_2_2.txt\", delimiter=\",\")"
   ]
  },
  {
   "cell_type": "code",
   "execution_count": 2,
   "metadata": {},
   "outputs": [],
   "source": [
    "mlstm_141E1 = np.loadtxt(\"/home/marcio/Projects/Random-Graph/Random-Graph/Results/Mean/mean_l_q_st_moment1E1_1-4_3-41169_2.txt\", delimiter=\",\")\n",
    "mlstm_141E2 = np.loadtxt(\"/home/marcio/Projects/Random-Graph/Random-Graph/Results/Mean/mean_l_q_st_moment1E2_1-4_2-78076_2.txt\", delimiter=\",\")\n",
    "mlstm_141E3 = np.loadtxt(\"/home/marcio/Projects/Random-Graph/Random-Graph/Results/Mean/mean_l_q_st_moment1E3_1-4_2-63127_2.txt\", delimiter=\",\")\n",
    "mlstm_141E4 = np.loadtxt(\"/home/marcio/Projects/Random-Graph/Random-Graph/Results/Mean/mean_l_q_st_moment1E4_1-4_2-58737_2.txt\", delimiter=\",\")\n",
    "mlstm_141E5 = np.loadtxt(\"/home/marcio/Projects/Random-Graph/Random-Graph/Results/Mean/mean_l_q_st_moment1E5_1-4_2-57379_2.txt\", delimiter=\",\")\n",
    "mlstm_141E6 = np.loadtxt(\"/home/marcio/Projects/Random-Graph/Random-Graph/Results/Mean/mean_l_q_st_moment1E6_1-4_2-56953_2.txt\", delimiter=\",\")\n",
    "mlstm_141E7 = np.loadtxt(\"/home/marcio/Projects/Random-Graph/Random-Graph/Results/Mean/mean_l_q_st_moment1E7_1-4_2-56818_2.txt\", delimiter=\",\")"
   ]
  },
  {
   "cell_type": "code",
   "execution_count": 3,
   "metadata": {},
   "outputs": [],
   "source": [
    "mlstm_1291E1 = np.loadtxt(\"/home/marcio/Projects/Random-Graph/Random-Graph/Results/Mean/mean_l_q_st_moment1E1_1-29_2-03721_2.txt\", delimiter=\",\")\n",
    "mlstm_1291E2 = np.loadtxt(\"/home/marcio/Projects/Random-Graph/Random-Graph/Results/Mean/mean_l_q_st_moment1E2_1-29_2-0008_2.txt\", delimiter=\",\")\n",
    "mlstm_1291E3 = np.loadtxt(\"/home/marcio/Projects/Random-Graph/Random-Graph/Results/Mean/mean_l_q_st_moment1E3_1-29_1-99983_2.txt\", delimiter=\",\")\n",
    "mlstm_1291E4 = np.loadtxt(\"/home/marcio/Projects/Random-Graph/Random-Graph/Results/Mean/mean_l_q_st_moment1E4_1-29_1-9998_2.txt\", delimiter=\",\")\n",
    "mlstm_1291E5 = np.loadtxt(\"/home/marcio/Projects/Random-Graph/Random-Graph/Results/Mean/mean_l_q_st_moment1E5_1-29_1-9998_2.txt\", delimiter=\",\")\n",
    "mlstm_1291E6 = np.loadtxt(\"/home/marcio/Projects/Random-Graph/Random-Graph/Results/Mean/mean_l_q_st_moment1E6_1-29_1-9998_2.txt\", delimiter=\",\")\n",
    "mlstm_1291E7 = np.loadtxt(\"/home/marcio/Projects/Random-Graph/Random-Graph/Results/Mean/mean_l_q_st_moment1E7_1-29_1-9998_2.txt\", delimiter=\",\")"
   ]
  },
  {
   "cell_type": "code",
   "execution_count": 4,
   "metadata": {},
   "outputs": [],
   "source": [
    "mlstm_1221E1 = np.loadtxt(\"/home/marcio/Projects/Random-Graph/Random-Graph/Results/Mean/mean_l_q_st_moment1E1_1-22_1-67412_2.txt\", delimiter=\",\")\n",
    "mlstm_1221E2 = np.loadtxt(\"/home/marcio/Projects/Random-Graph/Random-Graph/Results/Mean/mean_l_q_st_moment1E2_1-22_1-67157_2.txt\", delimiter=\",\")\n",
    "mlstm_1221E3 = np.loadtxt(\"/home/marcio/Projects/Random-Graph/Random-Graph/Results/Mean/mean_l_q_st_moment1E3_1-22_1-67156_2.txt\", delimiter=\",\")\n",
    "mlstm_1221E4 = np.loadtxt(\"/home/marcio/Projects/Random-Graph/Random-Graph/Results/Mean/mean_l_q_st_moment1E4_1-22_1-67156_2.txt\", delimiter=\",\")\n",
    "mlstm_1221E5 = np.loadtxt(\"/home/marcio/Projects/Random-Graph/Random-Graph/Results/Mean/mean_l_q_st_moment1E5_1-22_1-67156_2.txt\", delimiter=\",\")\n",
    "mlstm_1221E6 = np.loadtxt(\"/home/marcio/Projects/Random-Graph/Random-Graph/Results/Mean/mean_l_q_st_moment1E6_1-22_1-67156_2.txt\", delimiter=\",\")\n",
    "mlstm_1221E7 = np.loadtxt(\"/home/marcio/Projects/Random-Graph/Random-Graph/Results/Mean/mean_l_q_st_moment1E7_1-22_1-67156_2.txt\", delimiter=\",\")"
   ]
  },
  {
   "cell_type": "markdown",
   "metadata": {},
   "source": [
    "# Set data"
   ]
  },
  {
   "cell_type": "code",
   "execution_count": 5,
   "metadata": {},
   "outputs": [],
   "source": [
    "# Biggest component size (effective total number of nodes)\n",
    "# mlt142 = np.array([mlt_1421E1, mlt_1421E1, mlt_1421E3, mlt_1421E4, mlt_1421E5, mlt_1421E6, mlt_1421E7])\n",
    "mlstm14 = np.array([mlstm_141E1, mlstm_141E2, mlstm_141E3, mlstm_141E4, mlstm_141E5, mlstm_141E6, mlstm_141E7])\n",
    "mlstm129 = np.array([mlstm_1291E1, mlstm_1291E2, mlstm_1291E3, mlstm_1291E4, mlstm_1291E5, mlstm_1291E6, mlstm_1291E7])\n",
    "mlstm122 = np.array([mlstm_1221E1, mlstm_1221E2, mlstm_1221E3, mlstm_1221E4, mlstm_1221E5, mlstm_1221E6, mlstm_1221E7])"
   ]
  },
  {
   "cell_type": "code",
   "execution_count": 6,
   "metadata": {},
   "outputs": [],
   "source": [
    "ln_N = np.log(np.array([1e1, 1e2, 1e3, 1e4, 1e5, 1e6, 1e7]))\n",
    "N = np.array([1e1, 1e2, 1e3, 1e4, 1e5, 1e6, 1e7]) "
   ]
  },
  {
   "cell_type": "code",
   "execution_count": 8,
   "metadata": {},
   "outputs": [],
   "source": [
    "mlstm_14 = np.mean(mlstm14, axis=1)"
   ]
  },
  {
   "cell_type": "code",
   "execution_count": 9,
   "metadata": {},
   "outputs": [
    {
     "data": {
      "text/plain": [
       "array([2.389171, 5.161445, 6.06436 , 6.401814, 7.095852, 7.310729,\n",
       "       7.63329 ])"
      ]
     },
     "execution_count": 9,
     "metadata": {},
     "output_type": "execute_result"
    }
   ],
   "source": [
    "mlstm_14"
   ]
  },
  {
   "cell_type": "code",
   "execution_count": 10,
   "metadata": {},
   "outputs": [],
   "source": [
    "def func(x, a, b):\n",
    "    return a * x + b"
   ]
  },
  {
   "cell_type": "code",
   "execution_count": 11,
   "metadata": {},
   "outputs": [],
   "source": [
    "def func1(x, a, b, c):\n",
    "    return a * np.exp(b * x + c)"
   ]
  },
  {
   "cell_type": "code",
   "execution_count": 12,
   "metadata": {},
   "outputs": [],
   "source": [
    "popt, pcov = curve_fit(func, ln_N, mlstm_14)"
   ]
  },
  {
   "cell_type": "code",
   "execution_count": 13,
   "metadata": {},
   "outputs": [
    {
     "name": "stderr",
     "output_type": "stream",
     "text": [
      "/home/marcio/Projects/Random-Graph/RandomGraph_env/lib/python3.6/site-packages/ipykernel_launcher.py:2: RuntimeWarning: overflow encountered in exp\n",
      "  \n"
     ]
    }
   ],
   "source": [
    "popt1, pcov1 = curve_fit(func1, ln_N, mlstm_14)"
   ]
  },
  {
   "cell_type": "code",
   "execution_count": 14,
   "metadata": {},
   "outputs": [
    {
     "data": {
      "text/plain": [
       "LinearRegression(copy_X=True, fit_intercept=True, n_jobs=None, normalize=False)"
      ]
     },
     "execution_count": 14,
     "metadata": {},
     "output_type": "execute_result"
    }
   ],
   "source": [
    "regr1 = linear_model.LinearRegression()\n",
    "regr2 = linear_model.LinearRegression()\n",
    "regr1.fit(ln_N[1:].reshape(-1,1), np.log(mlstm_14[1:]))\n",
    "regr2.fit(ln_N.reshape(-1,1), mlstm_14)"
   ]
  },
  {
   "cell_type": "code",
   "execution_count": 15,
   "metadata": {},
   "outputs": [],
   "source": [
    "x_p = np.linspace(ln_N[1:].min(), ln_N.max(), 100).reshape(-1,1)\n",
    "y_p1 = np.exp(regr1.predict(x_p))\n",
    "y_p2 = regr2.predict(x_p)\n",
    "y_test1 = np.exp(regr1.predict(ln_N.reshape(-1,1)))\n",
    "y_test2 = regr2.predict(ln_N.reshape(-1,1))\n",
    "mse1 = mean_squared_error(y_test1, mlstm_14)\n",
    "mse2 = mean_squared_error(y_test2, mlstm_14)"
   ]
  },
  {
   "cell_type": "code",
   "execution_count": 40,
   "metadata": {},
   "outputs": [
    {
     "data": {
      "image/png": "[encoded data removed]",
      "text/plain": [
       "<Figure size 432x288 with 1 Axes>"
      ]
     },
     "metadata": {
      "needs_background": "light"
     },
     "output_type": "display_data"
    }
   ],
   "source": [
    "font = {'family': 'serif',\n",
    "        'color':  'black',\n",
    "        'weight': 'normal',\n",
    "        'size': 16,\n",
    "        }\n",
    "font1 ={'family': 'serif',\n",
    "        'color':  'blue',\n",
    "        'weight': 'normal',\n",
    "        'size': 16,\n",
    "        }\n",
    "\n",
    "fig, ax = plt.subplots()\n",
    "# if(mse51 < mse52):\n",
    "#     ax.plot(x_p, func(x_p, *popt), color='blue', ls='--', alpha=0.3)\n",
    "# else:\n",
    "#     ax.plot(x_p, func(x_p, *popt), color='blue', ls='--', alpha=0.3)\n",
    "ax.scatter(N, mlstm_14, color='black', facecolors='C0', label=r'q = 1.4, $\\lambda$ = f')\n",
    "\n",
    "# if(mse41 < mse42):\n",
    "#     ax.plot(x_p, y_p41, color='black', ls='--', alpha=0.3)\n",
    "# else:\n",
    "#     ax.plot(x_p, y_p42, color='black', ls='--', alpha=0.3)\n",
    "# ax.scatter(ln_ln_N, mean_l2, color='black', facecolors='none', label='γ = 4')\n",
    "\n",
    "\n",
    "ax.legend(loc='upper left', shadow=True, fontsize='x-large')\n",
    "plt.ylabel('$\\mathbb{E}[\\mathscr{l}]$', rotation=0, labelpad=20, fontdict=font)\n",
    "plt.xlabel('$N$', font)\n",
    "# plt.yscale('log')\n",
    "plt.xscale('log')\n",
    "# plt.text(2.4, 2.70, r'mse exp = %.2f'% mse51, font1, alpha=0.6)\n",
    "# plt.text(2.4, 2.30, r'mse line= %.2f'%mse52, font1, alpha=0.6)\n",
    "\n",
    "# plt.text(2.4, 1.70, r'mse exp = %.2f'% mse41, font, alpha=0.6)\n",
    "# plt.text(2.4, 1.30, r'mse line= %.2f'%mse42, font, alpha=0.6)\n",
    "plt.title('$\\lambda$ = $f(\\mathbb{E}[X$ ~ Zipf$(\\gamma = 2.5)])$', fontdict=font)\n",
    "plt.savefig(\"mlstm_14.jpg\", format='jpg', dpi=1200, bbox_inches = 'tight')"
   ]
  },
  {
   "cell_type": "code",
   "execution_count": 18,
   "metadata": {},
   "outputs": [],
   "source": [
    "mlstm_129 = np.mean(mlstm129, axis=1)"
   ]
  },
  {
   "cell_type": "code",
   "execution_count": 19,
   "metadata": {},
   "outputs": [
    {
     "data": {
      "text/plain": [
       "array([ 2.371926,  5.997194,  8.320958, 10.375007, 12.23191 , 14.34371 ,\n",
       "       16.3327  ])"
      ]
     },
     "execution_count": 19,
     "metadata": {},
     "output_type": "execute_result"
    }
   ],
   "source": [
    "mlstm_129"
   ]
  },
  {
   "cell_type": "code",
   "execution_count": 20,
   "metadata": {},
   "outputs": [],
   "source": [
    "popt, pcov = curve_fit(func, ln_N, mlstm_129)"
   ]
  },
  {
   "cell_type": "code",
   "execution_count": 21,
   "metadata": {},
   "outputs": [
    {
     "name": "stderr",
     "output_type": "stream",
     "text": [
      "/home/marcio/Projects/Random-Graph/RandomGraph_env/lib/python3.6/site-packages/ipykernel_launcher.py:2: RuntimeWarning: overflow encountered in exp\n",
      "  \n"
     ]
    }
   ],
   "source": [
    "popt1, pcov1 = curve_fit(func1, ln_N, mlstm_129)"
   ]
  },
  {
   "cell_type": "code",
   "execution_count": 22,
   "metadata": {},
   "outputs": [
    {
     "data": {
      "text/plain": [
       "LinearRegression(copy_X=True, fit_intercept=True, n_jobs=None, normalize=False)"
      ]
     },
     "execution_count": 22,
     "metadata": {},
     "output_type": "execute_result"
    }
   ],
   "source": [
    "regr1 = linear_model.LinearRegression()\n",
    "regr2 = linear_model.LinearRegression()\n",
    "regr1.fit(ln_N[1:].reshape(-1,1), np.log(mlstm_129[1:]))\n",
    "regr2.fit(ln_N[1:].reshape(-1,1), mlstm_129[1:])"
   ]
  },
  {
   "cell_type": "code",
   "execution_count": 23,
   "metadata": {},
   "outputs": [],
   "source": [
    "x_p = np.linspace(ln_N[1:].min(), ln_N.max(), 100).reshape(-1,1)\n",
    "y_p1 = np.exp(regr1.predict(x_p))\n",
    "y_p2 = regr2.predict(x_p)\n",
    "y_test1 = np.exp(regr1.predict(ln_N.reshape(-1,1)))\n",
    "y_test2 = regr2.predict(ln_N.reshape(-1,1))\n",
    "mse1 = mean_squared_error(y_test1, mlstm_129)\n",
    "mse2 = mean_squared_error(y_test2, mlstm_129)"
   ]
  },
  {
   "cell_type": "code",
   "execution_count": 38,
   "metadata": {},
   "outputs": [
    {
     "data": {
      "image/png": "[encoded data removed]",
      "text/plain": [
       "<Figure size 432x288 with 1 Axes>"
      ]
     },
     "metadata": {
      "needs_background": "light"
     },
     "output_type": "display_data"
    }
   ],
   "source": [
    "font = {'family': 'serif',\n",
    "        'color':  'black',\n",
    "        'weight': 'normal',\n",
    "        'size': 16,\n",
    "        }\n",
    "font1 ={'family': 'serif',\n",
    "        'color':  'blue',\n",
    "        'weight': 'normal',\n",
    "        'size': 16,\n",
    "        }\n",
    "\n",
    "fig, ax = plt.subplots()\n",
    "# if(mse51 < mse52):\n",
    "#     ax.plot(x_p, func(x_p, *popt), color='blue', ls='--', alpha=0.3)\n",
    "# else:\n",
    "#     ax.plot(x_p, func(x_p, *popt), color='blue', ls='--', alpha=0.3)\n",
    "ax.scatter(N, mlstm_129, color='black', facecolors='Darkred', label=r'q = 1.29, $\\lambda$ = f')\n",
    "\n",
    "# if(mse41 < mse42):\n",
    "#     ax.plot(x_p, y_p41, color='black', ls='--', alpha=0.3)\n",
    "# else:\n",
    "#     ax.plot(x_p, y_p42, color='black', ls='--', alpha=0.3)\n",
    "# ax.scatter(ln_ln_N, mean_l2, color='black', facecolors='none', label='γ = 4')\n",
    "\n",
    "\n",
    "ax.legend(loc='upper left', shadow=True, fontsize='x-large')\n",
    "plt.ylabel('$\\mathbb{E}[\\mathscr{l}]$', rotation=0, labelpad=20, fontdict=font)\n",
    "plt.xlabel('$N$', font)\n",
    "# plt.yscale('log')\n",
    "plt.xscale('log')\n",
    "# plt.text(2.4, 2.70, r'mse exp = %.2f'% mse51, font1, alpha=0.6)\n",
    "# plt.text(2.4, 2.30, r'mse line= %.2f'%mse52, font1, alpha=0.6)\n",
    "\n",
    "# plt.text(2.4, 1.70, r'mse exp = %.2f'% mse41, font, alpha=0.6)\n",
    "# plt.text(2.4, 1.30, r'mse line= %.2f'%mse42, font, alpha=0.6)\n",
    "plt.title('$\\lambda$ = $f(\\mathbb{E}[X$ ~ Zipf$(\\gamma = 3.5)])$', fontdict=font)\n",
    "plt.savefig(\"mlstm_129.jpg\", format='jpg', dpi=1200, bbox_inches = 'tight')"
   ]
  },
  {
   "cell_type": "code",
   "execution_count": 26,
   "metadata": {},
   "outputs": [],
   "source": [
    "mlstm_122 = np.mean(mlstm122, axis=1)"
   ]
  },
  {
   "cell_type": "code",
   "execution_count": 27,
   "metadata": {},
   "outputs": [
    {
     "data": {
      "text/plain": [
       "array([ 2.248147,  5.860575,  9.266982, 11.74883 , 14.73643 , 17.63354 ,\n",
       "       20.5485  ])"
      ]
     },
     "execution_count": 27,
     "metadata": {},
     "output_type": "execute_result"
    }
   ],
   "source": [
    "mlstm_122"
   ]
  },
  {
   "cell_type": "code",
   "execution_count": 28,
   "metadata": {},
   "outputs": [],
   "source": [
    "popt, pcov = curve_fit(func, ln_N, mlstm_122)"
   ]
  },
  {
   "cell_type": "code",
   "execution_count": 29,
   "metadata": {},
   "outputs": [
    {
     "name": "stderr",
     "output_type": "stream",
     "text": [
      "/home/marcio/Projects/Random-Graph/RandomGraph_env/lib/python3.6/site-packages/ipykernel_launcher.py:2: RuntimeWarning: overflow encountered in exp\n",
      "  \n",
      "/home/marcio/Projects/Random-Graph/RandomGraph_env/lib/python3.6/site-packages/scipy/optimize/minpack.py:799: OptimizeWarning: Covariance of the parameters could not be estimated\n",
      "  category=OptimizeWarning)\n"
     ]
    }
   ],
   "source": [
    "popt1, pcov1 = curve_fit(func1, ln_N, mlstm_122)"
   ]
  },
  {
   "cell_type": "code",
   "execution_count": 30,
   "metadata": {},
   "outputs": [
    {
     "data": {
      "text/plain": [
       "LinearRegression(copy_X=True, fit_intercept=True, n_jobs=None, normalize=False)"
      ]
     },
     "execution_count": 30,
     "metadata": {},
     "output_type": "execute_result"
    }
   ],
   "source": [
    "regr1 = linear_model.LinearRegression()\n",
    "regr2 = linear_model.LinearRegression()\n",
    "regr1.fit(ln_N[1:].reshape(-1,1), np.log(mlstm_122[1:]))\n",
    "regr2.fit(ln_N[1:].reshape(-1,1), mlstm_122[1:])"
   ]
  },
  {
   "cell_type": "code",
   "execution_count": 31,
   "metadata": {},
   "outputs": [],
   "source": [
    "x_p = np.linspace(ln_N[1:].min(), ln_N.max(), 100).reshape(-1,1)\n",
    "y_p1 = np.exp(regr1.predict(x_p))\n",
    "y_p2 = regr2.predict(x_p)\n",
    "y_test1 = np.exp(regr1.predict(ln_N.reshape(-1,1)))\n",
    "y_test2 = regr2.predict(ln_N.reshape(-1,1))\n",
    "mse1 = mean_squared_error(y_test1, mlstm_122)\n",
    "mse2 = mean_squared_error(y_test2, mlstm_122)"
   ]
  },
  {
   "cell_type": "code",
   "execution_count": 39,
   "metadata": {},
   "outputs": [
    {
     "data": {
      "image/png": "[encoded data removed]",
      "text/plain": [
       "<Figure size 432x288 with 1 Axes>"
      ]
     },
     "metadata": {
      "needs_background": "light"
     },
     "output_type": "display_data"
    }
   ],
   "source": [
    "font = {'family': 'serif',\n",
    "        'color':  'black',\n",
    "        'weight': 'normal',\n",
    "        'size': 16,\n",
    "        }\n",
    "font1 ={'family': 'serif',\n",
    "        'color':  'blue',\n",
    "        'weight': 'normal',\n",
    "        'size': 16,\n",
    "        }\n",
    "\n",
    "fig, ax = plt.subplots()\n",
    "# if(mse51 < mse52):\n",
    "#     ax.plot(x_p, func(x_p, *popt), color='blue', ls='--', alpha=0.3)\n",
    "# else:\n",
    "#     ax.plot(x_p, func(x_p, *popt), color='blue', ls='--', alpha=0.3)\n",
    "ax.scatter(N, mlstm_122, color='black', facecolors='C4', label=r'q = 1.22, $\\lambda$ = f')\n",
    "\n",
    "# if(mse41 < mse42):\n",
    "#     ax.plot(x_p, y_p41, color='black', ls='--', alpha=0.3)\n",
    "# else:\n",
    "#     ax.plot(x_p, y_p42, color='black', ls='--', alpha=0.3)\n",
    "# ax.scatter(ln_ln_N, mean_l2, color='black', facecolors='none', label='γ = 4')\n",
    "\n",
    "\n",
    "ax.legend(loc='upper left', shadow=True, fontsize='x-large')\n",
    "plt.ylabel('$\\mathbb{E}[\\mathscr{l}]$', rotation=0, labelpad=20, fontdict=font)\n",
    "plt.xlabel('$N$', font)\n",
    "# plt.yscale('log')\n",
    "plt.xscale('log')\n",
    "# plt.text(2.4, 2.70, r'mse exp = %.2f'% mse51, font1, alpha=0.6)\n",
    "# plt.text(2.4, 2.30, r'mse line= %.2f'%mse52, font1, alpha=0.6)\n",
    "\n",
    "# plt.text(2.4, 1.70, r'mse exp = %.2f'% mse41, font, alpha=0.6)\n",
    "# plt.text(2.4, 1.30, r'mse line= %.2f'%mse42, font, alpha=0.6)\n",
    "plt.title('$\\lambda$ = $f(\\mathbb{E}[X$ ~ Zipf$(\\gamma = 4.5)])$', fontdict=font)\n",
    "plt.savefig(\"mlstm_122.jpg\", format='jpg', dpi=1200, bbox_inches = 'tight')"
   ]
  },
  {
   "cell_type": "code",
   "execution_count": null,
   "metadata": {},
   "outputs": [],
   "source": []
  },
  {
   "cell_type": "code",
   "execution_count": null,
   "metadata": {},
   "outputs": [],
   "source": [
    "for i in range(1, 8):\n",
    "    mean = 0\n",
    "    α = 0\n",
    "    γ = 4.5\n",
    "    for j in range (1, (10**i) - 1):\n",
    "        α += (1 / j)**(γ)\n",
    "    for j in range (1, (10**i) - 1):\n",
    "        mean += (1 / j)**(γ - 1)\n",
    "    mean /= α\n",
    "    print(mean)"
   ]
  }
 ],
 "metadata": {
  "kernelspec": {
   "display_name": "Python 3",
   "language": "python",
   "name": "python3"
  },
  "language_info": {
   "codemirror_mode": {
    "name": "ipython",
    "version": 3
   },
   "file_extension": ".py",
   "mimetype": "text/x-python",
   "name": "python",
   "nbconvert_exporter": "python",
   "pygments_lexer": "ipython3",
   "version": "3.6.8"
  }
 },
 "nbformat": 4,
 "nbformat_minor": 2
}
