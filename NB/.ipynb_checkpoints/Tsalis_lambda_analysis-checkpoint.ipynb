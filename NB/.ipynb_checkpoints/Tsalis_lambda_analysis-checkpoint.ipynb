{
 "cells": [
  {
   "cell_type": "code",
   "execution_count": 40,
   "metadata": {},
   "outputs": [],
   "source": [
    "from matplotlib import pyplot as plt\n",
    "from sklearn import linear_model\n",
    "from sklearn.metrics import mean_squared_error, r2_score\n",
    "from scipy.optimize import curve_fit\n",
    "from scipy import stats\n",
    "import numpy as np\n",
    "from decimal import Decimal\n",
    "from matplotlib.ticker import MaxNLocator\n",
    "\n",
    "from matplotlib.patches import Polygon\n",
    "import pandas as pd"
   ]
  },
  {
   "cell_type": "markdown",
   "metadata": {},
   "source": [
    "# Load results"
   ]
  },
  {
   "cell_type": "code",
   "execution_count": 32,
   "metadata": {},
   "outputs": [],
   "source": [
    "df = np.loadtxt(\"/home/marcio/Projects/Random-Graph/Random-Graph/Results/lambda/lambda.txt\", delimiter=\",\")"
   ]
  },
  {
   "cell_type": "code",
   "execution_count": 33,
   "metadata": {},
   "outputs": [],
   "source": [
    "q_values = np.unique(df[:,0])"
   ]
  },
  {
   "cell_type": "code",
   "execution_count": 34,
   "metadata": {},
   "outputs": [],
   "source": [
    "data = [df[:,1][df[:, 0] == q] for q in q_values]"
   ]
  },
  {
   "cell_type": "code",
   "execution_count": 57,
   "metadata": {},
   "outputs": [
    {
     "data": {
      "image/png": "[encoded data removed]",
      "text/plain": [
       "<Figure size 720x432 with 1 Axes>"
      ]
     },
     "metadata": {
      "needs_background": "light"
     },
     "output_type": "display_data"
    }
   ],
   "source": [
    "fig, ax1 = plt.subplots(figsize=(10, 6))\n",
    "fig.canvas.set_window_title('A Boxplot Example')\n",
    "fig.subplots_adjust(left=0.075, right=0.95, top=0.9, bottom=0.25)\n",
    "\n",
    "bp = ax1.boxplot(data, notch=0, sym='+', vert=1, whis=1.5)\n",
    "plt.setp(bp['boxes'], color='black')\n",
    "plt.setp(bp['whiskers'], color='black')\n",
    "plt.setp(bp['fliers'], color='red', marker='+')\n",
    "\n",
    "ax1.yaxis.grid(True, linestyle='-', which='major', color='lightgrey',\n",
    "               alpha=0.5)\n",
    "\n",
    "# Hide these grid behind plot objects\n",
    "ax1.set_axisbelow(True)\n",
    "ax1.set_title('Analysis of the λ to fit the Molloy-Reed criterion (k) = 2')\n",
    "ax1.set_xlabel('q', fontsize=16)\n",
    "ax1.set_ylabel('λ', fontsize=16)\n",
    "\n",
    "# Now fill the boxes with desired colors\n",
    "box_colors = ['darkkhaki', 'royalblue']\n",
    "num_boxes = len(data)\n",
    "medians = np.empty(num_boxes)\n",
    "for i in range(num_boxes):\n",
    "    box = bp['boxes'][i]\n",
    "    boxX = []\n",
    "    boxY = []\n",
    "    for j in range(5):\n",
    "        boxX.append(box.get_xdata()[j])\n",
    "        boxY.append(box.get_ydata()[j])\n",
    "    box_coords = np.column_stack([boxX, boxY])\n",
    "    # Alternate between Dark Khaki and Royal Blue\n",
    "    ax1.add_patch(Polygon(box_coords, facecolor=box_colors[i % 2]))\n",
    "    # Now draw the median lines back over what we just filled in\n",
    "    med = bp['medians'][i]\n",
    "    medianX = []\n",
    "    medianY = []\n",
    "    for j in range(2):\n",
    "        medianX.append(med.get_xdata()[j])\n",
    "        medianY.append(med.get_ydata()[j])\n",
    "        ax1.plot(medianX, medianY, 'k')\n",
    "    medians[i] = medianY[0]\n",
    "    # Finally, overplot the sample averages, with horizontal alignment\n",
    "    # in the center of each box\n",
    "    ax1.plot(np.average(med.get_xdata()), np.average(data[i]),\n",
    "             color='w', marker='*', markeredgecolor='k')\n",
    "\n",
    "# Set the axes ranges and axes labels\n",
    "ax1.set_xlim(0.5, num_boxes + 0.5)\n",
    "top = 40\n",
    "bottom = -5\n",
    "ax1.set_ylim(bottom, top)\n",
    "ax1.set_xticklabels(q_values, fontsize=12)\n",
    "\n",
    "# Due to the Y-axis scale being different across samples, it can be\n",
    "# hard to compare differences in medians across the samples. Add upper\n",
    "# X-axis tick labels with the sample medians to aid in comparison\n",
    "# (just use two decimal places of precision)\n",
    "pos = np.arange(num_boxes) + 1\n",
    "upper_labels = [str(np.round(s, 2)) for s in medians]\n",
    "weights = ['bold', 'semibold']\n",
    "for tick, label in zip(range(num_boxes), ax1.get_xticklabels()):\n",
    "    k = tick % 2\n",
    "    ax1.text(pos[tick], .95, upper_labels[tick],\n",
    "             transform=ax1.get_xaxis_transform(),\n",
    "             horizontalalignment='center', size='x-small',\n",
    "             weight=weights[k], color=box_colors[k])\n",
    "\n",
    "# Finally, add a basic legend\n",
    "fig.text(0.80, 0.015, '*', color='white', backgroundcolor='silver',\n",
    "         weight='roman', size='medium')\n",
    "fig.text(0.815, 0.013, ' Average Value', color='black', weight='roman',\n",
    "         size='x-small')\n",
    "\n",
    "plt.savefig(\"molloy-reed_lambda.jpg\", format='jpg', dpi=1200, bbox_inches = 'tight')"
   ]
  }
 ],
 "metadata": {
  "kernelspec": {
   "display_name": "Python 3",
   "language": "python",
   "name": "python3"
  },
  "language_info": {
   "codemirror_mode": {
    "name": "ipython",
    "version": 3
   },
   "file_extension": ".py",
   "mimetype": "text/x-python",
   "name": "python",
   "nbconvert_exporter": "python",
   "pygments_lexer": "ipython3",
   "version": "3.6.8"
  }
 },
 "nbformat": 4,
 "nbformat_minor": 2
}
