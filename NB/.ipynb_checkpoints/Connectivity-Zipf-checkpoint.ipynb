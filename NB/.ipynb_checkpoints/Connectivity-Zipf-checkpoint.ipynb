{
 "cells": [
  {
   "cell_type": "code",
   "execution_count": 1,
   "metadata": {},
   "outputs": [],
   "source": [
    "from matplotlib import pyplot as plt\n",
    "from sklearn import linear_model\n",
    "from sklearn.metrics import mean_squared_error, r2_score\n",
    "from scipy.optimize import curve_fit\n",
    "from scipy import stats\n",
    "import numpy as np"
   ]
  },
  {
   "cell_type": "code",
   "execution_count": 2,
   "metadata": {},
   "outputs": [],
   "source": [
    "mean_l1_10E1 = np.loadtxt(\"/home/marcio/Projects/Random-Graph/Random-Graph/Results/Mean/mean_l_Z5_E1.txt\")\n",
    "mean_l1_10E2 = np.loadtxt(\"/home/marcio/Projects/Random-Graph/Random-Graph/Results/Mean/mean_l_Z5_E2.txt\")\n",
    "mean_l1_10E3 = np.loadtxt(\"/home/marcio/Projects/Random-Graph/Random-Graph/Results/Mean/mean_l_Z5_E3.txt\")\n",
    "mean_l1_10E4 = np.loadtxt(\"/home/marcio/Projects/Random-Graph/Random-Graph/Results/Mean/mean_l_Z5_E4.txt\")\n",
    "mean_l1_10E5 = np.loadtxt(\"/home/marcio/Projects/Random-Graph/Random-Graph/Results/Mean/mean_l_Z5_E5.txt\")\n",
    "mean_l1_10E6 = np.loadtxt(\"/home/marcio/Projects/Random-Graph/Random-Graph/Results/Mean/mean_l_Z5_E6.txt\")\n",
    "mean_l1_10E7 = np.loadtxt(\"/home/marcio/Projects/Random-Graph/Random-Graph/Results/Mean/mean_l_Z5_E7.txt\")"
   ]
  },
  {
   "cell_type": "code",
   "execution_count": 3,
   "metadata": {},
   "outputs": [],
   "source": [
    "mean_l2_10E1 = np.loadtxt(\"/home/marcio/Projects/Random-Graph/Random-Graph/Results/Mean/mean_l_Z4_E1.txt\")\n",
    "mean_l2_10E2 = np.loadtxt(\"/home/marcio/Projects/Random-Graph/Random-Graph/Results/Mean/mean_l_Z4_E2.txt\")\n",
    "mean_l2_10E3 = np.loadtxt(\"/home/marcio/Projects/Random-Graph/Random-Graph/Results/Mean/mean_l_Z4_E3.txt\")\n",
    "mean_l2_10E4 = np.loadtxt(\"/home/marcio/Projects/Random-Graph/Random-Graph/Results/Mean/mean_l_Z4_E4.txt\")\n",
    "mean_l2_10E5 = np.loadtxt(\"/home/marcio/Projects/Random-Graph/Random-Graph/Results/Mean/mean_l_Z4_E5.txt\")\n",
    "mean_l2_10E6 = np.loadtxt(\"/home/marcio/Projects/Random-Graph/Random-Graph/Results/Mean/mean_l_Z4_E6.txt\")\n",
    "mean_l2_10E7 = np.loadtxt(\"/home/marcio/Projects/Random-Graph/Random-Graph/Results/Mean/mean_l_Z4_E7.txt\")"
   ]
  },
  {
   "cell_type": "code",
   "execution_count": 4,
   "metadata": {},
   "outputs": [],
   "source": [
    "mean_l1 = np.log(np.array([mean_l1_10E1, mean_l1_10E2, mean_l1_10E3, mean_l1_10E4, mean_l1_10E5, mean_l1_10E6, mean_l1_10E7]))\n",
    "mean_l2 = np.log(np.array([mean_l2_10E1, mean_l2_10E2, mean_l2_10E3, mean_l2_10E4, mean_l2_10E5, mean_l2_10E6, mean_l2_10E7]))"
   ]
  },
  {
   "cell_type": "code",
   "execution_count": 5,
   "metadata": {},
   "outputs": [],
   "source": [
    "ln_ln_N = np.log(np.log(np.array([10e1, 10e2, 10e3, 10e4, 10e5, 10e6, 10e7])))"
   ]
  },
  {
   "cell_type": "code",
   "execution_count": 6,
   "metadata": {},
   "outputs": [],
   "source": [
    "def func(x, a, b):\n",
    "    return a * x + b"
   ]
  },
  {
   "cell_type": "code",
   "execution_count": 7,
   "metadata": {},
   "outputs": [],
   "source": [
    "def func1(x, a, b, c):\n",
    "    return a * np.exp(b * x + c)"
   ]
  },
  {
   "cell_type": "code",
   "execution_count": 8,
   "metadata": {},
   "outputs": [],
   "source": [
    "popt, pcov = curve_fit(func, ln_ln_N, mean_l1)"
   ]
  },
  {
   "cell_type": "code",
   "execution_count": 9,
   "metadata": {},
   "outputs": [],
   "source": [
    "popt1, pcov1 = curve_fit(func1, ln_ln_N, mean_l1)"
   ]
  },
  {
   "cell_type": "code",
   "execution_count": 10,
   "metadata": {},
   "outputs": [],
   "source": [
    "regr41 = linear_model.LinearRegression()\n",
    "regr42 = linear_model.LinearRegression()\n",
    "regr51 = linear_model.LinearRegression()\n",
    "regr52 = linear_model.LinearRegression()"
   ]
  },
  {
   "cell_type": "code",
   "execution_count": 11,
   "metadata": {},
   "outputs": [
    {
     "data": {
      "text/plain": [
       "LinearRegression(copy_X=True, fit_intercept=True, n_jobs=None, normalize=False)"
      ]
     },
     "execution_count": 11,
     "metadata": {},
     "output_type": "execute_result"
    }
   ],
   "source": [
    "regr41.fit(ln_ln_N[1:].reshape(-1,1), np.log(mean_l2))\n",
    "regr42.fit(ln_ln_N[1:].reshape(-1,1), mean_l2)\n",
    "regr51.fit(ln_ln_N[1:].reshape(-1,1), np.log(mean_l1))\n",
    "regr52.fit(ln_ln_N[1:].reshape(-1,1), mean_l1)"
   ]
  },
  {
   "cell_type": "code",
   "execution_count": 13,
   "metadata": {},
   "outputs": [],
   "source": [
    "x_p = np.linspace(ln_ln_N.min(), ln_ln_N.max(), 100).reshape(-1,1)\n",
    "y_p51 = np.exp(regr51.predict(x_p))\n",
    "y_p52 = regr52.predict(x_p)\n",
    "y_test51 = np.exp(regr51.predict(ln_ln_N.reshape(-1,1)))\n",
    "y_test52 = regr52.predict(ln_ln_N.reshape(-1,1))\n",
    "mse51 = mean_squared_error(y_test51, mean_l1)\n",
    "mse52 = mean_squared_error(y_test52, mean_l1)"
   ]
  },
  {
   "cell_type": "code",
   "execution_count": 14,
   "metadata": {},
   "outputs": [],
   "source": [
    "y_p41 = np.exp(regr41.predict(x_p))\n",
    "y_p42 = regr42.predict(x_p)\n",
    "y_test41 = np.exp(regr41.predict(ln_ln_N.reshape(-1,1)))\n",
    "y_test42 = regr42.predict(ln_ln_N.reshape(-1,1))\n",
    "mse41 = mean_squared_error(y_test41, mean_l2)\n",
    "mse42 = mean_squared_error(y_test42, mean_l2)"
   ]
  },
  {
   "cell_type": "code",
   "execution_count": 23,
   "metadata": {},
   "outputs": [
    {
     "data": {
      "image/png": "[encoded data removed]",
      "text/plain": [
       "<Figure size 432x288 with 1 Axes>"
      ]
     },
     "metadata": {
      "needs_background": "light"
     },
     "output_type": "display_data"
    }
   ],
   "source": [
    "font = {'family': 'serif',\n",
    "        'color':  'black',\n",
    "        'weight': 'normal',\n",
    "        'size': 16,\n",
    "        }\n",
    "font1 ={'family': 'serif',\n",
    "        'color':  'blue',\n",
    "        'weight': 'normal',\n",
    "        'size': 16,\n",
    "        }\n",
    "\n",
    "fig, ax = plt.subplots()\n",
    "if(mse51 < mse52):\n",
    "    ax.plot(x_p, y_p51, color='blue', ls='--', alpha=0.3)\n",
    "else:\n",
    "    ax.plot(x_p, y_p52, color='blue', ls='--', alpha=0.3)\n",
    "ax.scatter(ln_ln_N, mean_l1, color='black', facecolors='C0', label='γ = 5')\n",
    "\n",
    "if(mse41 < mse42):\n",
    "    ax.plot(x_p, y_p41, color='black', ls='--', alpha=0.3)\n",
    "else:\n",
    "    ax.plot(x_p, y_p42, color='black', ls='--', alpha=0.3)\n",
    "ax.scatter(ln_ln_N, mean_l2, color='black', facecolors='none', label='γ = 4')\n",
    "\n",
    "\n",
    "ax.legend(loc='upper left', shadow=True, fontsize='x-large')\n",
    "plt.ylabel('$\\log(l)$', fontdict=font)\n",
    "plt.xlabel('$\\log(\\log(N))$', font)\n",
    "plt.text(2.4, 2.70, r'mse exp = %.2f'% mse51, font1, alpha=0.6)\n",
    "plt.text(2.4, 2.30, r'mse line= %.2f'%mse52, font1, alpha=0.6)\n",
    "\n",
    "plt.text(2.4, 1.70, r'mse exp = %.2f'% mse41, font, alpha=0.6)\n",
    "plt.text(2.4, 1.30, r'mse line= %.2f'%mse42, font, alpha=0.6)\n",
    "# plt.title('γ = 3', fontdict=font)\n",
    "plt.savefig(\"usw.jpg\", format='jpg', dpi=1200, bbox_inches = 'tight')"
   ]
  },
  {
   "cell_type": "code",
   "execution_count": null,
   "metadata": {},
   "outputs": [],
   "source": [
    "hist, bins_edges = np.histogram(data, bins=100)"
   ]
  },
  {
   "cell_type": "code",
   "execution_count": null,
   "metadata": {},
   "outputs": [],
   "source": [
    "bins_edges.min(), bins_edges.max()"
   ]
  },
  {
   "cell_type": "code",
   "execution_count": null,
   "metadata": {},
   "outputs": [],
   "source": [
    "def e(q, x):\n",
    "    return (1 + ((1 - q) * x))**(1/(1-q))"
   ]
  },
  {
   "cell_type": "code",
   "execution_count": null,
   "metadata": {},
   "outputs": [],
   "source": [
    "def q_exponential(λ, q, x):\n",
    "    return (2 - q) * λ * (e(q, (-λ * x)))"
   ]
  },
  {
   "cell_type": "code",
   "execution_count": null,
   "metadata": {},
   "outputs": [],
   "source": [
    "y = q_exponential(2, 1.3, bins_edges[:-1])"
   ]
  },
  {
   "cell_type": "code",
   "execution_count": null,
   "metadata": {},
   "outputs": [],
   "source": []
  },
  {
   "cell_type": "code",
   "execution_count": null,
   "metadata": {},
   "outputs": [],
   "source": [
    "x = np.linspace(0,100,100)\n",
    "np.exp(x) - q_exponential(1, 1.00001, x)"
   ]
  },
  {
   "cell_type": "code",
   "execution_count": null,
   "metadata": {},
   "outputs": [],
   "source": [
    "num_bins = 100\n",
    "\n",
    "fig, ax = plt.subplots()\n",
    "sigma = 2\n",
    "mu = 0\n",
    "# the histogram of the data\n",
    "# n, bins, patches = ax.hist(data, num_bins, log=True)\n",
    "\n",
    "# add a 'best fit' line\n",
    "x = np.linspace(bins_edges.min(), bins_edges.max(), 100)\n",
    "# y = q_exponential(1, 1.3, x)\n",
    "ax.plot(bins_edges[:-1], hist, '-')\n",
    "# ax.plot(bins_edges[:-1], y, '--')\n",
    "ax.set_xlim(1, 5)\n",
    "# ax.set_xlabel('Smarts')\n",
    "# ax.set_ylabel('Probability density')\n",
    "# ax.set_title(r'Histogram of IQ: $\\mu=100$, $\\sigma=15$')\n",
    "\n",
    "# Tweak spacing to prevent clipping of ylabel\n",
    "fig.tight_layout()"
   ]
  },
  {
   "cell_type": "code",
   "execution_count": null,
   "metadata": {},
   "outputs": [],
   "source": [
    "q_exponential(1, 1.3, bins)"
   ]
  },
  {
   "cell_type": "code",
   "execution_count": null,
   "metadata": {},
   "outputs": [],
   "source": [
    "plt.hist(np.log2(data), log=True, bins=100)\n",
    "\n",
    "plt.show()"
   ]
  },
  {
   "cell_type": "code",
   "execution_count": null,
   "metadata": {},
   "outputs": [],
   "source": [
    "n"
   ]
  },
  {
   "cell_type": "code",
   "execution_count": null,
   "metadata": {},
   "outputs": [],
   "source": []
  }
 ],
 "metadata": {
  "kernelspec": {
   "display_name": "Python 3",
   "language": "python",
   "name": "python3"
  },
  "language_info": {
   "codemirror_mode": {
    "name": "ipython",
    "version": 3
   },
   "file_extension": ".py",
   "mimetype": "text/x-python",
   "name": "python",
   "nbconvert_exporter": "python",
   "pygments_lexer": "ipython3",
   "version": "3.6.8"
  }
 },
 "nbformat": 4,
 "nbformat_minor": 2
}
