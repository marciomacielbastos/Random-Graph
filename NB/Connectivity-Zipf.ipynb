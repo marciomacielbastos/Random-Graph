{
 "cells": [
  {
   "cell_type": "code",
   "execution_count": 24,
   "metadata": {},
   "outputs": [],
   "source": [
    "from matplotlib import pyplot as plt\n",
    "from sklearn import linear_model\n",
    "from sklearn.metrics import mean_squared_error, r2_score\n",
    "from scipy.optimize import curve_fit\n",
    "from scipy import stats\n",
    "import numpy as np"
   ]
  },
  {
   "cell_type": "code",
   "execution_count": 25,
   "metadata": {},
   "outputs": [],
   "source": [
    "mean_l1_1E1 = np.loadtxt(\"/home/marcio/Projects/Random-Graph/Random-Graph/Results/Mean/mean_l_Z2108.txt\")\n",
    "mean_l1_1E2 = np.loadtxt(\"/home/marcio/Projects/Random-Graph/Random-Graph/Results/Mean/mean_l_Z21008.txt\")\n",
    "mean_l1_1E3 = np.loadtxt(\"/home/marcio/Projects/Random-Graph/Random-Graph/Results/Mean/mean_l_Z210008.txt\")\n",
    "mean_l1_1E4 = np.loadtxt(\"/home/marcio/Projects/Random-Graph/Random-Graph/Results/Mean/mean_l_Z2100008.txt\")\n",
    "mean_l1_1E5 = np.loadtxt(\"/home/marcio/Projects/Random-Graph/Random-Graph/Results/Mean/mean_l_Z21000008.txt\")\n",
    "mean_l1_1E6 = np.loadtxt(\"/home/marcio/Projects/Random-Graph/Random-Graph/Results/Mean/mean_l_Z210000008.txt\")\n",
    "mean_l1_1E7 = np.loadtxt(\"/home/marcio/Projects/Random-Graph/Random-Graph/Results/Mean/mean_l_Z2100000008.txt\")"
   ]
  },
  {
   "cell_type": "code",
   "execution_count": 26,
   "metadata": {},
   "outputs": [],
   "source": [
    "mean_l1 = np.array([mean_l1_1E1, mean_l1_1E2, mean_l1_1E3, mean_l1_1E4, mean_l1_1E5, mean_l1_1E6, mean_l1_1E7])"
   ]
  },
  {
   "cell_type": "code",
   "execution_count": 27,
   "metadata": {},
   "outputs": [],
   "source": [
    "ln_N = np.log(np.array([1e1, 1e2, 1e3, 1e4, 1e5, 1e6, 1e7]))"
   ]
  },
  {
   "cell_type": "code",
   "execution_count": 28,
   "metadata": {},
   "outputs": [],
   "source": [
    "ml1 = np.mean(mean_l1, axis=1)"
   ]
  },
  {
   "cell_type": "code",
   "execution_count": 29,
   "metadata": {},
   "outputs": [
    {
     "data": {
      "text/plain": [
       "array([   2.502224,   25.2525  ,  175.225   ,  518.5832  ,  939.4677  ,\n",
       "       1215.745   , 1588.209   ])"
      ]
     },
     "execution_count": 29,
     "metadata": {},
     "output_type": "execute_result"
    }
   ],
   "source": [
    "ml1"
   ]
  },
  {
   "cell_type": "code",
   "execution_count": 30,
   "metadata": {},
   "outputs": [],
   "source": [
    "def func(x, a, b):\n",
    "    return a * x + b"
   ]
  },
  {
   "cell_type": "code",
   "execution_count": 31,
   "metadata": {},
   "outputs": [],
   "source": [
    "def func1(x, a, b, c):\n",
    "    return a * np.exp(b * x + c)"
   ]
  },
  {
   "cell_type": "code",
   "execution_count": 32,
   "metadata": {},
   "outputs": [],
   "source": [
    "popt, pcov = curve_fit(func, ln_N, ml1)"
   ]
  },
  {
   "cell_type": "code",
   "execution_count": 33,
   "metadata": {},
   "outputs": [
    {
     "name": "stderr",
     "output_type": "stream",
     "text": [
      "/usr/local/lib/python3.6/dist-packages/ipykernel_launcher.py:2: RuntimeWarning: overflow encountered in exp\n",
      "  \n",
      "/usr/local/lib/python3.6/dist-packages/scipy/optimize/minpack.py:799: OptimizeWarning: Covariance of the parameters could not be estimated\n",
      "  category=OptimizeWarning)\n"
     ]
    }
   ],
   "source": [
    "popt1, pcov1 = curve_fit(func1, ln_N, ml1)"
   ]
  },
  {
   "cell_type": "code",
   "execution_count": 34,
   "metadata": {},
   "outputs": [
    {
     "data": {
      "text/plain": [
       "LinearRegression(copy_X=True, fit_intercept=True, n_jobs=None, normalize=False)"
      ]
     },
     "execution_count": 34,
     "metadata": {},
     "output_type": "execute_result"
    }
   ],
   "source": [
    "regr51 = linear_model.LinearRegression()\n",
    "regr52 = linear_model.LinearRegression()\n",
    "regr51.fit(ln_N[2:].reshape(-1,1), np.log(ml1[2:]))\n",
    "regr52.fit(ln_N.reshape(-1,1), ml1)"
   ]
  },
  {
   "cell_type": "code",
   "execution_count": 35,
   "metadata": {},
   "outputs": [],
   "source": [
    "x_p = np.linspace(ln_N[2:].min(), ln_N.max(), 100).reshape(-1,1)\n",
    "y_p51 = np.exp(regr51.predict(x_p))\n",
    "y_p52 = regr52.predict(x_p)\n",
    "y_test51 = np.exp(regr51.predict(ln_N.reshape(-1,1)))\n",
    "y_test52 = regr52.predict(ln_N.reshape(-1,1))\n",
    "mse51 = mean_squared_error(y_test51, ml1)\n",
    "mse52 = mean_squared_error(y_test52, ml1)"
   ]
  },
  {
   "cell_type": "code",
   "execution_count": 46,
   "metadata": {},
   "outputs": [
    {
     "data": {
      "image/png": "[encoded data removed]",
      "text/plain": [
       "<Figure size 432x288 with 1 Axes>"
      ]
     },
     "metadata": {
      "needs_background": "light"
     },
     "output_type": "display_data"
    }
   ],
   "source": [
    "font = {'family': 'serif',\n",
    "        'color':  'black',\n",
    "        'weight': 'normal',\n",
    "        'size': 16,\n",
    "        }\n",
    "font1 ={'family': 'serif',\n",
    "        'color':  'blue',\n",
    "        'weight': 'normal',\n",
    "        'size': 16,\n",
    "        }\n",
    "\n",
    "fig, ax = plt.subplots()\n",
    "# if(mse51 < mse52):\n",
    "#     ax.plot(x_p, func(x_p, *popt), color='blue', ls='--', alpha=0.3)\n",
    "# else:\n",
    "#     ax.plot(x_p, func(x_p, *popt), color='blue', ls='--', alpha=0.3)\n",
    "ax.scatter(ln_N, ml1, color='black', facecolors='C0', label='γ = 8')\n",
    "\n",
    "# if(mse41 < mse42):\n",
    "#     ax.plot(x_p, y_p41, color='black', ls='--', alpha=0.3)\n",
    "# else:\n",
    "#     ax.plot(x_p, y_p42, color='black', ls='--', alpha=0.3)\n",
    "# ax.scatter(ln_ln_N, mean_l2, color='black', facecolors='none', label='γ = 4')\n",
    "\n",
    "\n",
    "ax.legend(loc='upper left', shadow=True, fontsize='x-large')\n",
    "plt.ylabel('$\\mathbb{E}[\\mathscr{l}]$', rotation=0, labelpad=20, fontdict=font)\n",
    "plt.xlabel('$\\log(N)$', font)\n",
    "# plt.yscale('log')\n",
    "# plt.xscale('log')\n",
    "# plt.text(2.4, 2.70, r'mse exp = %.2f'% mse51, font1, alpha=0.6)\n",
    "# plt.text(2.4, 2.30, r'mse line= %.2f'%mse52, font1, alpha=0.6)\n",
    "\n",
    "# plt.text(2.4, 1.70, r'mse exp = %.2f'% mse41, font, alpha=0.6)\n",
    "# plt.text(2.4, 1.30, r'mse line= %.2f'%mse42, font, alpha=0.6)\n",
    "# plt.title('γ = 3', fontdict=font)\n",
    "plt.savefig(\"usw1.jpg\", format='jpg', dpi=1200, bbox_inches = 'tight')"
   ]
  },
  {
   "cell_type": "code",
   "execution_count": 37,
   "metadata": {},
   "outputs": [],
   "source": [
    "mean_l2_1E1 = np.loadtxt(\"/home/marcio/Projects/Random-Graph/Random-Graph/Results/Mean/mean_l_Z2105.txt\")\n",
    "mean_l2_1E2 = np.loadtxt(\"/home/marcio/Projects/Random-Graph/Random-Graph/Results/Mean/mean_l_Z21005.txt\")\n",
    "mean_l2_1E3 = np.loadtxt(\"/home/marcio/Projects/Random-Graph/Random-Graph/Results/Mean/mean_l_Z210005.txt\")\n",
    "mean_l2_1E4 = np.loadtxt(\"/home/marcio/Projects/Random-Graph/Random-Graph/Results/Mean/mean_l_Z2100005.txt\")\n",
    "mean_l2_1E5 = np.loadtxt(\"/home/marcio/Projects/Random-Graph/Random-Graph/Results/Mean/mean_l_Z21000005.txt\")\n",
    "mean_l2_1E6 = np.loadtxt(\"/home/marcio/Projects/Random-Graph/Random-Graph/Results/Mean/mean_l_Z210000005.txt\")\n",
    "mean_l2_1E7 = np.loadtxt(\"/home/marcio/Projects/Random-Graph/Random-Graph/Results/Mean/mean_l_Z2100000005.txt\")"
   ]
  },
  {
   "cell_type": "code",
   "execution_count": 38,
   "metadata": {},
   "outputs": [],
   "source": [
    "mean_l2 = np.array([mean_l2_1E1, mean_l2_1E2, mean_l2_1E3, mean_l2_1E4, mean_l2_1E5, mean_l2_1E6, mean_l2_1E7])"
   ]
  },
  {
   "cell_type": "code",
   "execution_count": 39,
   "metadata": {},
   "outputs": [],
   "source": [
    "ml2 = np.mean(mean_l2, axis=1)"
   ]
  },
  {
   "cell_type": "code",
   "execution_count": 40,
   "metadata": {},
   "outputs": [
    {
     "data": {
      "text/plain": [
       "array([  2.311112,   1.5     ,  67.34071 ,  89.51592 , 118.4469  ,\n",
       "       145.698   , 176.4126  ])"
      ]
     },
     "execution_count": 40,
     "metadata": {},
     "output_type": "execute_result"
    }
   ],
   "source": [
    "ml2"
   ]
  },
  {
   "cell_type": "code",
   "execution_count": 41,
   "metadata": {},
   "outputs": [],
   "source": [
    "popt, pcov = curve_fit(func, ln_N, ml2)"
   ]
  },
  {
   "cell_type": "code",
   "execution_count": 42,
   "metadata": {},
   "outputs": [
    {
     "name": "stderr",
     "output_type": "stream",
     "text": [
      "/usr/local/lib/python3.6/dist-packages/ipykernel_launcher.py:2: RuntimeWarning: overflow encountered in exp\n",
      "  \n"
     ]
    }
   ],
   "source": [
    "popt1, pcov1 = curve_fit(func1, ln_N, ml2)"
   ]
  },
  {
   "cell_type": "code",
   "execution_count": 43,
   "metadata": {},
   "outputs": [
    {
     "data": {
      "text/plain": [
       "LinearRegression(copy_X=True, fit_intercept=True, n_jobs=None, normalize=False)"
      ]
     },
     "execution_count": 43,
     "metadata": {},
     "output_type": "execute_result"
    }
   ],
   "source": [
    "regr51 = linear_model.LinearRegression()\n",
    "regr52 = linear_model.LinearRegression()\n",
    "regr51.fit(ln_N[2:].reshape(-1,1), np.log(ml2[2:]))\n",
    "regr52.fit(ln_N.reshape(-1,1), ml2)"
   ]
  },
  {
   "cell_type": "code",
   "execution_count": 44,
   "metadata": {},
   "outputs": [],
   "source": [
    "x_p = np.linspace(ln_N[2:].min(), ln_N.max(), 100).reshape(-1,1)\n",
    "y_p51 = np.exp(regr51.predict(x_p))\n",
    "y_p52 = regr52.predict(x_p)\n",
    "y_test51 = np.exp(regr51.predict(ln_N.reshape(-1,1)))\n",
    "y_test52 = regr52.predict(ln_N.reshape(-1,1))\n",
    "mse51 = mean_squared_error(y_test51, ml2)\n",
    "mse52 = mean_squared_error(y_test52, ml2)"
   ]
  },
  {
   "cell_type": "code",
   "execution_count": 47,
   "metadata": {},
   "outputs": [
    {
     "data": {
      "image/png": "[encoded data removed]",
      "text/plain": [
       "<Figure size 432x288 with 1 Axes>"
      ]
     },
     "metadata": {
      "needs_background": "light"
     },
     "output_type": "display_data"
    }
   ],
   "source": [
    "font = {'family': 'serif',\n",
    "        'color':  'black',\n",
    "        'weight': 'normal',\n",
    "        'size': 16,\n",
    "        }\n",
    "font1 ={'family': 'serif',\n",
    "        'color':  'blue',\n",
    "        'weight': 'normal',\n",
    "        'size': 16,\n",
    "        }\n",
    "\n",
    "fig, ax = plt.subplots()\n",
    "# if(mse51 < mse52):\n",
    "#     ax.plot(x_p, func(x_p, *popt), color='blue', ls='--', alpha=0.3)\n",
    "# else:\n",
    "#     ax.plot(x_p, func(x_p, *popt), color='blue', ls='--', alpha=0.3)\n",
    "ax.scatter(ln_N, ml2, color='black', facecolors='Darkred', label='γ = 5')\n",
    "\n",
    "# if(mse41 < mse42):\n",
    "#     ax.plot(x_p, y_p41, color='black', ls='--', alpha=0.3)\n",
    "# else:\n",
    "#     ax.plot(x_p, y_p42, color='black', ls='--', alpha=0.3)\n",
    "# ax.scatter(ln_ln_N, mean_l2, color='black', facecolors='none', label='γ = 4')\n",
    "\n",
    "\n",
    "ax.legend(loc='upper left', shadow=True, fontsize='x-large')\n",
    "plt.ylabel('$\\mathbb{E}[\\mathscr{l}]$', rotation=0, labelpad=20, fontdict=font)\n",
    "plt.xlabel('$\\log(N)$', font)\n",
    "# plt.yscale('log')\n",
    "# plt.xscale('log')\n",
    "# plt.text(2.4, 2.70, r'mse exp = %.2f'% mse51, font1, alpha=0.6)\n",
    "# plt.text(2.4, 2.30, r'mse line= %.2f'%mse52, font1, alpha=0.6)\n",
    "\n",
    "# plt.text(2.4, 1.70, r'mse exp = %.2f'% mse41, font, alpha=0.6)\n",
    "# plt.text(2.4, 1.30, r'mse line= %.2f'%mse42, font, alpha=0.6)\n",
    "# plt.title('γ = 3', fontdict=font)\n",
    "plt.savefig(\"usw2.jpg\", format='jpg', dpi=1200, bbox_inches = 'tight')"
   ]
  },
  {
   "cell_type": "code",
   "execution_count": null,
   "metadata": {},
   "outputs": [],
   "source": []
  }
 ],
 "metadata": {
  "kernelspec": {
   "display_name": "Python 3",
   "language": "python",
   "name": "python3"
  },
  "language_info": {
   "codemirror_mode": {
    "name": "ipython",
    "version": 3
   },
   "file_extension": ".py",
   "mimetype": "text/x-python",
   "name": "python",
   "nbconvert_exporter": "python",
   "pygments_lexer": "ipython3",
   "version": "3.6.8"
  }
 },
 "nbformat": 4,
 "nbformat_minor": 2
}
