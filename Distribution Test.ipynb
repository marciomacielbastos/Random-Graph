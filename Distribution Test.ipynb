{
 "cells": [
  {
   "cell_type": "code",
   "execution_count": 1,
   "metadata": {},
   "outputs": [],
   "source": [
    "import numpy as np\n",
    "from matplotlib import pyplot as plt\n",
    "from scipy.interpolate import UnivariateSpline\n",
    "from scipy.interpolate import make_interp_spline, BSpline\n",
    "from sklearn.linear_model import ElasticNet"
   ]
  },
  {
   "cell_type": "markdown",
   "metadata": {},
   "source": [
    "$$\\frac{-\\Big[\\frac{-U}{\\lambda(2-q)} + 1\\Big]^{\\frac{1-q}{2-q}}}{\\lambda(1-q)}$$"
   ]
  },
  {
   "cell_type": "code",
   "execution_count": 2,
   "metadata": {},
   "outputs": [],
   "source": [
    "def inverse_cdf(λ, q, U):\n",
    "    k = -((-U/(λ*(2-q))) + 1)**((1-q)/(2-q))\n",
    "    return k/(λ*(1-q))"
   ]
  },
  {
   "cell_type": "markdown",
   "metadata": {},
   "source": [
    "$$(2-q)\\lambda e_{q}(-\\lambda x)$$\n",
    "\n",
    "$$e_{q} = [1 + (1 - q)x]^{1/(1-q)}$$"
   ]
  },
  {
   "cell_type": "code",
   "execution_count": 3,
   "metadata": {},
   "outputs": [],
   "source": [
    "def eq(x):\n",
    "    return (1 + (1 - q) * x)**(1/(1-q))\n",
    "\n",
    "def pdf(λ, q, x):\n",
    "    return (2 - q) * λ * eq((-λ) * x)"
   ]
  },
  {
   "cell_type": "code",
   "execution_count": 4,
   "metadata": {},
   "outputs": [],
   "source": [
    "# Scott's bin size\n",
    "def bin_width(σ, n):\n",
    "    return 3.5 * (σ/(n**(1/3)))\n",
    "\n",
    "def num_of_bins(data):\n",
    "    σ = np.std(data)\n",
    "    n = len(data)\n",
    "    width = bin_width(σ, n)\n",
    "    return np.ceil((np.max(data) - np.min(data))/ width), width"
   ]
  },
  {
   "cell_type": "code",
   "execution_count": 5,
   "metadata": {},
   "outputs": [],
   "source": [
    "def histogram(data, bins):\n",
    "    sorted_data = np.sort(data)\n",
    "    X = np.unique(sorted_data)\n",
    "    j = 0\n",
    "    count = 0\n",
    "    Px = []\n",
    "    for i in range(0, X.shape[0], bins):\n",
    "        X_min = X[i]\n",
    "        if (i + bins >= X.shape[0]):\n",
    "            X_max = X.max() + 1\n",
    "        else:\n",
    "            X_max = X[i + bins]\n",
    "        while((j < sorted_data.shape[0]) and (X_min <= sorted_data[j] < X_max)):\n",
    "            count += 1\n",
    "            j += 1\n",
    "        Px.append(count)\n",
    "        count = 0\n",
    "    return X[::bins], np.array(Px)/ len(data)"
   ]
  },
  {
   "cell_type": "code",
   "execution_count": 6,
   "metadata": {},
   "outputs": [],
   "source": [
    "def histogram_power2(data):\n",
    "    sorted_data = np.sort(data)\n",
    "    X = np.unique(sorted_data)\n",
    "    width = [2**i for i in range(int(np.floor(np.log(X.astype('int').max())/np.log(2))))]\n",
    "    X_values = []\n",
    "    x = 0\n",
    "    for w in width:\n",
    "        x += w\n",
    "        X_values.append(x)\n",
    "    X_values.append(X.astype('int').max())\n",
    "    j = 0\n",
    "    count = 0\n",
    "    CPx = []\n",
    "    for i in range(1, len(X_values)):\n",
    "        while((j < sorted_data.shape[0]) and (X_values[i-1] <= sorted_data[j] < X_values[i])):\n",
    "            count += 1\n",
    "            j += 1\n",
    "        CPx.append(count)\n",
    "        count = 0\n",
    "    return X, np.array(CPx), np.array(X_values)"
   ]
  },
  {
   "cell_type": "code",
   "execution_count": 7,
   "metadata": {},
   "outputs": [],
   "source": [
    "def histogram_power(data, power):\n",
    "    X, X_counts = np.unique(data, return_counts=True)\n",
    "    width = [power**i for i in range(int(np.ceil(np.log(X.astype('int').max())/np.log(power))))]\n",
    "    x = 0\n",
    "    X_values = [x]\n",
    "    for w in width:\n",
    "        x += w\n",
    "        X_values.append(x)\n",
    "    j = 0\n",
    "    count = 0\n",
    "    CPx = []\n",
    "    for i in range(1, len(X_values)):\n",
    "        while((j < X.shape[0]) and (X_values[i-1] <= X[j] < X_values[i])):\n",
    "            count += X_counts[j]\n",
    "            j += 1\n",
    "        CPx.append(count)\n",
    "        count = 0\n",
    "    return X, np.array(CPx), np.array(X_values), width"
   ]
  },
  {
   "cell_type": "code",
   "execution_count": 8,
   "metadata": {},
   "outputs": [],
   "source": [
    "# Deprecated\n",
    "# def histogram_power(data, power):\n",
    "#     sorted_data = np.sort(data)\n",
    "#     X = np.unique(sorted_data)\n",
    "#     width = [power**i for i in range(int(np.ceil(np.log(X.astype('int').max())/np.log(power))))]\n",
    "#     x = 0\n",
    "#     X_values = [x]\n",
    "#     for w in width:\n",
    "#         x += w\n",
    "#         X_values.append(x)\n",
    "#     j = 0\n",
    "#     count = 0\n",
    "#     CPx = []\n",
    "#     for i in range(1, len(X_values)):\n",
    "#         while((j < sorted_data.shape[0]) and (X_values[i-1] <= sorted_data[j] < X_values[i])):\n",
    "#             count += 1\n",
    "#             j += 1\n",
    "#         CPx.append(count)\n",
    "#         count = 0\n",
    "#     return X, np.array(CPx), np.array(X_values)"
   ]
  },
  {
   "cell_type": "code",
   "execution_count": 9,
   "metadata": {},
   "outputs": [],
   "source": [
    "def histogram_one(data):\n",
    "    X, X_counts = np.unique(data, return_counts=True)\n",
    "    width = [i for i in range(X.astype('int').max())]\n",
    "    x = 0\n",
    "    X_values = []\n",
    "    for w in width:\n",
    "        x += w\n",
    "        X_values.append(x)\n",
    "    j = 0\n",
    "    count = 0\n",
    "    CPx = []\n",
    "    for i in range(1, len(X_values)):\n",
    "        while((j < X.shape[0]) and (X_values[i-1] <= X[j] < X_values[i])):\n",
    "            count += X_counts[j]\n",
    "            j += 1\n",
    "        CPx.append(count)\n",
    "        count = 0\n",
    "    return X, np.array(CPx), np.array(X_values), width"
   ]
  },
  {
   "cell_type": "code",
   "execution_count": 134,
   "metadata": {},
   "outputs": [],
   "source": [
    "data = np.loadtxt(\"/home/marcio/qExp13_2.txt\", delimiter=',')"
   ]
  },
  {
   "cell_type": "code",
   "execution_count": 135,
   "metadata": {},
   "outputs": [
    {
     "data": {
      "text/plain": [
       "array([  0.,   1.,   2.,   3.,   4.,   5.,   6.,   7.,   8.,   9.,  10.,\n",
       "        11.,  12.,  13.,  14.,  15.,  16.,  17.,  18.,  19.,  20.,  21.,\n",
       "        22.,  23.,  24.,  25.,  26.,  27.,  28.,  29.,  30.,  31.,  32.,\n",
       "        33.,  34.,  35.,  36.,  37.,  38.,  39.,  40.,  41.,  42.,  43.,\n",
       "        44.,  45.,  46.,  47.,  48.,  49.,  50.,  51.,  52.,  53.,  54.,\n",
       "        55.,  56.,  57.,  58.,  59.,  60.,  61.,  62.,  63.,  64.,  65.,\n",
       "        66.,  67.,  68.,  69.,  70.,  71.,  72.,  73.,  74.,  75.,  76.,\n",
       "        77.,  78.,  79.,  80.,  81.,  82.,  83.,  84.,  85.,  86.,  87.,\n",
       "        88.,  89.,  90.,  91.,  92.,  93.,  94.,  95.,  96.,  97.,  98.,\n",
       "        99., 100., 101., 102., 103., 104., 105., 106., 107., 108., 109.,\n",
       "       110., 111., 112., 113., 114., 115., 116., 117., 118., 119., 120.,\n",
       "       121., 122., 123., 124., 125., 126., 127., 128., 129., 130., 131.,\n",
       "       132., 133., 134., 135., 137., 138., 139., 140., 141., 142., 143.,\n",
       "       144., 145., 146., 147., 148., 149., 151., 152., 153., 154., 155.,\n",
       "       156., 157., 158., 159., 160., 161., 162., 163., 164., 166., 167.,\n",
       "       169., 170., 172., 173., 175., 177., 178., 179., 180., 181., 183.,\n",
       "       185., 186., 187., 188., 190., 192., 194., 196., 197., 198., 199.,\n",
       "       200., 201., 202., 203., 206., 208., 212., 213., 215., 216., 218.,\n",
       "       219., 222., 224., 226., 229., 231., 233., 234., 238., 239., 240.,\n",
       "       243., 249., 250., 251., 252., 256., 257., 259., 268., 269., 270.,\n",
       "       272., 273., 276., 277., 284., 285., 288., 292., 296., 307., 310.,\n",
       "       317., 325., 329., 337., 339., 356., 358., 363., 365., 377., 429.,\n",
       "       443., 471., 473., 479., 534., 676., 855., 870.])"
      ]
     },
     "execution_count": 135,
     "metadata": {},
     "output_type": "execute_result"
    }
   ],
   "source": [
    "np.unique(data)"
   ]
  },
  {
   "cell_type": "code",
   "execution_count": 136,
   "metadata": {},
   "outputs": [],
   "source": [
    "power = np.sqrt(1.57)\n",
    "X, CPx, X_values, width = histogram_power(data, power)"
   ]
  },
  {
   "cell_type": "code",
   "execution_count": 137,
   "metadata": {},
   "outputs": [],
   "source": [
    "Px = np.array([CPx[i]/width[i] for i in range(len(CPx))]) / len(data)"
   ]
  },
  {
   "cell_type": "code",
   "execution_count": 138,
   "metadata": {},
   "outputs": [],
   "source": [
    "def int_eq(λ, q, x):\n",
    "    return -(1 - (1 - q) * λ * x) ** ((2 - q) / (1 - q))"
   ]
  },
  {
   "cell_type": "code",
   "execution_count": 139,
   "metadata": {},
   "outputs": [],
   "source": [
    "λ = 2\n",
    "q = 1.3\n",
    "xmin = 2\n",
    "# α = 1 / (1 - (int_eq(λ, q, 10E3) - int_eq(λ, q, 0)))\n",
    "fx = pdf(λ, q, np.array(range(1000)))\n",
    "factor = fx.sum()\n",
    "# Px = factor * Px\n",
    "fx = pdf(λ, q, X_values[:-1])\n",
    "# fx = pdf(λ, q, X_values)"
   ]
  },
  {
   "cell_type": "code",
   "execution_count": 140,
   "metadata": {},
   "outputs": [
    {
     "data": {
      "text/plain": [
       "1.9090928510843688"
      ]
     },
     "execution_count": 140,
     "metadata": {},
     "output_type": "execute_result"
    }
   ],
   "source": [
    "factor"
   ]
  },
  {
   "cell_type": "code",
   "execution_count": 141,
   "metadata": {},
   "outputs": [],
   "source": [
    "from scipy import integrate"
   ]
  },
  {
   "cell_type": "code",
   "execution_count": 142,
   "metadata": {},
   "outputs": [
    {
     "data": {
      "text/plain": [
       "1.0091854296349911"
      ]
     },
     "execution_count": 142,
     "metadata": {},
     "output_type": "execute_result"
    }
   ],
   "source": [
    "integrate.simps(fx, X_values[:-1])"
   ]
  },
  {
   "cell_type": "code",
   "execution_count": 143,
   "metadata": {},
   "outputs": [],
   "source": [
    "k = integrate.simps(fx, X_values[:-1])/ integrate.simps(Px, X_values[:-1])"
   ]
  },
  {
   "cell_type": "code",
   "execution_count": 144,
   "metadata": {},
   "outputs": [
    {
     "data": {
      "text/plain": [
       "1.9945799249202587"
      ]
     },
     "execution_count": 144,
     "metadata": {},
     "output_type": "execute_result"
    }
   ],
   "source": [
    "k"
   ]
  },
  {
   "cell_type": "code",
   "execution_count": 145,
   "metadata": {},
   "outputs": [
    {
     "data": {
      "text/plain": [
       "0.3779496698571748"
      ]
     },
     "execution_count": 145,
     "metadata": {},
     "output_type": "execute_result"
    }
   ],
   "source": [
    "Px[3] / fx[3]"
   ]
  },
  {
   "cell_type": "code",
   "execution_count": 146,
   "metadata": {},
   "outputs": [
    {
     "name": "stderr",
     "output_type": "stream",
     "text": [
      "/home/marcio/Projects/Random-Graph/RandomGraph_env/lib/python3.6/site-packages/ipykernel_launcher.py:11: UserWarning: Attempted to set non-positive left xlim on a log-scaled axis.\n",
      "Invalid limit will be ignored.\n",
      "  # This is added back by InteractiveShellApp.init_path()\n"
     ]
    },
    {
     "data": {
      "image/png": "[encoded data removed]",
      "text/plain": [
       "<Figure size 576x576 with 1 Axes>"
      ]
     },
     "metadata": {
      "needs_background": "light"
     },
     "output_type": "display_data"
    }
   ],
   "source": [
    "# plot it!\n",
    "fig = plt.figure(figsize=(8, 8))\n",
    "ax = fig.add_subplot(111)\n",
    "ax.plot(X_values[:-1], Px, color='#001072', marker='o', label='Discrete')\n",
    "# ax.plot(range(1000), factor, color='#001072')\n",
    "ax.plot(X_values[:-1], fx / factor, 'go--', color = '#000000',linewidth=2, markersize=1, label='Continuous')\n",
    "plt.title(\"Parameters: $\\lambda$: \" + str(λ) + \", q: \" + str(q) + \", $x_{min}$: 0\")\n",
    "ax.legend()\n",
    "plt.xscale('log')\n",
    "plt.yscale('log')\n",
    "plt.xlim(0, 10000)\n",
    "plt.savefig(\"Comparison_cont.jpg\", format='jpg', dpi=1200, bbox_inches = 'tight')\n",
    "plt.show()"
   ]
  },
  {
   "cell_type": "code",
   "execution_count": 57,
   "metadata": {},
   "outputs": [
    {
     "ename": "OSError",
     "evalue": "/home/marcio/qExp13_2_3.txt not found.",
     "output_type": "error",
     "traceback": [
      "\u001b[0;31m---------------------------------------------------------------------------\u001b[0m",
      "\u001b[0;31mOSError\u001b[0m                                   Traceback (most recent call last)",
      "\u001b[0;32m<ipython-input-57-e21d4c4dbe6f>\u001b[0m in \u001b[0;36m<module>\u001b[0;34m\u001b[0m\n\u001b[0;32m----> 1\u001b[0;31m \u001b[0mdata3\u001b[0m \u001b[0;34m=\u001b[0m \u001b[0mnp\u001b[0m\u001b[0;34m.\u001b[0m\u001b[0mloadtxt\u001b[0m\u001b[0;34m(\u001b[0m\u001b[0;34m\"/home/marcio/qExp13_2_3.txt\"\u001b[0m\u001b[0;34m,\u001b[0m \u001b[0mdelimiter\u001b[0m\u001b[0;34m=\u001b[0m\u001b[0;34m','\u001b[0m\u001b[0;34m)\u001b[0m\u001b[0;34m\u001b[0m\u001b[0;34m\u001b[0m\u001b[0m\n\u001b[0m\u001b[1;32m      2\u001b[0m \u001b[0mdata4\u001b[0m \u001b[0;34m=\u001b[0m \u001b[0mnp\u001b[0m\u001b[0;34m.\u001b[0m\u001b[0mloadtxt\u001b[0m\u001b[0;34m(\u001b[0m\u001b[0;34m\"/home/marcio/qExp13_2_4.txt\"\u001b[0m\u001b[0;34m,\u001b[0m \u001b[0mdelimiter\u001b[0m\u001b[0;34m=\u001b[0m\u001b[0;34m','\u001b[0m\u001b[0;34m)\u001b[0m\u001b[0;34m\u001b[0m\u001b[0;34m\u001b[0m\u001b[0m\n\u001b[1;32m      3\u001b[0m \u001b[0mdata5\u001b[0m \u001b[0;34m=\u001b[0m \u001b[0mnp\u001b[0m\u001b[0;34m.\u001b[0m\u001b[0mloadtxt\u001b[0m\u001b[0;34m(\u001b[0m\u001b[0;34m\"/home/marcio/qExp13_2_5.txt\"\u001b[0m\u001b[0;34m,\u001b[0m \u001b[0mdelimiter\u001b[0m\u001b[0;34m=\u001b[0m\u001b[0;34m','\u001b[0m\u001b[0;34m)\u001b[0m\u001b[0;34m\u001b[0m\u001b[0;34m\u001b[0m\u001b[0m\n\u001b[1;32m      4\u001b[0m \u001b[0mdata6\u001b[0m \u001b[0;34m=\u001b[0m \u001b[0mnp\u001b[0m\u001b[0;34m.\u001b[0m\u001b[0mloadtxt\u001b[0m\u001b[0;34m(\u001b[0m\u001b[0;34m\"/home/marcio/qExp13_2_6.txt\"\u001b[0m\u001b[0;34m,\u001b[0m \u001b[0mdelimiter\u001b[0m\u001b[0;34m=\u001b[0m\u001b[0;34m','\u001b[0m\u001b[0;34m)\u001b[0m\u001b[0;34m\u001b[0m\u001b[0;34m\u001b[0m\u001b[0m\n\u001b[1;32m      5\u001b[0m \u001b[0mdata7\u001b[0m \u001b[0;34m=\u001b[0m \u001b[0mnp\u001b[0m\u001b[0;34m.\u001b[0m\u001b[0mloadtxt\u001b[0m\u001b[0;34m(\u001b[0m\u001b[0;34m\"/home/marcio/qExp13_2_7.txt\"\u001b[0m\u001b[0;34m,\u001b[0m \u001b[0mdelimiter\u001b[0m\u001b[0;34m=\u001b[0m\u001b[0;34m','\u001b[0m\u001b[0;34m)\u001b[0m\u001b[0;34m\u001b[0m\u001b[0;34m\u001b[0m\u001b[0m\n",
      "\u001b[0;32m~/Projects/Random-Graph/RandomGraph_env/lib/python3.6/site-packages/numpy/lib/npyio.py\u001b[0m in \u001b[0;36mloadtxt\u001b[0;34m(fname, dtype, comments, delimiter, converters, skiprows, usecols, unpack, ndmin, encoding, max_rows)\u001b[0m\n\u001b[1;32m    960\u001b[0m             \u001b[0mfname\u001b[0m \u001b[0;34m=\u001b[0m \u001b[0mos_fspath\u001b[0m\u001b[0;34m(\u001b[0m\u001b[0mfname\u001b[0m\u001b[0;34m)\u001b[0m\u001b[0;34m\u001b[0m\u001b[0;34m\u001b[0m\u001b[0m\n\u001b[1;32m    961\u001b[0m         \u001b[0;32mif\u001b[0m \u001b[0m_is_string_like\u001b[0m\u001b[0;34m(\u001b[0m\u001b[0mfname\u001b[0m\u001b[0;34m)\u001b[0m\u001b[0;34m:\u001b[0m\u001b[0;34m\u001b[0m\u001b[0;34m\u001b[0m\u001b[0m\n\u001b[0;32m--> 962\u001b[0;31m             \u001b[0mfh\u001b[0m \u001b[0;34m=\u001b[0m \u001b[0mnp\u001b[0m\u001b[0;34m.\u001b[0m\u001b[0mlib\u001b[0m\u001b[0;34m.\u001b[0m\u001b[0m_datasource\u001b[0m\u001b[0;34m.\u001b[0m\u001b[0mopen\u001b[0m\u001b[0;34m(\u001b[0m\u001b[0mfname\u001b[0m\u001b[0;34m,\u001b[0m \u001b[0;34m'rt'\u001b[0m\u001b[0;34m,\u001b[0m \u001b[0mencoding\u001b[0m\u001b[0;34m=\u001b[0m\u001b[0mencoding\u001b[0m\u001b[0;34m)\u001b[0m\u001b[0;34m\u001b[0m\u001b[0;34m\u001b[0m\u001b[0m\n\u001b[0m\u001b[1;32m    963\u001b[0m             \u001b[0mfencoding\u001b[0m \u001b[0;34m=\u001b[0m \u001b[0mgetattr\u001b[0m\u001b[0;34m(\u001b[0m\u001b[0mfh\u001b[0m\u001b[0;34m,\u001b[0m \u001b[0;34m'encoding'\u001b[0m\u001b[0;34m,\u001b[0m \u001b[0;34m'latin1'\u001b[0m\u001b[0;34m)\u001b[0m\u001b[0;34m\u001b[0m\u001b[0;34m\u001b[0m\u001b[0m\n\u001b[1;32m    964\u001b[0m             \u001b[0mfh\u001b[0m \u001b[0;34m=\u001b[0m \u001b[0miter\u001b[0m\u001b[0;34m(\u001b[0m\u001b[0mfh\u001b[0m\u001b[0;34m)\u001b[0m\u001b[0;34m\u001b[0m\u001b[0;34m\u001b[0m\u001b[0m\n",
      "\u001b[0;32m~/Projects/Random-Graph/RandomGraph_env/lib/python3.6/site-packages/numpy/lib/_datasource.py\u001b[0m in \u001b[0;36mopen\u001b[0;34m(path, mode, destpath, encoding, newline)\u001b[0m\n\u001b[1;32m    264\u001b[0m \u001b[0;34m\u001b[0m\u001b[0m\n\u001b[1;32m    265\u001b[0m     \u001b[0mds\u001b[0m \u001b[0;34m=\u001b[0m \u001b[0mDataSource\u001b[0m\u001b[0;34m(\u001b[0m\u001b[0mdestpath\u001b[0m\u001b[0;34m)\u001b[0m\u001b[0;34m\u001b[0m\u001b[0;34m\u001b[0m\u001b[0m\n\u001b[0;32m--> 266\u001b[0;31m     \u001b[0;32mreturn\u001b[0m \u001b[0mds\u001b[0m\u001b[0;34m.\u001b[0m\u001b[0mopen\u001b[0m\u001b[0;34m(\u001b[0m\u001b[0mpath\u001b[0m\u001b[0;34m,\u001b[0m \u001b[0mmode\u001b[0m\u001b[0;34m,\u001b[0m \u001b[0mencoding\u001b[0m\u001b[0;34m=\u001b[0m\u001b[0mencoding\u001b[0m\u001b[0;34m,\u001b[0m \u001b[0mnewline\u001b[0m\u001b[0;34m=\u001b[0m\u001b[0mnewline\u001b[0m\u001b[0;34m)\u001b[0m\u001b[0;34m\u001b[0m\u001b[0;34m\u001b[0m\u001b[0m\n\u001b[0m\u001b[1;32m    267\u001b[0m \u001b[0;34m\u001b[0m\u001b[0m\n\u001b[1;32m    268\u001b[0m \u001b[0;34m\u001b[0m\u001b[0m\n",
      "\u001b[0;32m~/Projects/Random-Graph/RandomGraph_env/lib/python3.6/site-packages/numpy/lib/_datasource.py\u001b[0m in \u001b[0;36mopen\u001b[0;34m(self, path, mode, encoding, newline)\u001b[0m\n\u001b[1;32m    622\u001b[0m                                       encoding=encoding, newline=newline)\n\u001b[1;32m    623\u001b[0m         \u001b[0;32melse\u001b[0m\u001b[0;34m:\u001b[0m\u001b[0;34m\u001b[0m\u001b[0;34m\u001b[0m\u001b[0m\n\u001b[0;32m--> 624\u001b[0;31m             \u001b[0;32mraise\u001b[0m \u001b[0mIOError\u001b[0m\u001b[0;34m(\u001b[0m\u001b[0;34m\"%s not found.\"\u001b[0m \u001b[0;34m%\u001b[0m \u001b[0mpath\u001b[0m\u001b[0;34m)\u001b[0m\u001b[0;34m\u001b[0m\u001b[0;34m\u001b[0m\u001b[0m\n\u001b[0m\u001b[1;32m    625\u001b[0m \u001b[0;34m\u001b[0m\u001b[0m\n\u001b[1;32m    626\u001b[0m \u001b[0;34m\u001b[0m\u001b[0m\n",
      "\u001b[0;31mOSError\u001b[0m: /home/marcio/qExp13_2_3.txt not found."
     ]
    }
   ],
   "source": [
    "data3 = np.loadtxt(\"/home/marcio/qExp13_2_3.txt\", delimiter=',')\n",
    "data4 = np.loadtxt(\"/home/marcio/qExp13_2_4.txt\", delimiter=',')\n",
    "data5 = np.loadtxt(\"/home/marcio/qExp13_2_5.txt\", delimiter=',')\n",
    "data6 = np.loadtxt(\"/home/marcio/qExp13_2_6.txt\", delimiter=',')\n",
    "data7 = np.loadtxt(\"/home/marcio/qExp13_2_7.txt\", delimiter=',')"
   ]
  },
  {
   "cell_type": "code",
   "execution_count": null,
   "metadata": {},
   "outputs": [],
   "source": [
    "data3 = np.loadtxt(\"/home/marcio/qExp13_2_7.txt\", delimiter=',')"
   ]
  },
  {
   "cell_type": "code",
   "execution_count": null,
   "metadata": {},
   "outputs": [],
   "source": [
    "power = np.sqrt(3.2)\n",
    "X3, CPx3, X_values3 = histogram_power(data3, power)\n",
    "X4, CPx4, X_values4 = histogram_power(data4, power)\n",
    "X5, CPx5, X_values5 = histogram_power(data5, power)\n",
    "X6, CPx6, X_values6 = histogram_power(data6, power)\n",
    "X7, CPx7, X_values7 = histogram_power(data7, power)"
   ]
  },
  {
   "cell_type": "code",
   "execution_count": null,
   "metadata": {},
   "outputs": [],
   "source": [
    "width3 = [power**i for i in range(int(np.floor(np.log(X3.astype('int').max())/np.log(power))))]\n",
    "width4 = [power**i for i in range(int(np.floor(np.log(X4.astype('int').max())/np.log(power))))]\n",
    "width5 = [power**i for i in range(int(np.floor(np.log(X5.astype('int').max())/np.log(power))))]\n",
    "width6 = [power**i for i in range(int(np.floor(np.log(X6.astype('int').max())/np.log(power))))]\n",
    "width7 = [power**i for i in range(int(np.floor(np.log(X7.astype('int').max())/np.log(power))))]"
   ]
  },
  {
   "cell_type": "code",
   "execution_count": null,
   "metadata": {},
   "outputs": [],
   "source": [
    "Px3 = np.array([CPx3[i]/width3[i] for i in range(len(CPx3))]) / len(data3)\n",
    "Px4 = np.array([CPx4[i]/width4[i] for i in range(len(CPx4))]) / len(data4)\n",
    "Px5 = np.array([CPx5[i]/width5[i] for i in range(len(CPx5))]) / len(data5)\n",
    "Px6 = np.array([CPx6[i]/width6[i] for i in range(len(CPx6))]) / len(data6)\n",
    "Px7 = np.array([CPx7[i]/width7[i] for i in range(len(CPx7))]) / len(data7)"
   ]
  },
  {
   "cell_type": "code",
   "execution_count": null,
   "metadata": {},
   "outputs": [],
   "source": [
    "1 / (int_eq(λ, q, 10E7)- int_eq(λ, q, 2))"
   ]
  },
  {
   "cell_type": "code",
   "execution_count": null,
   "metadata": {},
   "outputs": [],
   "source": [
    "λ = 2\n",
    "q = 1.3\n",
    "xmin = 2\n",
    "# α = 1 / (1 - (int_eq(λ, q, 10E7) - int_eq(λ, q, 0)))\n",
    "fx = pdf(λ, q, X_values7)"
   ]
  },
  {
   "cell_type": "code",
   "execution_count": null,
   "metadata": {},
   "outputs": [],
   "source": [
    "Px"
   ]
  },
  {
   "cell_type": "code",
   "execution_count": null,
   "metadata": {},
   "outputs": [],
   "source": [
    "# plot it!\n",
    "fig = plt.figure(figsize=(8, 8))\n",
    "ax = fig.add_subplot(111)\n",
    "ax.plot(X_values[:-1], Px,  label='N = 10E3')\n",
    "# ax.plot(X_values4, np.append(Px4,0),  label='N = 10E4')\n",
    "# ax.plot(X_values5[:-1], Px5,  label='N = 10E5')\n",
    "# ax.plot(X_values6[:-1], Px6,  label='N = 10E6')\n",
    "# ax.plot(X_values7[:-1], Px7,  label='N = 10E7')\n",
    "\n",
    "# ax.scatter(X_values[:-1], Px/(len(data)), color='#001072', marker='x', label='Discrete / 10E5')\n",
    "# ax.plot(X_values[:-1], Px, color='#001072', alpha=0.25, label='Discrete')\n",
    "plt.title(\"Parameters: $\\lambda$: \" + str(λ) + \", q: \" + str(q) + \", $x_{min}$: 0\")\n",
    "# ax.plot(X_values7, fx, 'go--', color = '#000000',linewidth=2, markersize=1, label='Continuous')\n",
    "ax.legend()\n",
    "plt.xscale('log')\n",
    "plt.yscale('log')\n",
    "plt.xlim(0, 10000)\n",
    "plt.savefig(\"Comparison_cont.jpg\", format='jpg', dpi=1200, bbox_inches = 'tight')\n",
    "plt.show()"
   ]
  },
  {
   "cell_type": "code",
   "execution_count": null,
   "metadata": {},
   "outputs": [],
   "source": [
    "integrate.simps(fx, X_values[:-1])"
   ]
  },
  {
   "cell_type": "code",
   "execution_count": null,
   "metadata": {},
   "outputs": [],
   "source": [
    "integrate.simps(Px, X_values[:-1])"
   ]
  },
  {
   "cell_type": "code",
   "execution_count": null,
   "metadata": {},
   "outputs": [],
   "source": [
    "Px3, np.append(Px4,0), Px5, Px6"
   ]
  },
  {
   "cell_type": "code",
   "execution_count": null,
   "metadata": {},
   "outputs": [],
   "source": [
    "X_values4"
   ]
  },
  {
   "cell_type": "code",
   "execution_count": null,
   "metadata": {},
   "outputs": [],
   "source": [
    "from scipy import integrate"
   ]
  },
  {
   "cell_type": "code",
   "execution_count": null,
   "metadata": {},
   "outputs": [],
   "source": []
  },
  {
   "cell_type": "code",
   "execution_count": null,
   "metadata": {},
   "outputs": [],
   "source": []
  }
 ],
 "metadata": {
  "kernelspec": {
   "display_name": "Python 3",
   "language": "python",
   "name": "python3"
  },
  "language_info": {
   "codemirror_mode": {
    "name": "ipython",
    "version": 3
   },
   "file_extension": ".py",
   "mimetype": "text/x-python",
   "name": "python",
   "nbconvert_exporter": "python",
   "pygments_lexer": "ipython3",
   "version": "3.6.7"
  }
 },
 "nbformat": 4,
 "nbformat_minor": 2
}
