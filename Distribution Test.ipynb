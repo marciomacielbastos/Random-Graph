{
 "cells": [
  {
   "cell_type": "code",
   "execution_count": 1,
   "metadata": {},
   "outputs": [],
   "source": [
    "import numpy as np\n",
    "from matplotlib import pyplot as plt\n",
    "from scipy.interpolate import UnivariateSpline\n",
    "from scipy.interpolate import make_interp_spline, BSpline\n",
    "from sklearn.linear_model import ElasticNet"
   ]
  },
  {
   "cell_type": "markdown",
   "metadata": {},
   "source": [
    "$$\\frac{-\\Big[\\frac{-U}{\\lambda(2-q)} + 1\\Big]^{\\frac{1-q}{2-q}}}{\\lambda(1-q)}$$"
   ]
  },
  {
   "cell_type": "code",
   "execution_count": 2,
   "metadata": {},
   "outputs": [],
   "source": [
    "def inverse_cdf(λ, q, U):\n",
    "    k = -((-U/(λ*(2-q))) + 1)**((1-q)/(2-q))\n",
    "    return k/(λ*(1-q))"
   ]
  },
  {
   "cell_type": "markdown",
   "metadata": {},
   "source": [
    "$$(2-q)\\lambda e_{q}(-\\lambda x)$$\n",
    "\n",
    "$$e_{q} = [1 + (1 - q)x]^{1/(1-q)}$$"
   ]
  },
  {
   "cell_type": "code",
   "execution_count": 3,
   "metadata": {},
   "outputs": [],
   "source": [
    "def eq(x):\n",
    "    return (1 + (1 - q) * x)**(1/(1-q))\n",
    "\n",
    "def pdf(λ, q, x):\n",
    "    return (2 - q) * λ * eq(-λ*x)"
   ]
  },
  {
   "cell_type": "code",
   "execution_count": 4,
   "metadata": {},
   "outputs": [],
   "source": [
    "# Scott's bin size\n",
    "def bin_width(σ, n):\n",
    "    return 3.5 * (σ/(n**(1/3)))\n",
    "\n",
    "def num_of_bins(data):\n",
    "    σ = np.std(data)\n",
    "    n = len(data)\n",
    "    width = bin_width(σ, n)\n",
    "    return np.ceil((np.max(data) - np.min(data))/ width), width"
   ]
  },
  {
   "cell_type": "code",
   "execution_count": 5,
   "metadata": {},
   "outputs": [],
   "source": [
    "def histogram(data, bins):\n",
    "    sorted_data = np.sort(data)\n",
    "    X = np.unique(sorted_data)\n",
    "    j = 0\n",
    "    count = 0\n",
    "    Px = []\n",
    "    for i in range(0, X.shape[0], bins):\n",
    "        X_min = X[i]\n",
    "        if (i + bins >= X.shape[0]):\n",
    "            X_max = X.max() + 1\n",
    "        else:\n",
    "            X_max = X[i + bins]\n",
    "        while((j < sorted_data.shape[0]) and (X_min <= sorted_data[j] < X_max)):\n",
    "            count += 1\n",
    "            j += 1\n",
    "        Px.append(count)\n",
    "        count = 0\n",
    "    return X[::bins], np.array(Px)/ len(data)"
   ]
  },
  {
   "cell_type": "code",
   "execution_count": 45,
   "metadata": {},
   "outputs": [],
   "source": [
    "data = np.loadtxt(\"/home/marcio/qExp13_2.txt\", delimiter=',')"
   ]
  },
  {
   "cell_type": "code",
   "execution_count": 50,
   "metadata": {},
   "outputs": [],
   "source": [
    "X, Px = histogram(data, 1)"
   ]
  },
  {
   "cell_type": "code",
   "execution_count": 51,
   "metadata": {},
   "outputs": [],
   "source": [
    "λ = 2\n",
    "q = 1.000000001\n",
    "# X = np.linspace(0,1000, 100)\n",
    "fx = pdf(λ, q, X)"
   ]
  },
  {
   "cell_type": "code",
   "execution_count": 52,
   "metadata": {},
   "outputs": [
    {
     "data": {
      "text/plain": [
       "array([0., 1., 2., 3., 4., 5., 6., 7., 8.])"
      ]
     },
     "execution_count": 52,
     "metadata": {},
     "output_type": "execute_result"
    }
   ],
   "source": [
    "X"
   ]
  },
  {
   "cell_type": "code",
   "execution_count": 56,
   "metadata": {},
   "outputs": [
    {
     "data": {
      "image/png": "[encoded data removed]",
      "text/plain": [
       "<Figure size 576x576 with 1 Axes>"
      ]
     },
     "metadata": {
      "needs_background": "light"
     },
     "output_type": "display_data"
    }
   ],
   "source": [
    "# plot it!\n",
    "fig = plt.figure(figsize=(8, 8))\n",
    "ax = fig.add_subplot(111)\n",
    "ax.plot(X, Px, color='#001072', label='Discrete')\n",
    "plt.title(\"Parameters: $\\lambda$: \" + str(λ) + \", q: \" + str(q) + \", $x_{min}$: 0\")\n",
    "ax.plot(X, fx, color='#FF007F', label='Continuous')\n",
    "ax.legend()\n",
    "plt.xscale('log')\n",
    "plt.yscale('log')\n",
    "plt.xlim(0, 100)\n",
    "plt.savefig(\"img2.jpg\", format='jpg', dpi=1200, bbox_inches = 'tight')\n",
    "plt.show()"
   ]
  },
  {
   "cell_type": "code",
   "execution_count": null,
   "metadata": {},
   "outputs": [],
   "source": [
    "4/3"
   ]
  },
  {
   "cell_type": "code",
   "execution_count": null,
   "metadata": {},
   "outputs": [],
   "source": [
    "hist, bins = np.histogram(data, 10000)"
   ]
  },
  {
   "cell_type": "code",
   "execution_count": null,
   "metadata": {},
   "outputs": [],
   "source": [
    "hist"
   ]
  },
  {
   "cell_type": "code",
   "execution_count": null,
   "metadata": {},
   "outputs": [],
   "source": [
    "elastic_net = ElasticNet(alpha=0.1, l1_ratio=0.5)\n",
    "elastic_net.fit(X, y)\n",
    "elastic_net.predict([[1.5]])"
   ]
  },
  {
   "cell_type": "code",
   "execution_count": null,
   "metadata": {},
   "outputs": [],
   "source": [
    "Px = np.array(Px)"
   ]
  },
  {
   "cell_type": "code",
   "execution_count": null,
   "metadata": {},
   "outputs": [],
   "source": [
    "Px/len(Px)"
   ]
  },
  {
   "cell_type": "code",
   "execution_count": null,
   "metadata": {},
   "outputs": [],
   "source": [
    "# plt.plot(bins[:-1], hist);\n",
    "plt.plot(X, Px);\n",
    "plt.plot(X, pdf(λ, q, X))\n",
    "plt.xscale('log')\n",
    "plt.yscale('log')\n",
    "plt.xlim(0, 100)"
   ]
  },
  {
   "cell_type": "code",
   "execution_count": null,
   "metadata": {},
   "outputs": [],
   "source": [
    "U = np.random.uniform(0,1,10000000)\n",
    "λ = 2\n",
    "q = 1.3"
   ]
  },
  {
   "cell_type": "code",
   "execution_count": null,
   "metadata": {},
   "outputs": [],
   "source": [
    "A_ = inverse_cdf(λ, q, U)"
   ]
  },
  {
   "cell_type": "code",
   "execution_count": null,
   "metadata": {},
   "outputs": [],
   "source": [
    "A_sorted = np.sort(A)"
   ]
  },
  {
   "cell_type": "code",
   "execution_count": null,
   "metadata": {},
   "outputs": [],
   "source": []
  },
  {
   "cell_type": "code",
   "execution_count": null,
   "metadata": {},
   "outputs": [],
   "source": [
    "[i*10 for i in range(20//10 + 1)]"
   ]
  },
  {
   "cell_type": "code",
   "execution_count": null,
   "metadata": {},
   "outputs": [],
   "source": [
    "X.max()"
   ]
  },
  {
   "cell_type": "code",
   "execution_count": null,
   "metadata": {},
   "outputs": [],
   "source": [
    "count = 0\n",
    "X = np.array([0])\n",
    "P = np.array([])\n",
    "n = 100\n",
    "for i in range(X):\n",
    "    while"
   ]
  },
  {
   "cell_type": "code",
   "execution_count": null,
   "metadata": {},
   "outputs": [],
   "source": [
    "widths"
   ]
  },
  {
   "cell_type": "code",
   "execution_count": null,
   "metadata": {},
   "outputs": [],
   "source": [
    "b = np.linspace(0,9, 10)\n",
    "w = (b[1:] - b[:-1])"
   ]
  },
  {
   "cell_type": "code",
   "execution_count": null,
   "metadata": {},
   "outputs": [],
   "source": [
    "len(b)"
   ]
  },
  {
   "cell_type": "code",
   "execution_count": null,
   "metadata": {},
   "outputs": [],
   "source": [
    "data = A\n",
    "# log-scaled bins\n",
    "bins = np.logspace(0, 3, 50)\n",
    "widths = (bins[1:] - bins[:-1])"
   ]
  },
  {
   "cell_type": "code",
   "execution_count": null,
   "metadata": {},
   "outputs": [],
   "source": [
    "bins"
   ]
  },
  {
   "cell_type": "code",
   "execution_count": null,
   "metadata": {},
   "outputs": [],
   "source": [
    "# Calculate histogram\n",
    "discrete = np.histogram(data, bins=bins)"
   ]
  },
  {
   "cell_type": "code",
   "execution_count": null,
   "metadata": {},
   "outputs": [],
   "source": [
    "discrete"
   ]
  },
  {
   "cell_type": "code",
   "execution_count": null,
   "metadata": {},
   "outputs": [],
   "source": [
    "λ = 2\n",
    "q = 1.3\n",
    "continuous = pdf(λ, q, np.linspace(0, 1000000000, discrete[0].shape[0]))"
   ]
  },
  {
   "cell_type": "code",
   "execution_count": null,
   "metadata": {},
   "outputs": [],
   "source": [
    "continuous"
   ]
  },
  {
   "cell_type": "code",
   "execution_count": null,
   "metadata": {},
   "outputs": [],
   "source": [
    "np.linspace(0, 1000000000, discrete[0].shape[0])"
   ]
  },
  {
   "cell_type": "code",
   "execution_count": null,
   "metadata": {},
   "outputs": [],
   "source": [
    "continuous"
   ]
  },
  {
   "cell_type": "code",
   "execution_count": null,
   "metadata": {},
   "outputs": [],
   "source": [
    "# normalize by bin width\n",
    "discrete_norm = discrete[0]/widths\n",
    "continuous\n",
    "# values_norm2 = values2[:-1]/widths"
   ]
  },
  {
   "cell_type": "code",
   "execution_count": null,
   "metadata": {},
   "outputs": [],
   "source": [
    "result = np.where(discrete_norm == 0)\n",
    "discrete_norm_w0 = np.delete(discrete_norm, result)\n",
    "bins_w0 = np.delete(bins[:-1], result)\n",
    "# xnew = np.linspace(0,bins_del.max(),300)\n",
    "# spl = make_interp_spline(bins_del, hist_norm_del, k=3)\n",
    "# f = UnivariateSpline(bins_del, hist_norm_del, s=n)"
   ]
  },
  {
   "cell_type": "code",
   "execution_count": null,
   "metadata": {},
   "outputs": [],
   "source": [
    "# plot it!\n",
    "fig = plt.figure(figsize=(8, 8))\n",
    "ax = fig.add_subplot(111) \n",
    "ax.plot(bins[:-1], discrete[0], alpha=0.3, color='#001072')\n",
    "# ax.plot(bins_w0, discrete_norm_w0, color='#001072', label='Discrete')\n",
    "plt.title(\"Parâmetros: $\\lambda$: \" + str(λ) + \", q: \" + str(q) + \", $x_{min}$: 0\")\n",
    "ax.plot(bins[:-1], continuous, color='#FF007F', label='Continuous')\n",
    "# ax.plot(bins[:-1], values_norm2)\n",
    "ax.legend()\n",
    "plt.xscale('log')\n",
    "plt.yscale('log')\n",
    "plt.savefig(\"Observ4.jpg\", format='jpg', dpi=1200, bbox_inches = 'tight')\n",
    "plt.show()"
   ]
  },
  {
   "cell_type": "code",
   "execution_count": null,
   "metadata": {},
   "outputs": [],
   "source": [
    "np.logspace(0, 3, 50)"
   ]
  },
  {
   "cell_type": "code",
   "execution_count": null,
   "metadata": {},
   "outputs": [],
   "source": [
    "import numpy as np\n",
    "import matplotlib.pyplot as plt\n",
    "import itertools as it\n",
    "\n",
    "# We shall draw millions of samples from a Zipf distribution.  Using linear \n",
    "# bins this is too much data for a fast and attactive plot.\n",
    "\n",
    "# Generator for zipfian data\n",
    "X = (np.random.zipf(1.5) for _ in range(0, 5000000))\n",
    "X = A\n",
    "# Expected range of values\n",
    "MIN_VALUE = 1\n",
    "MAX_VALUE = 2.0 ** 64\n",
    "\n",
    "# Log base we shall be using though-out\n",
    "XBASE = 2\n",
    "YBASE = 10\n",
    "\n",
    "# Calculate the min and max powers:\n",
    "start_power = np.floor(np.log(MIN_VALUE) / np.log(XBASE))\n",
    "end_power = np.ceil(np.log(MAX_VALUE) / np.log(XBASE))\n",
    "# ...and number of whole integer powers in that range\n",
    "num_bins = (end_power - start_power) + 1\n",
    "\n",
    "#  Generated a range of delimiters in log space\n",
    "bins = np.logspace(start_power, end_power, num_bins, base=XBASE)\n",
    "\n",
    "#  Iteratively generate the the histogram in 1k chunks\n",
    "hist = np.zeros(len(bins) - 1)\n",
    "while True:\n",
    "    chunk = list(it.islice(X, 1000))\n",
    "    if len(chunk) == 0: break\n",
    "    (tmp,_) = np.histogram(chunk, bins=bins)\n",
    "    hist += tmp\n",
    "\n",
    "# Slice all the empty bins of the end\n",
    "last_idx = max([i for i,h in enumerate(hist) if h])\n",
    "(hist, bins) = (hist[:last_idx+1], bins[:last_idx+2])\n",
    "\n",
    "#  Plot for great justice!\n",
    "fig = plt.figure()\n",
    "\n",
    "# A loglog plot\n",
    "ax = fig.add_subplot(211)\n",
    "plt.loglog(bins[:-1], hist, 'x-', basey=YBASE, basex=XBASE)\n",
    "\n",
    "# A linear plot of 95% of the mass\n",
    "ax = fig.add_subplot(212)\n",
    "pp = max([i for i,x in enumerate((np.cumsum(hist) / sum(hist)) < 0.95) if x])\n",
    "plt.bar( bins[:-1] - bins[0], hist, width=bins[1:] - bins[:-1])\n",
    "plt.gca().set_xlim(0, XBASE ** pp  )\n",
    "\n",
    "plt.show()"
   ]
  },
  {
   "cell_type": "code",
   "execution_count": null,
   "metadata": {},
   "outputs": [],
   "source": []
  },
  {
   "cell_type": "code",
   "execution_count": null,
   "metadata": {},
   "outputs": [],
   "source": [
    "plt.hist(A, bins=100, log=True, range=(1,3));"
   ]
  },
  {
   "cell_type": "code",
   "execution_count": null,
   "metadata": {},
   "outputs": [],
   "source": [
    "H,X1 = np.histogram(BF, bins = 10, normed = True )\n",
    "dx = X1[1] - X1[0]\n",
    "F1 = np.cumsum(H)*dx\n",
    "plt.plot(X1[1:], F1)\n",
    "plt.show()"
   ]
  },
  {
   "cell_type": "code",
   "execution_count": null,
   "metadata": {},
   "outputs": [],
   "source": [
    "H,X1 = np.histogram(A, bins = 10, normed = True )\n",
    "dx = X1[1] - X1[0]\n",
    "F1 = np.cumsum(H)*dx\n",
    "plt.plot(X1[1:], F1)\n",
    "plt.show()"
   ]
  }
 ],
 "metadata": {
  "kernelspec": {
   "display_name": "Python 3",
   "language": "python",
   "name": "python3"
  },
  "language_info": {
   "codemirror_mode": {
    "name": "ipython",
    "version": 3
   },
   "file_extension": ".py",
   "mimetype": "text/x-python",
   "name": "python",
   "nbconvert_exporter": "python",
   "pygments_lexer": "ipython3",
   "version": "3.6.7"
  }
 },
 "nbformat": 4,
 "nbformat_minor": 2
}
