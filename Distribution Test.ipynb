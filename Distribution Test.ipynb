{
 "cells": [
  {
   "cell_type": "code",
   "execution_count": 23,
   "metadata": {},
   "outputs": [
    {
     "ename": "ModuleNotFoundError",
     "evalue": "No module named 'sklearn'",
     "output_type": "error",
     "traceback": [
      "\u001b[0;31m---------------------------------------------------------------------------\u001b[0m",
      "\u001b[0;31mModuleNotFoundError\u001b[0m                       Traceback (most recent call last)",
      "\u001b[0;32m<ipython-input-23-fe613f4ba648>\u001b[0m in \u001b[0;36m<module>\u001b[0;34m\u001b[0m\n\u001b[1;32m      3\u001b[0m \u001b[0;32mfrom\u001b[0m \u001b[0mscipy\u001b[0m\u001b[0;34m.\u001b[0m\u001b[0minterpolate\u001b[0m \u001b[0;32mimport\u001b[0m \u001b[0mUnivariateSpline\u001b[0m\u001b[0;34m\u001b[0m\u001b[0;34m\u001b[0m\u001b[0m\n\u001b[1;32m      4\u001b[0m \u001b[0;32mfrom\u001b[0m \u001b[0mscipy\u001b[0m\u001b[0;34m.\u001b[0m\u001b[0minterpolate\u001b[0m \u001b[0;32mimport\u001b[0m \u001b[0mmake_interp_spline\u001b[0m\u001b[0;34m,\u001b[0m \u001b[0mBSpline\u001b[0m\u001b[0;34m\u001b[0m\u001b[0;34m\u001b[0m\u001b[0m\n\u001b[0;32m----> 5\u001b[0;31m \u001b[0;32mfrom\u001b[0m \u001b[0msklearn\u001b[0m\u001b[0;34m.\u001b[0m\u001b[0mlinear_model\u001b[0m \u001b[0;32mimport\u001b[0m \u001b[0mElasticNet\u001b[0m\u001b[0;34m\u001b[0m\u001b[0;34m\u001b[0m\u001b[0m\n\u001b[0m",
      "\u001b[0;31mModuleNotFoundError\u001b[0m: No module named 'sklearn'"
     ]
    }
   ],
   "source": [
    "import numpy as np\n",
    "from matplotlib import pyplot as plt\n",
    "from scipy.interpolate import UnivariateSpline\n",
    "from scipy.interpolate import make_interp_spline, BSpline\n",
    "from sklearn.linear_model import ElasticNet"
   ]
  },
  {
   "cell_type": "markdown",
   "metadata": {},
   "source": [
    "$$\\frac{-\\Big[\\frac{-U}{\\lambda(2-q)} + 1\\Big]^{\\frac{1-q}{2-q}}}{\\lambda(1-q)}$$"
   ]
  },
  {
   "cell_type": "code",
   "execution_count": 2,
   "metadata": {},
   "outputs": [],
   "source": [
    "def inverse_cdf(λ, q, U):\n",
    "    k = -((-U/(λ*(2-q))) + 1)**((1-q)/(2-q))\n",
    "    return k/(λ*(1-q))"
   ]
  },
  {
   "cell_type": "markdown",
   "metadata": {},
   "source": [
    "$$(2-q)\\lambda e_{q}(-\\lambda x)$$\n",
    "\n",
    "$$e_{q} = [1 + (1 - q)x]^{1/(1-q)}$$"
   ]
  },
  {
   "cell_type": "code",
   "execution_count": 3,
   "metadata": {},
   "outputs": [],
   "source": [
    "def eq(x):\n",
    "    return (1 + (1 - q) * x)**(1/(1-q))\n",
    "\n",
    "def pdf(λ, q, x):\n",
    "    return (2 - q) * λ * eq(-λ*x)"
   ]
  },
  {
   "cell_type": "code",
   "execution_count": 4,
   "metadata": {},
   "outputs": [],
   "source": [
    "# Scott's bin size\n",
    "def bin_width(σ, n):\n",
    "    return 3.5 * (σ/(n**(1/3)))\n",
    "\n",
    "def num_of_bins(data):\n",
    "    σ = np.std(data)\n",
    "    n = len(data)\n",
    "    width = bin_width(σ, n)\n",
    "    return np.ceil((np.max(data) - np.min(data))/ width), width"
   ]
  },
  {
   "cell_type": "code",
   "execution_count": 5,
   "metadata": {},
   "outputs": [],
   "source": [
    "data = np.loadtxt(\"/home/marcio/qExp13_2.txt\", delimiter=',')"
   ]
  },
  {
   "cell_type": "code",
   "execution_count": 15,
   "metadata": {},
   "outputs": [],
   "source": [
    "sorted_data = np.sort(data)"
   ]
  },
  {
   "cell_type": "code",
   "execution_count": 16,
   "metadata": {},
   "outputs": [],
   "source": [
    "X = np.unique(sorted_data)"
   ]
  },
  {
   "cell_type": "code",
   "execution_count": 17,
   "metadata": {},
   "outputs": [
    {
     "data": {
      "text/plain": [
       "100000000"
      ]
     },
     "execution_count": 17,
     "metadata": {},
     "output_type": "execute_result"
    }
   ],
   "source": [
    "sorted_data.shape[0]"
   ]
  },
  {
   "cell_type": "code",
   "execution_count": 18,
   "metadata": {},
   "outputs": [],
   "source": [
    "i = 0\n",
    "count = 0\n",
    "Px = []\n",
    "for x in X:\n",
    "    while((i < sorted_data.shape[0]) and (x == sorted_data[i])):\n",
    "        count += 1\n",
    "        i += 1\n",
    "    Px.append(count)\n",
    "    count = 0"
   ]
  },
  {
   "cell_type": "code",
   "execution_count": 26,
   "metadata": {},
   "outputs": [],
   "source": [
    "λ = 2\n",
    "q = 1.3"
   ]
  },
  {
   "cell_type": "code",
   "execution_count": 20,
   "metadata": {},
   "outputs": [],
   "source": [
    "hist, bins = np.histogram(data, 10000)"
   ]
  },
  {
   "cell_type": "code",
   "execution_count": 21,
   "metadata": {},
   "outputs": [
    {
     "data": {
      "text/plain": [
       "array([88608366,        0,        0, ...,        0,        0,        1])"
      ]
     },
     "execution_count": 21,
     "metadata": {},
     "output_type": "execute_result"
    }
   ],
   "source": [
    "hist"
   ]
  },
  {
   "cell_type": "code",
   "execution_count": null,
   "metadata": {},
   "outputs": [],
   "source": [
    "elastic_net = ElasticNet(alpha=0.1, l1_ratio=0.5)\n",
    "elastic_net.fit(X, y)\n",
    "elastic_net.predict([[1.5]])"
   ]
  },
  {
   "cell_type": "code",
   "execution_count": 32,
   "metadata": {},
   "outputs": [],
   "source": [
    "Px = np.array(Px)"
   ]
  },
  {
   "cell_type": "code",
   "execution_count": 33,
   "metadata": {},
   "outputs": [
    {
     "data": {
      "text/plain": [
       "array([1.77928446e+05, 1.06440402e+04, 4.78131526e+03, 2.49887952e+03,\n",
       "       1.45543775e+03, 9.14933735e+02, 6.08345382e+02, 4.20863454e+02,\n",
       "       3.04650602e+02, 2.26048193e+02, 1.70977912e+02, 1.33236948e+02,\n",
       "       1.05425703e+02, 8.43955823e+01, 6.87610442e+01, 5.69518072e+01,\n",
       "       4.69176707e+01, 3.93393574e+01, 3.32329317e+01, 2.88293173e+01,\n",
       "       2.45682731e+01, 2.15642570e+01, 1.83835341e+01, 1.61285141e+01,\n",
       "       1.43453815e+01, 1.26606426e+01, 1.09477912e+01, 9.99196787e+00,\n",
       "       8.89357430e+00, 8.07429719e+00, 7.37349398e+00, 6.57228916e+00,\n",
       "       6.07630522e+00, 5.54016064e+00, 4.91365462e+00, 4.68875502e+00,\n",
       "       4.19879518e+00, 3.93373494e+00, 3.46184739e+00, 3.26305221e+00,\n",
       "       3.12048193e+00, 2.71485944e+00, 2.59638554e+00, 2.36947791e+00,\n",
       "       2.35140562e+00, 2.09638554e+00, 1.96385542e+00, 1.78915663e+00,\n",
       "       1.69879518e+00, 1.48795181e+00, 1.46586345e+00, 1.41566265e+00,\n",
       "       1.28514056e+00, 1.24899598e+00, 1.23293173e+00, 1.04417671e+00,\n",
       "       1.10843373e+00, 1.03413655e+00, 9.91967871e-01, 9.11646586e-01,\n",
       "       7.97188755e-01, 8.01204819e-01, 7.48995984e-01, 7.14859438e-01,\n",
       "       6.60642570e-01, 6.94779116e-01, 6.26506024e-01, 5.60240964e-01,\n",
       "       5.72289157e-01, 5.86345382e-01, 5.10040161e-01, 4.89959839e-01,\n",
       "       4.15662651e-01, 4.09638554e-01, 4.21686747e-01, 4.19678715e-01,\n",
       "       3.47389558e-01, 3.95582329e-01, 3.67469880e-01, 3.21285141e-01,\n",
       "       3.15261044e-01, 3.23293173e-01, 3.17269076e-01, 3.01204819e-01,\n",
       "       2.75100402e-01, 2.61044177e-01, 2.40963855e-01, 2.42971888e-01,\n",
       "       2.61044177e-01, 2.26907631e-01, 1.64658635e-01, 2.30923695e-01,\n",
       "       2.26907631e-01, 2.10843373e-01, 1.90763052e-01, 1.52610442e-01,\n",
       "       1.66666667e-01, 1.76706827e-01, 1.50602410e-01, 1.68674699e-01,\n",
       "       1.34538153e-01, 1.76706827e-01, 1.38554217e-01, 1.30522088e-01,\n",
       "       1.62650602e-01, 1.30522088e-01, 1.08433735e-01, 1.26506024e-01,\n",
       "       1.22489960e-01, 1.18473896e-01, 1.14457831e-01, 1.48594378e-01,\n",
       "       9.23694779e-02, 1.34538153e-01, 1.00401606e-01, 1.26506024e-01,\n",
       "       1.02409639e-01, 9.43775100e-02, 1.10441767e-01, 8.43373494e-02,\n",
       "       7.63052209e-02, 9.23694779e-02, 9.23694779e-02, 9.03614458e-02,\n",
       "       8.03212851e-02, 9.03614458e-02, 6.62650602e-02, 8.43373494e-02,\n",
       "       7.22891566e-02, 6.82730924e-02, 8.83534137e-02, 6.82730924e-02,\n",
       "       4.21686747e-02, 6.02409639e-02, 6.82730924e-02, 5.02008032e-02,\n",
       "       4.81927711e-02, 7.22891566e-02, 3.61445783e-02, 6.62650602e-02,\n",
       "       5.42168675e-02, 5.22088353e-02, 5.82329317e-02, 3.01204819e-02,\n",
       "       3.01204819e-02, 7.02811245e-02, 4.61847390e-02, 3.81526104e-02,\n",
       "       4.21686747e-02, 5.62248996e-02, 5.02008032e-02, 3.81526104e-02,\n",
       "       4.21686747e-02, 3.61445783e-02, 2.20883534e-02, 5.02008032e-02,\n",
       "       4.01606426e-02, 4.21686747e-02, 3.21285141e-02, 2.20883534e-02,\n",
       "       5.22088353e-02, 2.61044177e-02, 3.41365462e-02, 2.81124498e-02,\n",
       "       2.20883534e-02, 2.20883534e-02, 2.00803213e-02, 2.40963855e-02,\n",
       "       1.80722892e-02, 3.01204819e-02, 3.01204819e-02, 2.20883534e-02,\n",
       "       3.01204819e-02, 5.22088353e-02, 3.81526104e-02, 3.41365462e-02,\n",
       "       2.00803213e-02, 3.21285141e-02, 2.40963855e-02, 2.20883534e-02,\n",
       "       2.20883534e-02, 2.20883534e-02, 2.61044177e-02, 2.81124498e-02,\n",
       "       1.60642570e-02, 2.00803213e-02, 2.61044177e-02, 2.40963855e-02,\n",
       "       1.60642570e-02, 2.00803213e-02, 2.61044177e-02, 1.20481928e-02,\n",
       "       2.00803213e-02, 1.60642570e-02, 1.40562249e-02, 1.20481928e-02,\n",
       "       1.20481928e-02, 3.81526104e-02, 1.20481928e-02, 2.20883534e-02,\n",
       "       1.40562249e-02, 2.00803213e-02, 1.80722892e-02, 1.20481928e-02,\n",
       "       3.21285141e-02, 1.40562249e-02, 1.80722892e-02, 1.20481928e-02,\n",
       "       8.03212851e-03, 1.40562249e-02, 2.00803213e-02, 8.03212851e-03,\n",
       "       1.40562249e-02, 2.20883534e-02, 1.40562249e-02, 8.03212851e-03,\n",
       "       8.03212851e-03, 1.20481928e-02, 6.02409639e-03, 8.03212851e-03,\n",
       "       1.60642570e-02, 2.00803213e-02, 1.40562249e-02, 1.80722892e-02,\n",
       "       1.40562249e-02, 1.60642570e-02, 1.20481928e-02, 1.40562249e-02,\n",
       "       1.00401606e-02, 1.40562249e-02, 2.00803213e-03, 1.40562249e-02,\n",
       "       8.03212851e-03, 6.02409639e-03, 1.00401606e-02, 1.20481928e-02,\n",
       "       1.00401606e-02, 1.20481928e-02, 1.60642570e-02, 4.01606426e-03,\n",
       "       1.00401606e-02, 6.02409639e-03, 1.20481928e-02, 8.03212851e-03,\n",
       "       8.03212851e-03, 6.02409639e-03, 1.40562249e-02, 1.00401606e-02,\n",
       "       6.02409639e-03, 1.00401606e-02, 8.03212851e-03, 2.00803213e-03,\n",
       "       1.00401606e-02, 6.02409639e-03, 1.60642570e-02, 8.03212851e-03,\n",
       "       4.01606426e-03, 1.60642570e-02, 2.00803213e-03, 8.03212851e-03,\n",
       "       8.03212851e-03, 6.02409639e-03, 8.03212851e-03, 1.60642570e-02,\n",
       "       1.00401606e-02, 8.03212851e-03, 8.03212851e-03, 1.00401606e-02,\n",
       "       2.00803213e-03, 4.01606426e-03, 2.00803213e-03, 1.00401606e-02,\n",
       "       8.03212851e-03, 2.00803213e-03, 4.01606426e-03, 4.01606426e-03,\n",
       "       6.02409639e-03, 2.00803213e-03, 6.02409639e-03, 6.02409639e-03,\n",
       "       4.01606426e-03, 4.01606426e-03, 2.00803213e-03, 2.00803213e-03,\n",
       "       8.03212851e-03, 2.00803213e-03, 6.02409639e-03, 4.01606426e-03,\n",
       "       1.00401606e-02, 6.02409639e-03, 2.00803213e-03, 8.03212851e-03,\n",
       "       4.01606426e-03, 6.02409639e-03, 6.02409639e-03, 6.02409639e-03,\n",
       "       4.01606426e-03, 4.01606426e-03, 4.01606426e-03, 1.00401606e-02,\n",
       "       2.00803213e-03, 4.01606426e-03, 4.01606426e-03, 2.00803213e-03,\n",
       "       2.00803213e-03, 4.01606426e-03, 2.00803213e-03, 2.00803213e-03,\n",
       "       4.01606426e-03, 6.02409639e-03, 4.01606426e-03, 4.01606426e-03,\n",
       "       4.01606426e-03, 6.02409639e-03, 2.00803213e-03, 4.01606426e-03,\n",
       "       2.00803213e-03, 4.01606426e-03, 4.01606426e-03, 2.00803213e-03,\n",
       "       2.00803213e-03, 8.03212851e-03, 2.00803213e-03, 4.01606426e-03,\n",
       "       2.00803213e-03, 6.02409639e-03, 4.01606426e-03, 6.02409639e-03,\n",
       "       6.02409639e-03, 2.00803213e-03, 4.01606426e-03, 2.00803213e-03,\n",
       "       2.00803213e-03, 4.01606426e-03, 8.03212851e-03, 6.02409639e-03,\n",
       "       2.00803213e-03, 2.00803213e-03, 6.02409639e-03, 4.01606426e-03,\n",
       "       2.00803213e-03, 2.00803213e-03, 4.01606426e-03, 4.01606426e-03,\n",
       "       2.00803213e-03, 2.00803213e-03, 1.20481928e-02, 8.03212851e-03,\n",
       "       4.01606426e-03, 2.00803213e-03, 2.00803213e-03, 2.00803213e-03,\n",
       "       2.00803213e-03, 2.00803213e-03, 2.00803213e-03, 2.00803213e-03,\n",
       "       4.01606426e-03, 2.00803213e-03, 4.01606426e-03, 4.01606426e-03,\n",
       "       2.00803213e-03, 2.00803213e-03, 1.00401606e-02, 4.01606426e-03,\n",
       "       4.01606426e-03, 2.00803213e-03, 2.00803213e-03, 2.00803213e-03,\n",
       "       6.02409639e-03, 6.02409639e-03, 2.00803213e-03, 2.00803213e-03,\n",
       "       2.00803213e-03, 2.00803213e-03, 2.00803213e-03, 2.00803213e-03,\n",
       "       2.00803213e-03, 2.00803213e-03, 2.00803213e-03, 2.00803213e-03,\n",
       "       4.01606426e-03, 4.01606426e-03, 2.00803213e-03, 2.00803213e-03,\n",
       "       2.00803213e-03, 2.00803213e-03, 4.01606426e-03, 2.00803213e-03,\n",
       "       2.00803213e-03, 2.00803213e-03, 4.01606426e-03, 2.00803213e-03,\n",
       "       2.00803213e-03, 2.00803213e-03, 2.00803213e-03, 4.01606426e-03,\n",
       "       4.01606426e-03, 4.01606426e-03, 4.01606426e-03, 2.00803213e-03,\n",
       "       6.02409639e-03, 4.01606426e-03, 4.01606426e-03, 2.00803213e-03,\n",
       "       2.00803213e-03, 2.00803213e-03, 2.00803213e-03, 2.00803213e-03,\n",
       "       2.00803213e-03, 2.00803213e-03, 2.00803213e-03, 4.01606426e-03,\n",
       "       2.00803213e-03, 2.00803213e-03, 2.00803213e-03, 2.00803213e-03,\n",
       "       2.00803213e-03, 2.00803213e-03, 2.00803213e-03, 2.00803213e-03,\n",
       "       2.00803213e-03, 2.00803213e-03, 2.00803213e-03, 2.00803213e-03,\n",
       "       4.01606426e-03, 4.01606426e-03, 2.00803213e-03, 4.01606426e-03,\n",
       "       4.01606426e-03, 2.00803213e-03, 2.00803213e-03, 4.01606426e-03,\n",
       "       2.00803213e-03, 2.00803213e-03, 2.00803213e-03, 4.01606426e-03,\n",
       "       2.00803213e-03, 2.00803213e-03, 6.02409639e-03, 2.00803213e-03,\n",
       "       2.00803213e-03, 2.00803213e-03, 2.00803213e-03, 2.00803213e-03,\n",
       "       2.00803213e-03, 2.00803213e-03, 4.01606426e-03, 2.00803213e-03,\n",
       "       2.00803213e-03, 2.00803213e-03, 2.00803213e-03, 2.00803213e-03,\n",
       "       2.00803213e-03, 2.00803213e-03, 4.01606426e-03, 6.02409639e-03,\n",
       "       2.00803213e-03, 2.00803213e-03, 2.00803213e-03, 2.00803213e-03,\n",
       "       2.00803213e-03, 2.00803213e-03, 2.00803213e-03, 2.00803213e-03,\n",
       "       2.00803213e-03, 2.00803213e-03, 2.00803213e-03, 2.00803213e-03,\n",
       "       2.00803213e-03, 2.00803213e-03, 2.00803213e-03, 4.01606426e-03,\n",
       "       2.00803213e-03, 2.00803213e-03, 2.00803213e-03, 2.00803213e-03,\n",
       "       2.00803213e-03, 2.00803213e-03, 2.00803213e-03, 2.00803213e-03,\n",
       "       2.00803213e-03, 2.00803213e-03, 2.00803213e-03, 2.00803213e-03,\n",
       "       2.00803213e-03, 2.00803213e-03, 2.00803213e-03, 2.00803213e-03,\n",
       "       2.00803213e-03, 2.00803213e-03, 2.00803213e-03, 2.00803213e-03,\n",
       "       2.00803213e-03, 2.00803213e-03, 2.00803213e-03, 2.00803213e-03,\n",
       "       2.00803213e-03, 2.00803213e-03])"
      ]
     },
     "execution_count": 33,
     "metadata": {},
     "output_type": "execute_result"
    }
   ],
   "source": [
    "Px/len(Px)"
   ]
  },
  {
   "cell_type": "code",
   "execution_count": 35,
   "metadata": {},
   "outputs": [
    {
     "name": "stderr",
     "output_type": "stream",
     "text": [
      "/usr/local/lib/python3.6/dist-packages/ipykernel_launcher.py:6: UserWarning: Attempted to set non-positive left xlim on a log-scaled axis.\n",
      "Invalid limit will be ignored.\n",
      "  \n"
     ]
    },
    {
     "data": {
      "text/plain": [
       "(0.6697954707568259, 1000)"
      ]
     },
     "execution_count": 35,
     "metadata": {},
     "output_type": "execute_result"
    },
    {
     "data": {
      "image/png": "[encoded data removed]",
      "text/plain": [
       "<Figure size 432x288 with 1 Axes>"
      ]
     },
     "metadata": {
      "needs_background": "light"
     },
     "output_type": "display_data"
    }
   ],
   "source": [
    "# plt.plot(bins[:-1], hist);\n",
    "plt.plot(X, Px/len(data));\n",
    "plt.plot(X, pdf(λ, q, X))\n",
    "plt.xscale('log')\n",
    "plt.yscale('log')\n",
    "plt.xlim(0, 1000)"
   ]
  },
  {
   "cell_type": "code",
   "execution_count": null,
   "metadata": {},
   "outputs": [],
   "source": [
    "U = np.random.uniform(0,1,10000000)\n",
    "λ = 2\n",
    "q = 1.3"
   ]
  },
  {
   "cell_type": "code",
   "execution_count": null,
   "metadata": {},
   "outputs": [],
   "source": [
    "A_ = inverse_cdf(λ, q, U)"
   ]
  },
  {
   "cell_type": "code",
   "execution_count": null,
   "metadata": {},
   "outputs": [],
   "source": [
    "A_sorted = np.sort(A)"
   ]
  },
  {
   "cell_type": "code",
   "execution_count": null,
   "metadata": {},
   "outputs": [],
   "source": []
  },
  {
   "cell_type": "code",
   "execution_count": null,
   "metadata": {},
   "outputs": [],
   "source": [
    "[i*10 for i in range(20//10 + 1)]"
   ]
  },
  {
   "cell_type": "code",
   "execution_count": null,
   "metadata": {},
   "outputs": [],
   "source": [
    "X.max()"
   ]
  },
  {
   "cell_type": "code",
   "execution_count": null,
   "metadata": {},
   "outputs": [],
   "source": [
    "count = 0\n",
    "X = np.array([0])\n",
    "P = np.array([])\n",
    "n = 100\n",
    "for i in range(X):\n",
    "    while"
   ]
  },
  {
   "cell_type": "code",
   "execution_count": null,
   "metadata": {},
   "outputs": [],
   "source": [
    "widths"
   ]
  },
  {
   "cell_type": "code",
   "execution_count": null,
   "metadata": {},
   "outputs": [],
   "source": [
    "b = np.linspace(0,9, 10)\n",
    "w = (b[1:] - b[:-1])"
   ]
  },
  {
   "cell_type": "code",
   "execution_count": null,
   "metadata": {},
   "outputs": [],
   "source": [
    "len(b)"
   ]
  },
  {
   "cell_type": "code",
   "execution_count": null,
   "metadata": {},
   "outputs": [],
   "source": [
    "data = A\n",
    "# log-scaled bins\n",
    "bins = np.logspace(0, 3, 50)\n",
    "widths = (bins[1:] - bins[:-1])"
   ]
  },
  {
   "cell_type": "code",
   "execution_count": null,
   "metadata": {},
   "outputs": [],
   "source": [
    "bins"
   ]
  },
  {
   "cell_type": "code",
   "execution_count": null,
   "metadata": {},
   "outputs": [],
   "source": [
    "# Calculate histogram\n",
    "discrete = np.histogram(data, bins=bins)"
   ]
  },
  {
   "cell_type": "code",
   "execution_count": null,
   "metadata": {},
   "outputs": [],
   "source": [
    "discrete"
   ]
  },
  {
   "cell_type": "code",
   "execution_count": null,
   "metadata": {},
   "outputs": [],
   "source": [
    "λ = 2\n",
    "q = 1.3\n",
    "continuous = pdf(λ, q, np.linspace(0, 1000000000, discrete[0].shape[0]))"
   ]
  },
  {
   "cell_type": "code",
   "execution_count": null,
   "metadata": {},
   "outputs": [],
   "source": [
    "continuous"
   ]
  },
  {
   "cell_type": "code",
   "execution_count": null,
   "metadata": {},
   "outputs": [],
   "source": [
    "np.linspace(0, 1000000000, discrete[0].shape[0])"
   ]
  },
  {
   "cell_type": "code",
   "execution_count": null,
   "metadata": {},
   "outputs": [],
   "source": [
    "continuous"
   ]
  },
  {
   "cell_type": "code",
   "execution_count": null,
   "metadata": {},
   "outputs": [],
   "source": [
    "# normalize by bin width\n",
    "discrete_norm = discrete[0]/widths\n",
    "continuous\n",
    "# values_norm2 = values2[:-1]/widths"
   ]
  },
  {
   "cell_type": "code",
   "execution_count": null,
   "metadata": {},
   "outputs": [],
   "source": [
    "result = np.where(discrete_norm == 0)\n",
    "discrete_norm_w0 = np.delete(discrete_norm, result)\n",
    "bins_w0 = np.delete(bins[:-1], result)\n",
    "# xnew = np.linspace(0,bins_del.max(),300)\n",
    "# spl = make_interp_spline(bins_del, hist_norm_del, k=3)\n",
    "# f = UnivariateSpline(bins_del, hist_norm_del, s=n)"
   ]
  },
  {
   "cell_type": "code",
   "execution_count": null,
   "metadata": {},
   "outputs": [],
   "source": [
    "# plot it!\n",
    "fig = plt.figure(figsize=(8, 8))\n",
    "ax = fig.add_subplot(111) \n",
    "ax.plot(bins[:-1], discrete[0], alpha=0.3, color='#001072')\n",
    "# ax.plot(bins_w0, discrete_norm_w0, color='#001072', label='Discrete')\n",
    "plt.title(\"Parâmetros: $\\lambda$: \" + str(λ) + \", q: \" + str(q) + \", $x_{min}$: 0\")\n",
    "ax.plot(bins[:-1], continuous, color='#FF007F', label='Continuous')\n",
    "# ax.plot(bins[:-1], values_norm2)\n",
    "ax.legend()\n",
    "plt.xscale('log')\n",
    "plt.yscale('log')\n",
    "plt.savefig(\"Observ4.jpg\", format='jpg', dpi=1200, bbox_inches = 'tight')\n",
    "plt.show()"
   ]
  },
  {
   "cell_type": "code",
   "execution_count": null,
   "metadata": {},
   "outputs": [],
   "source": [
    "np.logspace(0, 3, 50)"
   ]
  },
  {
   "cell_type": "code",
   "execution_count": null,
   "metadata": {},
   "outputs": [],
   "source": [
    "import numpy as np\n",
    "import matplotlib.pyplot as plt\n",
    "import itertools as it\n",
    "\n",
    "# We shall draw millions of samples from a Zipf distribution.  Using linear \n",
    "# bins this is too much data for a fast and attactive plot.\n",
    "\n",
    "# Generator for zipfian data\n",
    "X = (np.random.zipf(1.5) for _ in range(0, 5000000))\n",
    "X = A\n",
    "# Expected range of values\n",
    "MIN_VALUE = 1\n",
    "MAX_VALUE = 2.0 ** 64\n",
    "\n",
    "# Log base we shall be using though-out\n",
    "XBASE = 2\n",
    "YBASE = 10\n",
    "\n",
    "# Calculate the min and max powers:\n",
    "start_power = np.floor(np.log(MIN_VALUE) / np.log(XBASE))\n",
    "end_power = np.ceil(np.log(MAX_VALUE) / np.log(XBASE))\n",
    "# ...and number of whole integer powers in that range\n",
    "num_bins = (end_power - start_power) + 1\n",
    "\n",
    "#  Generated a range of delimiters in log space\n",
    "bins = np.logspace(start_power, end_power, num_bins, base=XBASE)\n",
    "\n",
    "#  Iteratively generate the the histogram in 1k chunks\n",
    "hist = np.zeros(len(bins) - 1)\n",
    "while True:\n",
    "    chunk = list(it.islice(X, 1000))\n",
    "    if len(chunk) == 0: break\n",
    "    (tmp,_) = np.histogram(chunk, bins=bins)\n",
    "    hist += tmp\n",
    "\n",
    "# Slice all the empty bins of the end\n",
    "last_idx = max([i for i,h in enumerate(hist) if h])\n",
    "(hist, bins) = (hist[:last_idx+1], bins[:last_idx+2])\n",
    "\n",
    "#  Plot for great justice!\n",
    "fig = plt.figure()\n",
    "\n",
    "# A loglog plot\n",
    "ax = fig.add_subplot(211)\n",
    "plt.loglog(bins[:-1], hist, 'x-', basey=YBASE, basex=XBASE)\n",
    "\n",
    "# A linear plot of 95% of the mass\n",
    "ax = fig.add_subplot(212)\n",
    "pp = max([i for i,x in enumerate((np.cumsum(hist) / sum(hist)) < 0.95) if x])\n",
    "plt.bar( bins[:-1] - bins[0], hist, width=bins[1:] - bins[:-1])\n",
    "plt.gca().set_xlim(0, XBASE ** pp  )\n",
    "\n",
    "plt.show()"
   ]
  },
  {
   "cell_type": "code",
   "execution_count": null,
   "metadata": {},
   "outputs": [],
   "source": []
  },
  {
   "cell_type": "code",
   "execution_count": null,
   "metadata": {},
   "outputs": [],
   "source": [
    "plt.hist(A, bins=100, log=True, range=(1,3));"
   ]
  },
  {
   "cell_type": "code",
   "execution_count": null,
   "metadata": {},
   "outputs": [],
   "source": [
    "H,X1 = np.histogram(BF, bins = 10, normed = True )\n",
    "dx = X1[1] - X1[0]\n",
    "F1 = np.cumsum(H)*dx\n",
    "plt.plot(X1[1:], F1)\n",
    "plt.show()"
   ]
  },
  {
   "cell_type": "code",
   "execution_count": null,
   "metadata": {},
   "outputs": [],
   "source": [
    "H,X1 = np.histogram(A, bins = 10, normed = True )\n",
    "dx = X1[1] - X1[0]\n",
    "F1 = np.cumsum(H)*dx\n",
    "plt.plot(X1[1:], F1)\n",
    "plt.show()"
   ]
  }
 ],
 "metadata": {
  "kernelspec": {
   "display_name": "Python 3",
   "language": "python",
   "name": "python3"
  },
  "language_info": {
   "codemirror_mode": {
    "name": "ipython",
    "version": 3
   },
   "file_extension": ".py",
   "mimetype": "text/x-python",
   "name": "python",
   "nbconvert_exporter": "python",
   "pygments_lexer": "ipython3",
   "version": "3.6.7"
  }
 },
 "nbformat": 4,
 "nbformat_minor": 2
}
